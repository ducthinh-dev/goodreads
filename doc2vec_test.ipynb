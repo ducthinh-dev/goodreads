{
 "cells": [
  {
   "attachments": {},
   "cell_type": "markdown",
   "metadata": {},
   "source": [
    "### LIB & CONNECTOR"
   ]
  },
  {
   "cell_type": "code",
   "execution_count": 1,
   "metadata": {},
   "outputs": [],
   "source": [
    "from IPython.display import clear_output\n",
    "import pandas as pd\n",
    "import numpy as np\n",
    "import sqlalchemy as sa\n",
    "import mysql.connector\n",
    "import getpass"
   ]
  },
  {
   "cell_type": "code",
   "execution_count": 2,
   "metadata": {},
   "outputs": [],
   "source": [
    "import math\n",
    "import numpy as np\n",
    "from gensim.models import Word2Vec\n",
    "from gensim.test.utils import common_texts\n",
    "from nltk import word_tokenize\n",
    "from sklearn.metrics.pairwise import cosine_similarity\n",
    "from sklearn.cluster import KMeans\n",
    "import warnings\n",
    "warnings.filterwarnings(\"ignore\")"
   ]
  },
  {
   "cell_type": "code",
   "execution_count": 3,
   "metadata": {},
   "outputs": [],
   "source": [
    "from sklearn.cluster import DBSCAN\n",
    "from sklearn.cluster import KMeans\n",
    "from sklearn.metrics.pairwise import cosine_distances\n",
    "from sklearn.metrics import silhouette_score\n",
    "import matplotlib.pyplot as plt\n",
    "from hdbscan import HDBSCAN"
   ]
  },
  {
   "cell_type": "code",
   "execution_count": 4,
   "metadata": {},
   "outputs": [],
   "source": [
    "from gensim.models.doc2vec import Doc2Vec, TaggedDocument"
   ]
  },
  {
   "cell_type": "code",
   "execution_count": 5,
   "metadata": {},
   "outputs": [],
   "source": [
    "HOST = 'localhost'\n",
    "USER = 'root'\n",
    "DATABASE = 'goodreads'\n",
    "PASSWORD = getpass.getpass(f'Enter password for {USER}: ')"
   ]
  },
  {
   "cell_type": "code",
   "execution_count": 6,
   "metadata": {},
   "outputs": [
    {
     "name": "stdout",
     "output_type": "stream",
     "text": [
      "Current time:  2023-06-07 10:19:10\n"
     ]
    }
   ],
   "source": [
    "def getconn():\n",
    "    conn = mysql.connector.connect(\n",
    "        host=HOST,\n",
    "        user=USER,\n",
    "        password=PASSWORD,\n",
    "        database=DATABASE\n",
    "    )\n",
    "    return conn\n",
    "\n",
    "pool = sa.create_engine(\n",
    "    \"mysql+mysqlconnector://\",\n",
    "    creator=getconn,\n",
    ")\n",
    "\n",
    "with pool.connect() as db_conn:\n",
    "    results = db_conn.execute(sa.text(\"SELECT NOW()\")).fetchone()\n",
    "    print(\"Current time: \", results[0])"
   ]
  },
  {
   "attachments": {},
   "cell_type": "markdown",
   "metadata": {},
   "source": [
    "### DATA"
   ]
  },
  {
   "cell_type": "code",
   "execution_count": 7,
   "metadata": {},
   "outputs": [],
   "source": [
    "books_query = sa.text(\n",
    "    \"SELECT * FROM books;\"\n",
    ")\n",
    "books_df = pd.read_sql_query(books_query, con=pool.connect())"
   ]
  },
  {
   "cell_type": "code",
   "execution_count": 8,
   "metadata": {},
   "outputs": [],
   "source": [
    "query = sa.text(\n",
    "    \"SELECT * FROM processed_description;\"\n",
    ")\n",
    "descriptions_df = pd.read_sql_query(query, con=pool.connect())\n",
    "descriptions = descriptions_df.processed_descr.tolist()\n",
    "book_ids = descriptions_df.goodreads_book_id.tolist()"
   ]
  },
  {
   "cell_type": "code",
   "execution_count": 9,
   "metadata": {},
   "outputs": [],
   "source": [
    "user_id_query = sa.text(\n",
    "    \"SELECT DISTINCT(user_id) FROM new_ratings_;\"\n",
    ")\n",
    "user_id_df = pd.read_sql_query(user_id_query, con=pool.connect())\n",
    "user_id_list = user_id_df.user_id.tolist()"
   ]
  },
  {
   "cell_type": "code",
   "execution_count": 10,
   "metadata": {},
   "outputs": [],
   "source": [
    "query = sa.text(\n",
    "    \"SELECT user_id, goodreads_book_id, (rating * 0.2) as rating from new_ratings_;\"\n",
    ")\n",
    "user_ratings = pd.read_sql_query(query, con=pool.connect())"
   ]
  },
  {
   "attachments": {},
   "cell_type": "markdown",
   "metadata": {},
   "source": [
    "### MODEL"
   ]
  },
  {
   "cell_type": "code",
   "execution_count": 11,
   "metadata": {},
   "outputs": [],
   "source": [
    "documents = [TaggedDocument(doc, [index]) for index, doc in enumerate(descriptions)]\n",
    "model = Doc2Vec(documents, vector_size=50, window=5, min_count=3, workers=4, epochs=5)"
   ]
  },
  {
   "cell_type": "code",
   "execution_count": 12,
   "metadata": {},
   "outputs": [],
   "source": [
    "docvecs = []\n",
    "for i in range(0, 9814):\n",
    "    docvecs.append(model.docvecs[i])"
   ]
  },
  {
   "cell_type": "code",
   "execution_count": 15,
   "metadata": {},
   "outputs": [],
   "source": [
    "# ids = descriptions_df.goodreads_book_id.tolist()\n",
    "# indices = pd.Series(descriptions_df.index, index=ids)\n",
    "# sim_matrix = cosine_similarity(docvecs)\n",
    "# idx = indices[4214]\n",
    "# sim_scores = list(enumerate(sim_matrix[idx]))\n",
    "# sim_scores = sorted(sim_scores, key=lambda x: x[1], reverse=True)\n",
    "# # sim_scores = sim_scores[1:10]\n",
    "# item_indices = [i[0] for i in sim_scores[1:3]]\n",
    "\n",
    "# # GET RECOMMENDS\n",
    "# recommends = books_df.loc[books_df.goodreads_book_id == '4214']\n",
    "# items = descriptions_df.iloc[item_indices].goodreads_book_id.tolist()\n",
    "# for index in items:\n",
    "#     # query = sa.text(\n",
    "#     #     f\"SELECT * FROM books WHERE goodreads_book_id = {index};\"\n",
    "#     # )\n",
    "#     # temp = pd.read_sql_query(query, con=pool.connect())\n",
    "#     temp = books_df.loc[books_df.goodreads_book_id == str(index)]\n",
    "#     recommends = pd.concat([recommends, temp])\n",
    "# display(recommends)"
   ]
  },
  {
   "cell_type": "code",
   "execution_count": 13,
   "metadata": {},
   "outputs": [],
   "source": [
    "ids_dict = {key: value for value, key in enumerate(book_ids)}"
   ]
  },
  {
   "cell_type": "code",
   "execution_count": 15,
   "metadata": {},
   "outputs": [],
   "source": [
    "user_1 = user_ratings.loc[user_ratings.user_id == '1']\n",
    "user_1_books = user_1.goodreads_book_id.tolist()\n",
    "user_1_vecs = [docvecs[ids_dict[int(id)]] for id in user_1_books]\n",
    "user_1_profile = pd.DataFrame(user_1_vecs, columns=range(0,50))"
   ]
  },
  {
   "cell_type": "code",
   "execution_count": 17,
   "metadata": {},
   "outputs": [
    {
     "data": {
      "text/html": [
       "<div>\n",
       "<style scoped>\n",
       "    .dataframe tbody tr th:only-of-type {\n",
       "        vertical-align: middle;\n",
       "    }\n",
       "\n",
       "    .dataframe tbody tr th {\n",
       "        vertical-align: top;\n",
       "    }\n",
       "\n",
       "    .dataframe thead th {\n",
       "        text-align: right;\n",
       "    }\n",
       "</style>\n",
       "<table border=\"1\" class=\"dataframe\">\n",
       "  <thead>\n",
       "    <tr style=\"text-align: right;\">\n",
       "      <th></th>\n",
       "      <th>0</th>\n",
       "      <th>1</th>\n",
       "      <th>2</th>\n",
       "      <th>3</th>\n",
       "      <th>4</th>\n",
       "      <th>5</th>\n",
       "      <th>6</th>\n",
       "      <th>7</th>\n",
       "      <th>8</th>\n",
       "      <th>9</th>\n",
       "      <th>...</th>\n",
       "      <th>41</th>\n",
       "      <th>42</th>\n",
       "      <th>43</th>\n",
       "      <th>44</th>\n",
       "      <th>45</th>\n",
       "      <th>46</th>\n",
       "      <th>47</th>\n",
       "      <th>48</th>\n",
       "      <th>49</th>\n",
       "      <th>rating</th>\n",
       "    </tr>\n",
       "  </thead>\n",
       "  <tbody>\n",
       "    <tr>\n",
       "      <th>0</th>\n",
       "      <td>0.014240</td>\n",
       "      <td>-0.064749</td>\n",
       "      <td>-0.088570</td>\n",
       "      <td>0.078107</td>\n",
       "      <td>-0.016659</td>\n",
       "      <td>0.028966</td>\n",
       "      <td>-0.019114</td>\n",
       "      <td>0.003012</td>\n",
       "      <td>-0.034805</td>\n",
       "      <td>-0.004169</td>\n",
       "      <td>...</td>\n",
       "      <td>0.045016</td>\n",
       "      <td>0.012310</td>\n",
       "      <td>0.037559</td>\n",
       "      <td>0.233561</td>\n",
       "      <td>0.031068</td>\n",
       "      <td>0.132570</td>\n",
       "      <td>0.050284</td>\n",
       "      <td>0.106182</td>\n",
       "      <td>-0.072444</td>\n",
       "      <td>0.8</td>\n",
       "    </tr>\n",
       "    <tr>\n",
       "      <th>1</th>\n",
       "      <td>0.008835</td>\n",
       "      <td>-0.138932</td>\n",
       "      <td>-0.058660</td>\n",
       "      <td>0.022575</td>\n",
       "      <td>-0.009486</td>\n",
       "      <td>0.062698</td>\n",
       "      <td>-0.004848</td>\n",
       "      <td>0.082970</td>\n",
       "      <td>-0.005111</td>\n",
       "      <td>0.038003</td>\n",
       "      <td>...</td>\n",
       "      <td>0.053243</td>\n",
       "      <td>-0.049654</td>\n",
       "      <td>-0.039993</td>\n",
       "      <td>0.165860</td>\n",
       "      <td>0.066175</td>\n",
       "      <td>0.134577</td>\n",
       "      <td>0.066020</td>\n",
       "      <td>0.032832</td>\n",
       "      <td>-0.065835</td>\n",
       "      <td>0.6</td>\n",
       "    </tr>\n",
       "    <tr>\n",
       "      <th>2</th>\n",
       "      <td>-0.010517</td>\n",
       "      <td>-0.113985</td>\n",
       "      <td>0.005687</td>\n",
       "      <td>0.096157</td>\n",
       "      <td>0.002216</td>\n",
       "      <td>0.111049</td>\n",
       "      <td>-0.052219</td>\n",
       "      <td>0.033234</td>\n",
       "      <td>0.080375</td>\n",
       "      <td>0.013420</td>\n",
       "      <td>...</td>\n",
       "      <td>-0.002338</td>\n",
       "      <td>-0.033754</td>\n",
       "      <td>0.050848</td>\n",
       "      <td>0.176285</td>\n",
       "      <td>-0.028354</td>\n",
       "      <td>0.132166</td>\n",
       "      <td>-0.001133</td>\n",
       "      <td>0.097015</td>\n",
       "      <td>-0.041196</td>\n",
       "      <td>0.6</td>\n",
       "    </tr>\n",
       "    <tr>\n",
       "      <th>3</th>\n",
       "      <td>-0.035552</td>\n",
       "      <td>-0.051670</td>\n",
       "      <td>-0.064328</td>\n",
       "      <td>0.120816</td>\n",
       "      <td>0.015242</td>\n",
       "      <td>0.039946</td>\n",
       "      <td>-0.010479</td>\n",
       "      <td>0.042313</td>\n",
       "      <td>-0.077645</td>\n",
       "      <td>0.003459</td>\n",
       "      <td>...</td>\n",
       "      <td>0.012973</td>\n",
       "      <td>-0.004381</td>\n",
       "      <td>0.034311</td>\n",
       "      <td>0.201070</td>\n",
       "      <td>0.071518</td>\n",
       "      <td>0.102538</td>\n",
       "      <td>-0.006899</td>\n",
       "      <td>0.036028</td>\n",
       "      <td>-0.107303</td>\n",
       "      <td>0.8</td>\n",
       "    </tr>\n",
       "    <tr>\n",
       "      <th>4</th>\n",
       "      <td>-0.175414</td>\n",
       "      <td>-0.178755</td>\n",
       "      <td>-0.091183</td>\n",
       "      <td>0.185268</td>\n",
       "      <td>-0.062459</td>\n",
       "      <td>0.079219</td>\n",
       "      <td>-0.056909</td>\n",
       "      <td>0.163982</td>\n",
       "      <td>-0.165086</td>\n",
       "      <td>-0.017532</td>\n",
       "      <td>...</td>\n",
       "      <td>-0.092319</td>\n",
       "      <td>-0.083106</td>\n",
       "      <td>-0.029026</td>\n",
       "      <td>0.493535</td>\n",
       "      <td>0.115010</td>\n",
       "      <td>0.276578</td>\n",
       "      <td>-0.020296</td>\n",
       "      <td>0.156983</td>\n",
       "      <td>-0.127958</td>\n",
       "      <td>0.6</td>\n",
       "    </tr>\n",
       "  </tbody>\n",
       "</table>\n",
       "<p>5 rows × 51 columns</p>\n",
       "</div>"
      ],
      "text/plain": [
       "          0         1         2         3         4         5         6  \\\n",
       "0  0.014240 -0.064749 -0.088570  0.078107 -0.016659  0.028966 -0.019114   \n",
       "1  0.008835 -0.138932 -0.058660  0.022575 -0.009486  0.062698 -0.004848   \n",
       "2 -0.010517 -0.113985  0.005687  0.096157  0.002216  0.111049 -0.052219   \n",
       "3 -0.035552 -0.051670 -0.064328  0.120816  0.015242  0.039946 -0.010479   \n",
       "4 -0.175414 -0.178755 -0.091183  0.185268 -0.062459  0.079219 -0.056909   \n",
       "\n",
       "          7         8         9  ...        41        42        43        44  \\\n",
       "0  0.003012 -0.034805 -0.004169  ...  0.045016  0.012310  0.037559  0.233561   \n",
       "1  0.082970 -0.005111  0.038003  ...  0.053243 -0.049654 -0.039993  0.165860   \n",
       "2  0.033234  0.080375  0.013420  ... -0.002338 -0.033754  0.050848  0.176285   \n",
       "3  0.042313 -0.077645  0.003459  ...  0.012973 -0.004381  0.034311  0.201070   \n",
       "4  0.163982 -0.165086 -0.017532  ... -0.092319 -0.083106 -0.029026  0.493535   \n",
       "\n",
       "         45        46        47        48        49  rating  \n",
       "0  0.031068  0.132570  0.050284  0.106182 -0.072444     0.8  \n",
       "1  0.066175  0.134577  0.066020  0.032832 -0.065835     0.6  \n",
       "2 -0.028354  0.132166 -0.001133  0.097015 -0.041196     0.6  \n",
       "3  0.071518  0.102538 -0.006899  0.036028 -0.107303     0.8  \n",
       "4  0.115010  0.276578 -0.020296  0.156983 -0.127958     0.6  \n",
       "\n",
       "[5 rows x 51 columns]"
      ]
     },
     "execution_count": 17,
     "metadata": {},
     "output_type": "execute_result"
    }
   ],
   "source": [
    "user_1_profile['rating'] = user_1.rating\n",
    "user_1_profile.head()"
   ]
  },
  {
   "cell_type": "code",
   "execution_count": null,
   "metadata": {},
   "outputs": [],
   "source": []
  },
  {
   "cell_type": "code",
   "execution_count": null,
   "metadata": {},
   "outputs": [],
   "source": []
  },
  {
   "cell_type": "code",
   "execution_count": null,
   "metadata": {},
   "outputs": [],
   "source": []
  },
  {
   "cell_type": "code",
   "execution_count": null,
   "metadata": {},
   "outputs": [],
   "source": []
  },
  {
   "cell_type": "code",
   "execution_count": null,
   "metadata": {},
   "outputs": [],
   "source": []
  },
  {
   "cell_type": "code",
   "execution_count": null,
   "metadata": {},
   "outputs": [],
   "source": []
  },
  {
   "cell_type": "code",
   "execution_count": null,
   "metadata": {},
   "outputs": [],
   "source": []
  },
  {
   "cell_type": "code",
   "execution_count": null,
   "metadata": {},
   "outputs": [],
   "source": []
  },
  {
   "cell_type": "code",
   "execution_count": null,
   "metadata": {},
   "outputs": [],
   "source": []
  },
  {
   "cell_type": "code",
   "execution_count": null,
   "metadata": {},
   "outputs": [],
   "source": []
  },
  {
   "cell_type": "code",
   "execution_count": null,
   "metadata": {},
   "outputs": [],
   "source": []
  },
  {
   "cell_type": "code",
   "execution_count": null,
   "metadata": {},
   "outputs": [],
   "source": []
  },
  {
   "cell_type": "code",
   "execution_count": null,
   "metadata": {},
   "outputs": [],
   "source": []
  },
  {
   "cell_type": "code",
   "execution_count": null,
   "metadata": {},
   "outputs": [],
   "source": []
  },
  {
   "cell_type": "code",
   "execution_count": null,
   "metadata": {},
   "outputs": [],
   "source": []
  },
  {
   "cell_type": "code",
   "execution_count": null,
   "metadata": {},
   "outputs": [],
   "source": []
  },
  {
   "cell_type": "code",
   "execution_count": null,
   "metadata": {},
   "outputs": [],
   "source": []
  },
  {
   "cell_type": "code",
   "execution_count": null,
   "metadata": {},
   "outputs": [],
   "source": []
  },
  {
   "cell_type": "code",
   "execution_count": null,
   "metadata": {},
   "outputs": [],
   "source": []
  },
  {
   "cell_type": "code",
   "execution_count": null,
   "metadata": {},
   "outputs": [],
   "source": []
  },
  {
   "cell_type": "code",
   "execution_count": null,
   "metadata": {},
   "outputs": [],
   "source": []
  },
  {
   "cell_type": "code",
   "execution_count": null,
   "metadata": {},
   "outputs": [],
   "source": []
  },
  {
   "cell_type": "code",
   "execution_count": null,
   "metadata": {},
   "outputs": [],
   "source": []
  },
  {
   "cell_type": "code",
   "execution_count": null,
   "metadata": {},
   "outputs": [],
   "source": []
  },
  {
   "cell_type": "code",
   "execution_count": null,
   "metadata": {},
   "outputs": [],
   "source": []
  },
  {
   "cell_type": "code",
   "execution_count": null,
   "metadata": {},
   "outputs": [],
   "source": []
  },
  {
   "cell_type": "code",
   "execution_count": null,
   "metadata": {},
   "outputs": [],
   "source": []
  },
  {
   "cell_type": "code",
   "execution_count": null,
   "metadata": {},
   "outputs": [],
   "source": []
  },
  {
   "cell_type": "code",
   "execution_count": null,
   "metadata": {},
   "outputs": [],
   "source": []
  },
  {
   "cell_type": "code",
   "execution_count": null,
   "metadata": {},
   "outputs": [],
   "source": []
  },
  {
   "cell_type": "code",
   "execution_count": null,
   "metadata": {},
   "outputs": [],
   "source": []
  },
  {
   "cell_type": "code",
   "execution_count": null,
   "metadata": {},
   "outputs": [],
   "source": []
  },
  {
   "cell_type": "code",
   "execution_count": null,
   "metadata": {},
   "outputs": [],
   "source": []
  },
  {
   "cell_type": "code",
   "execution_count": null,
   "metadata": {},
   "outputs": [],
   "source": []
  },
  {
   "cell_type": "code",
   "execution_count": null,
   "metadata": {},
   "outputs": [],
   "source": []
  },
  {
   "cell_type": "code",
   "execution_count": null,
   "metadata": {},
   "outputs": [],
   "source": []
  }
 ],
 "metadata": {
  "kernelspec": {
   "display_name": "Python 3",
   "language": "python",
   "name": "python3"
  },
  "language_info": {
   "codemirror_mode": {
    "name": "ipython",
    "version": 3
   },
   "file_extension": ".py",
   "mimetype": "text/x-python",
   "name": "python",
   "nbconvert_exporter": "python",
   "pygments_lexer": "ipython3",
   "version": "3.10.9"
  },
  "orig_nbformat": 4
 },
 "nbformat": 4,
 "nbformat_minor": 2
}
