{
 "cells": [
  {
   "attachments": {},
   "cell_type": "markdown",
   "metadata": {},
   "source": [
    "### LIB & CONNECTOR"
   ]
  },
  {
   "cell_type": "code",
   "execution_count": 1,
   "metadata": {},
   "outputs": [],
   "source": [
    "from IPython.display import clear_output\n",
    "import pandas as pd\n",
    "import numpy as np\n",
    "import sqlalchemy as sa\n",
    "import mysql.connector\n",
    "import getpass"
   ]
  },
  {
   "cell_type": "code",
   "execution_count": 2,
   "metadata": {},
   "outputs": [],
   "source": [
    "import math\n",
    "import numpy as np\n",
    "from gensim.models import Word2Vec\n",
    "from gensim.test.utils import common_texts\n",
    "from nltk import word_tokenize\n",
    "from sklearn.metrics.pairwise import cosine_similarity\n",
    "from sklearn.cluster import KMeans\n",
    "import warnings\n",
    "warnings.filterwarnings(\"ignore\")"
   ]
  },
  {
   "cell_type": "code",
   "execution_count": 3,
   "metadata": {},
   "outputs": [],
   "source": [
    "from sklearn.cluster import DBSCAN\n",
    "from sklearn.cluster import KMeans\n",
    "from sklearn.metrics.pairwise import cosine_distances\n",
    "from sklearn.metrics import silhouette_score\n",
    "import matplotlib.pyplot as plt\n",
    "from hdbscan import HDBSCAN"
   ]
  },
  {
   "cell_type": "code",
   "execution_count": 9,
   "metadata": {},
   "outputs": [],
   "source": [
    "from gensim.models.doc2vec import Doc2Vec, TaggedDocument"
   ]
  },
  {
   "cell_type": "code",
   "execution_count": 4,
   "metadata": {},
   "outputs": [],
   "source": [
    "HOST = 'localhost'\n",
    "USER = 'root'\n",
    "DATABASE = 'goodreads'\n",
    "PASSWORD = getpass.getpass(f'Enter password for {USER}: ')"
   ]
  },
  {
   "cell_type": "code",
   "execution_count": 5,
   "metadata": {},
   "outputs": [
    {
     "name": "stdout",
     "output_type": "stream",
     "text": [
      "Current time:  2023-06-04 15:00:39\n"
     ]
    }
   ],
   "source": [
    "def getconn():\n",
    "    conn = mysql.connector.connect(\n",
    "        host=HOST,\n",
    "        user=USER,\n",
    "        password=PASSWORD,\n",
    "        database=DATABASE\n",
    "    )\n",
    "    return conn\n",
    "\n",
    "pool = sa.create_engine(\n",
    "    \"mysql+mysqlconnector://\",\n",
    "    creator=getconn,\n",
    ")\n",
    "\n",
    "with pool.connect() as db_conn:\n",
    "    results = db_conn.execute(sa.text(\"SELECT NOW()\")).fetchone()\n",
    "    print(\"Current time: \", results[0])"
   ]
  },
  {
   "attachments": {},
   "cell_type": "markdown",
   "metadata": {},
   "source": [
    "### DATA"
   ]
  },
  {
   "cell_type": "code",
   "execution_count": 38,
   "metadata": {},
   "outputs": [],
   "source": [
    "books_query = sa.text(\n",
    "    \"SELECT * FROM books;\"\n",
    ")\n",
    "books_df = pd.read_sql_query(books_query, con=pool.connect())"
   ]
  },
  {
   "cell_type": "code",
   "execution_count": 6,
   "metadata": {},
   "outputs": [],
   "source": [
    "query = sa.text(\n",
    "    \"SELECT * FROM processed_description;\"\n",
    ")\n",
    "descriptions_df = pd.read_sql_query(query, con=pool.connect())\n",
    "descriptions = descriptions_df.processed_descr.tolist()"
   ]
  },
  {
   "cell_type": "code",
   "execution_count": 7,
   "metadata": {},
   "outputs": [],
   "source": [
    "user_id_query = sa.text(\n",
    "    \"SELECT DISTINCT(user_id) FROM new_ratings_;\"\n",
    ")\n",
    "user_id_df = pd.read_sql_query(user_id_query, con=pool.connect())\n",
    "user_id_list = user_id_df.user_id.tolist()"
   ]
  },
  {
   "cell_type": "code",
   "execution_count": 8,
   "metadata": {},
   "outputs": [],
   "source": [
    "query = sa.text(\n",
    "    \"SELECT user_id, goodreads_book_id, (rating * 0.2) as rating from new_ratings_;\"\n",
    ")\n",
    "user_ratings = pd.read_sql_query(query, con=pool.connect())"
   ]
  },
  {
   "attachments": {},
   "cell_type": "markdown",
   "metadata": {},
   "source": [
    "### MODEL"
   ]
  },
  {
   "cell_type": "code",
   "execution_count": 10,
   "metadata": {},
   "outputs": [],
   "source": [
    "documents = [TaggedDocument(doc, [i]) for i, doc in enumerate(descriptions)]\n",
    "model = Doc2Vec(documents, vector_size=100, window=5, min_count=2, workers=4, epochs=5)"
   ]
  },
  {
   "cell_type": "code",
   "execution_count": 18,
   "metadata": {},
   "outputs": [],
   "source": [
    "docvecs = []\n",
    "for i in range(0, 9814):\n",
    "    docvecs.append(model.docvecs[i])"
   ]
  },
  {
   "cell_type": "code",
   "execution_count": 23,
   "metadata": {},
   "outputs": [],
   "source": [
    "ids = descriptions_df.goodreads_book_id.tolist()\n",
    "indices = pd.Series(descriptions_df.index, index=ids)"
   ]
  },
  {
   "cell_type": "code",
   "execution_count": 21,
   "metadata": {},
   "outputs": [],
   "source": [
    "sim_matrix = cosine_similarity(docvecs)"
   ]
  },
  {
   "cell_type": "code",
   "execution_count": 46,
   "metadata": {},
   "outputs": [
    {
     "data": {
      "text/html": [
       "<div>\n",
       "<style scoped>\n",
       "    .dataframe tbody tr th:only-of-type {\n",
       "        vertical-align: middle;\n",
       "    }\n",
       "\n",
       "    .dataframe tbody tr th {\n",
       "        vertical-align: top;\n",
       "    }\n",
       "\n",
       "    .dataframe thead th {\n",
       "        text-align: right;\n",
       "    }\n",
       "</style>\n",
       "<table border=\"1\" class=\"dataframe\">\n",
       "  <thead>\n",
       "    <tr style=\"text-align: right;\">\n",
       "      <th></th>\n",
       "      <th>goodreads_book_id</th>\n",
       "      <th>isbn</th>\n",
       "      <th>isbn13</th>\n",
       "      <th>original_publication_year</th>\n",
       "      <th>original_title</th>\n",
       "      <th>title</th>\n",
       "      <th>language_code</th>\n",
       "      <th>average_rating</th>\n",
       "      <th>ratings_count</th>\n",
       "      <th>description</th>\n",
       "    </tr>\n",
       "  </thead>\n",
       "  <tbody>\n",
       "    <tr>\n",
       "      <th>44</th>\n",
       "      <td>4214</td>\n",
       "      <td>770430074</td>\n",
       "      <td>9780770430080.0</td>\n",
       "      <td>2001.0</td>\n",
       "      <td>Life of Pi</td>\n",
       "      <td>Life of Pi</td>\n",
       "      <td>eng</td>\n",
       "      <td>3.88</td>\n",
       "      <td>1003228</td>\n",
       "      <td>Life of Pi is a fantasy adventure novel by Yan...</td>\n",
       "    </tr>\n",
       "    <tr>\n",
       "      <th>9091</th>\n",
       "      <td>16762211</td>\n",
       "      <td>1481268503</td>\n",
       "      <td>9781481268510.0</td>\n",
       "      <td>2012.0</td>\n",
       "      <td>Sometimes Never</td>\n",
       "      <td>Sometimes Never (Sometimes Never, #1)</td>\n",
       "      <td>eng</td>\n",
       "      <td>3.94</td>\n",
       "      <td>15306</td>\n",
       "      <td>Hope didn't have the best role model when it c...</td>\n",
       "    </tr>\n",
       "    <tr>\n",
       "      <th>8025</th>\n",
       "      <td>19307</td>\n",
       "      <td>670557110</td>\n",
       "      <td>9780670557110.0</td>\n",
       "      <td>1948.0</td>\n",
       "      <td>Pippi Långstrump i Söderhavet</td>\n",
       "      <td>Pippi in the South Seas</td>\n",
       "      <td>eng</td>\n",
       "      <td>4.10</td>\n",
       "      <td>13911</td>\n",
       "      <td>\"Any reappearance of the irrepressible Pippi L...</td>\n",
       "    </tr>\n",
       "  </tbody>\n",
       "</table>\n",
       "</div>"
      ],
      "text/plain": [
       "     goodreads_book_id        isbn           isbn13 original_publication_year  \\\n",
       "44                4214   770430074  9780770430080.0                    2001.0   \n",
       "9091          16762211  1481268503  9781481268510.0                    2012.0   \n",
       "8025             19307   670557110  9780670557110.0                    1948.0   \n",
       "\n",
       "                     original_title                                  title  \\\n",
       "44                       Life of Pi                             Life of Pi   \n",
       "9091                Sometimes Never  Sometimes Never (Sometimes Never, #1)   \n",
       "8025  Pippi Långstrump i Söderhavet                Pippi in the South Seas   \n",
       "\n",
       "     language_code  average_rating  ratings_count  \\\n",
       "44             eng            3.88        1003228   \n",
       "9091           eng            3.94          15306   \n",
       "8025           eng            4.10          13911   \n",
       "\n",
       "                                            description  \n",
       "44    Life of Pi is a fantasy adventure novel by Yan...  \n",
       "9091  Hope didn't have the best role model when it c...  \n",
       "8025  \"Any reappearance of the irrepressible Pippi L...  "
      ]
     },
     "metadata": {},
     "output_type": "display_data"
    }
   ],
   "source": [
    "idx = indices[4214]\n",
    "sim_scores = list(enumerate(sim_matrix[idx]))\n",
    "sim_scores = sorted(sim_scores, key=lambda x: x[1], reverse=True)\n",
    "# sim_scores = sim_scores[1:10]\n",
    "item_indices = [i[0] for i in sim_scores[1:3]]\n",
    "\n",
    "# GET RECOMMENDS\n",
    "recommends = books_df.loc[books_df.goodreads_book_id == '4214']\n",
    "items = descriptions_df.iloc[item_indices].goodreads_book_id.tolist()\n",
    "for index in items:\n",
    "    # query = sa.text(\n",
    "    #     f\"SELECT * FROM books WHERE goodreads_book_id = {index};\"\n",
    "    # )\n",
    "    # temp = pd.read_sql_query(query, con=pool.connect())\n",
    "    temp = books_df.loc[books_df.goodreads_book_id == str(index)]\n",
    "    recommends = pd.concat([recommends, temp])\n",
    "display(recommends)"
   ]
  },
  {
   "cell_type": "code",
   "execution_count": 110,
   "metadata": {},
   "outputs": [],
   "source": [
    "user_1 = user_1.sort_values(by=['rating'], ascending=False)\n",
    "user_1.index = user_1.goodreads_book_id\n",
    "user_1.drop(columns=['goodreads_book_id'], inplace=True)"
   ]
  },
  {
   "cell_type": "code",
   "execution_count": 147,
   "metadata": {},
   "outputs": [],
   "source": [
    "rated_items = user_1.index"
   ]
  },
  {
   "cell_type": "code",
   "execution_count": 159,
   "metadata": {},
   "outputs": [],
   "source": [
    "rated_recommend = [str(item) for item in item_indices if str(item) in rated_items]"
   ]
  },
  {
   "cell_type": "code",
   "execution_count": null,
   "metadata": {},
   "outputs": [],
   "source": []
  },
  {
   "cell_type": "code",
   "execution_count": null,
   "metadata": {},
   "outputs": [],
   "source": []
  },
  {
   "cell_type": "code",
   "execution_count": null,
   "metadata": {},
   "outputs": [],
   "source": []
  },
  {
   "cell_type": "code",
   "execution_count": null,
   "metadata": {},
   "outputs": [],
   "source": []
  },
  {
   "cell_type": "code",
   "execution_count": null,
   "metadata": {},
   "outputs": [],
   "source": []
  },
  {
   "cell_type": "code",
   "execution_count": null,
   "metadata": {},
   "outputs": [],
   "source": []
  },
  {
   "cell_type": "code",
   "execution_count": null,
   "metadata": {},
   "outputs": [],
   "source": []
  },
  {
   "cell_type": "code",
   "execution_count": null,
   "metadata": {},
   "outputs": [],
   "source": []
  },
  {
   "cell_type": "code",
   "execution_count": null,
   "metadata": {},
   "outputs": [],
   "source": []
  },
  {
   "cell_type": "code",
   "execution_count": null,
   "metadata": {},
   "outputs": [],
   "source": []
  },
  {
   "cell_type": "code",
   "execution_count": null,
   "metadata": {},
   "outputs": [],
   "source": []
  },
  {
   "cell_type": "code",
   "execution_count": null,
   "metadata": {},
   "outputs": [],
   "source": []
  },
  {
   "cell_type": "code",
   "execution_count": null,
   "metadata": {},
   "outputs": [],
   "source": []
  },
  {
   "cell_type": "code",
   "execution_count": null,
   "metadata": {},
   "outputs": [],
   "source": []
  },
  {
   "cell_type": "code",
   "execution_count": null,
   "metadata": {},
   "outputs": [],
   "source": []
  },
  {
   "cell_type": "code",
   "execution_count": null,
   "metadata": {},
   "outputs": [],
   "source": []
  },
  {
   "cell_type": "code",
   "execution_count": null,
   "metadata": {},
   "outputs": [],
   "source": []
  },
  {
   "cell_type": "code",
   "execution_count": null,
   "metadata": {},
   "outputs": [],
   "source": []
  },
  {
   "cell_type": "code",
   "execution_count": null,
   "metadata": {},
   "outputs": [],
   "source": []
  },
  {
   "cell_type": "code",
   "execution_count": null,
   "metadata": {},
   "outputs": [],
   "source": []
  },
  {
   "cell_type": "code",
   "execution_count": null,
   "metadata": {},
   "outputs": [],
   "source": []
  },
  {
   "cell_type": "code",
   "execution_count": null,
   "metadata": {},
   "outputs": [],
   "source": []
  },
  {
   "cell_type": "code",
   "execution_count": null,
   "metadata": {},
   "outputs": [],
   "source": []
  },
  {
   "cell_type": "code",
   "execution_count": null,
   "metadata": {},
   "outputs": [],
   "source": []
  },
  {
   "cell_type": "code",
   "execution_count": null,
   "metadata": {},
   "outputs": [],
   "source": []
  },
  {
   "cell_type": "code",
   "execution_count": null,
   "metadata": {},
   "outputs": [],
   "source": []
  },
  {
   "cell_type": "code",
   "execution_count": null,
   "metadata": {},
   "outputs": [],
   "source": []
  },
  {
   "cell_type": "code",
   "execution_count": null,
   "metadata": {},
   "outputs": [],
   "source": []
  },
  {
   "cell_type": "code",
   "execution_count": null,
   "metadata": {},
   "outputs": [],
   "source": []
  },
  {
   "cell_type": "code",
   "execution_count": null,
   "metadata": {},
   "outputs": [],
   "source": []
  },
  {
   "cell_type": "code",
   "execution_count": null,
   "metadata": {},
   "outputs": [],
   "source": []
  },
  {
   "cell_type": "code",
   "execution_count": null,
   "metadata": {},
   "outputs": [],
   "source": []
  },
  {
   "cell_type": "code",
   "execution_count": null,
   "metadata": {},
   "outputs": [],
   "source": []
  },
  {
   "cell_type": "code",
   "execution_count": null,
   "metadata": {},
   "outputs": [],
   "source": []
  },
  {
   "cell_type": "code",
   "execution_count": null,
   "metadata": {},
   "outputs": [],
   "source": []
  },
  {
   "cell_type": "code",
   "execution_count": null,
   "metadata": {},
   "outputs": [],
   "source": []
  },
  {
   "cell_type": "code",
   "execution_count": null,
   "metadata": {},
   "outputs": [],
   "source": []
  },
  {
   "cell_type": "code",
   "execution_count": null,
   "metadata": {},
   "outputs": [],
   "source": []
  }
 ],
 "metadata": {
  "kernelspec": {
   "display_name": "Python 3",
   "language": "python",
   "name": "python3"
  },
  "language_info": {
   "codemirror_mode": {
    "name": "ipython",
    "version": 3
   },
   "file_extension": ".py",
   "mimetype": "text/x-python",
   "name": "python",
   "nbconvert_exporter": "python",
   "pygments_lexer": "ipython3",
   "version": "3.10.9"
  },
  "orig_nbformat": 4
 },
 "nbformat": 4,
 "nbformat_minor": 2
}
