{
 "cells": [
  {
   "attachments": {},
   "cell_type": "markdown",
   "metadata": {},
   "source": [
    "### LIBS & CONNECTOR"
   ]
  },
  {
   "cell_type": "code",
   "execution_count": 167,
   "metadata": {},
   "outputs": [],
   "source": [
    "from IPython.display import clear_output"
   ]
  },
  {
   "cell_type": "code",
   "execution_count": 1,
   "metadata": {},
   "outputs": [],
   "source": [
    "import pandas as pd\n",
    "import numpy as np\n",
    "import sqlalchemy as sa\n",
    "import mysql.connector\n",
    "import getpass"
   ]
  },
  {
   "cell_type": "code",
   "execution_count": 2,
   "metadata": {},
   "outputs": [],
   "source": [
    "import math\n",
    "import numpy as np\n",
    "from gensim.models import Word2Vec\n",
    "from gensim.test.utils import common_texts\n",
    "from nltk import word_tokenize\n",
    "from sklearn.metrics.pairwise import cosine_similarity\n",
    "from sklearn.cluster import KMeans\n",
    "import warnings\n",
    "warnings.filterwarnings(\"ignore\")"
   ]
  },
  {
   "cell_type": "code",
   "execution_count": 255,
   "metadata": {},
   "outputs": [],
   "source": [
    "from sklearn.cluster import DBSCAN\n",
    "from sklearn.cluster import KMeans\n",
    "from sklearn.metrics.pairwise import cosine_distances\n",
    "from sklearn.metrics import silhouette_score\n",
    "import matplotlib.pyplot as plt\n",
    "from hdbscan import HDBSCAN"
   ]
  },
  {
   "cell_type": "code",
   "execution_count": 254,
   "metadata": {},
   "outputs": [],
   "source": [
    "HOST = 'localhost'\n",
    "USER = 'root'\n",
    "DATABASE = 'goodreads'\n",
    "PASSWORD = getpass.getpass(f'Enter password for {USER}: ')"
   ]
  },
  {
   "cell_type": "code",
   "execution_count": 7,
   "metadata": {},
   "outputs": [
    {
     "name": "stdout",
     "output_type": "stream",
     "text": [
      "Current time:  2023-06-02 15:04:14\n"
     ]
    }
   ],
   "source": [
    "def getconn():\n",
    "    conn = mysql.connector.connect(\n",
    "        host=HOST,\n",
    "        user=USER,\n",
    "        password=PASSWORD,\n",
    "        database=DATABASE\n",
    "    )\n",
    "    return conn\n",
    "\n",
    "pool = sa.create_engine(\n",
    "    \"mysql+mysqlconnector://\",\n",
    "    creator=getconn,\n",
    ")\n",
    "\n",
    "with pool.connect() as db_conn:\n",
    "    results = db_conn.execute(sa.text(\"SELECT NOW()\")).fetchone()\n",
    "    print(\"Current time: \", results[0])"
   ]
  },
  {
   "attachments": {},
   "cell_type": "markdown",
   "metadata": {},
   "source": [
    "### DATA"
   ]
  },
  {
   "cell_type": "code",
   "execution_count": 8,
   "metadata": {},
   "outputs": [],
   "source": [
    "model = Word2Vec(sentences=common_texts, vector_size=100, window=5, min_count=1, workers=4)"
   ]
  },
  {
   "cell_type": "code",
   "execution_count": 9,
   "metadata": {},
   "outputs": [],
   "source": [
    "query = sa.text(\n",
    "    \"SELECT * FROM processed_description;\"\n",
    ")\n",
    "df = pd.read_sql_query(query, con=pool.connect())"
   ]
  },
  {
   "cell_type": "code",
   "execution_count": 11,
   "metadata": {},
   "outputs": [
    {
     "data": {
      "text/plain": [
       "['1', '10', '100', '1000', '10000']"
      ]
     },
     "execution_count": 11,
     "metadata": {},
     "output_type": "execute_result"
    }
   ],
   "source": [
    "user_id_query = sa.text(\n",
    "    \"SELECT DISTINCT(user_id) FROM new_ratings_;\"\n",
    ")\n",
    "user_id_df = pd.read_sql_query(user_id_query, con=pool.connect())\n",
    "user_id_list = user_id_df.user_id.tolist()\n",
    "user_id_list[:5]"
   ]
  },
  {
   "cell_type": "code",
   "execution_count": 81,
   "metadata": {},
   "outputs": [],
   "source": [
    "query = sa.text(\n",
    "    \"SELECT user_id, goodreads_book_id, (rating * 0.2) as rating from new_ratings_;\"\n",
    ")\n",
    "\n",
    "user_ratings = pd.read_sql_query(query, con=pool.connect())"
   ]
  },
  {
   "attachments": {},
   "cell_type": "markdown",
   "metadata": {},
   "source": [
    "### WORD2VEC"
   ]
  },
  {
   "cell_type": "code",
   "execution_count": 12,
   "metadata": {},
   "outputs": [],
   "source": [
    "sample = df.processed_descr.tolist()\n",
    "sample_len = len(sample)\n",
    "sample_texts = [word_tokenize(sent) for sent in sample]"
   ]
  },
  {
   "cell_type": "code",
   "execution_count": 13,
   "metadata": {},
   "outputs": [],
   "source": [
    "model_3 = Word2Vec(sentences=sample_texts, vector_size=300, window=5, min_count=1, workers=4)\n",
    "model_1 = Word2Vec(sentences=sample_texts, vector_size=100, window=5, min_count=1, workers=4)"
   ]
  },
  {
   "cell_type": "code",
   "execution_count": 14,
   "metadata": {},
   "outputs": [],
   "source": [
    "sims_3 = model_3.wv.similar_by_key('survive')\n",
    "sims_1 = model_1.wv.similar_by_key('survive')"
   ]
  },
  {
   "cell_type": "code",
   "execution_count": 15,
   "metadata": {},
   "outputs": [],
   "source": [
    "def get_vec(texts, model, vector_size = 100):\n",
    "    result_vectors = []\n",
    "    for text in texts:\n",
    "        sent_vector = [0]*vector_size\n",
    "        for word in text:\n",
    "            sent_vector += model.wv[word]\n",
    "        sent_vector = [value/len(sent_vector) for value in sent_vector]\n",
    "        result_vectors.append(sent_vector)\n",
    "    return result_vectors"
   ]
  },
  {
   "cell_type": "code",
   "execution_count": 16,
   "metadata": {},
   "outputs": [],
   "source": [
    "vectors = get_vec(sample_texts, model_1)"
   ]
  },
  {
   "cell_type": "code",
   "execution_count": 17,
   "metadata": {},
   "outputs": [],
   "source": [
    "sim_matrix = cosine_similarity(vectors)"
   ]
  },
  {
   "cell_type": "code",
   "execution_count": 18,
   "metadata": {},
   "outputs": [],
   "source": [
    "ids = df.goodreads_book_id.tolist()\n",
    "indices = pd.Series(df.index, index=ids)"
   ]
  },
  {
   "cell_type": "code",
   "execution_count": 19,
   "metadata": {},
   "outputs": [],
   "source": [
    "idx = indices[3]\n",
    "sim_scores = list(enumerate(sim_matrix[idx]))\n",
    "sim_scores = sorted(sim_scores, key=lambda x: x[1], reverse=True)\n",
    "sim_scores = sim_scores[1:10]\n",
    "item_indices = [i[0] for i in sim_scores]"
   ]
  },
  {
   "cell_type": "code",
   "execution_count": 20,
   "metadata": {},
   "outputs": [],
   "source": [
    "# query = sa.text(\n",
    "#     \"SELECT * FROM books WHERE goodreads_book_id = 3;\"\n",
    "# )\n",
    "# recommends = pd.read_sql_query(query, con=pool.connect())\n",
    "# items = df.iloc[item_indices].goodreads_book_id.tolist()\n",
    "# for index in items:\n",
    "#     query = sa.text(\n",
    "#         f\"SELECT * FROM books WHERE goodreads_book_id = {index};\"\n",
    "#     )\n",
    "#     temp = pd.read_sql_query(query, con=pool.connect())\n",
    "#     recommends = pd.concat([recommends, temp])\n",
    "# display(recommends)"
   ]
  },
  {
   "cell_type": "code",
   "execution_count": 21,
   "metadata": {},
   "outputs": [],
   "source": [
    "# vectors = get_vec(sample_texts, model_3,300)\n",
    "# sim_matrix = cosine_similarity(vectors)\n",
    "# ids = df.goodreads_book_id.tolist()\n",
    "# indices = pd.Series(df.index, index=ids)\n",
    "# idx = indices[3]\n",
    "# sim_scores = list(enumerate(sim_matrix[idx]))\n",
    "# sim_scores = sorted(sim_scores, key=lambda x: x[1], reverse=True)\n",
    "# sim_scores = sim_scores[1:10]\n",
    "# item_indices = [i[0] for i in sim_scores]\n",
    "# query = sa.text(\n",
    "#     \"SELECT * FROM books WHERE goodreads_book_id = 3;\"\n",
    "# )\n",
    "# recommends = pd.read_sql_query(query, con=pool.connect())\n",
    "# items = df.iloc[item_indices].goodreads_book_id.tolist()\n",
    "# for index in items:\n",
    "#     query = sa.text(\n",
    "#         f\"SELECT * FROM books WHERE goodreads_book_id = {index};\"\n",
    "#     )\n",
    "#     temp = pd.read_sql_query(query, con=pool.connect())\n",
    "#     recommends = pd.concat([recommends, temp])\n",
    "# display(recommends)"
   ]
  },
  {
   "attachments": {},
   "cell_type": "markdown",
   "metadata": {},
   "source": [
    "### USER VEC"
   ]
  },
  {
   "cell_type": "code",
   "execution_count": 23,
   "metadata": {},
   "outputs": [],
   "source": [
    "book_vec_df = pd.DataFrame(vectors, index=[str(id) for id in ids])"
   ]
  },
  {
   "cell_type": "code",
   "execution_count": 147,
   "metadata": {},
   "outputs": [],
   "source": [
    "def get_user_vector(user_id):\n",
    "    this_user_ratings = user_ratings.loc[user_ratings.user_id == user_id, ['rating', 'goodreads_book_id']]\n",
    "    this_user_ratings.index = this_user_ratings.goodreads_book_id\n",
    "    this_user_books = book_vec_df.loc[this_user_ratings.goodreads_book_id.tolist()]\n",
    "    this_user_ratings.drop(columns=['goodreads_book_id'], inplace=True)\n",
    "    for index, row in this_user_books.iterrows():\n",
    "        rating = this_user_ratings.loc[index].rating\n",
    "        this_user_books.loc[index] = row.apply(lambda x: x* rating)\n",
    "    book_nums = len(this_user_books)\n",
    "    this_user_vector = [col.sum() / book_nums for _, col in this_user_books.iteritems()]\n",
    "    return this_user_vector"
   ]
  },
  {
   "cell_type": "code",
   "execution_count": 271,
   "metadata": {},
   "outputs": [
    {
     "name": "stdout",
     "output_type": "stream",
     "text": [
      "1000 of 1000\n"
     ]
    }
   ],
   "source": [
    "user_vector_df = pd.DataFrame(columns=range(0,100))\n",
    "for index, user_id in enumerate(user_id_list[:1000]):\n",
    "    clear_output(wait=True)\n",
    "    print(index + 1, 'of 1000')\n",
    "    this_user_vector_df = pd.DataFrame([get_user_vector(user_id)], columns=range(0,100), index=[user_id])\n",
    "    user_vector_df = pd.concat([user_vector_df, this_user_vector_df])\n",
    "# user_vector_df.tail()"
   ]
  },
  {
   "cell_type": "code",
   "execution_count": 275,
   "metadata": {},
   "outputs": [
    {
     "data": {
      "image/png": "[encoded data removed]",
      "text/plain": [
       "<Figure size 640x480 with 1 Axes>"
      ]
     },
     "metadata": {},
     "output_type": "display_data"
    }
   ],
   "source": [
    "range_ep = range(1, 15)\n",
    "n_clusters = []\n",
    "silhouette_avg = []\n",
    "for ep in range_ep:\n",
    "    cluster = DBSCAN(eps=ep*0.0001, min_samples=3, metric='cosine', n_jobs=4)\n",
    "    cluster.fit(user_vector_df)\n",
    "    cluster_labels = cluster.labels_\n",
    "    n_clusters.append(max(cluster_labels))\n",
    "    silhouette_avg.append(silhouette_score(user_vector_df, cluster_labels))\n",
    "plt.plot(range_ep, silhouette_avg, 'bx-')\n",
    "plt.xlabel('range of ep')\n",
    "plt.ylabel('Silhouette score')\n",
    "plt.title('Silhouette analysis For Optimal k')\n",
    "plt.show()\n"
   ]
  },
  {
   "cell_type": "code",
   "execution_count": 295,
   "metadata": {},
   "outputs": [],
   "source": [
    "import pickle\n",
    "\n",
    "size_estimate = len(pickle.dumps(user_vector_df))"
   ]
  },
  {
   "cell_type": "code",
   "execution_count": 301,
   "metadata": {},
   "outputs": [],
   "source": [
    "with open('./user_vector.csv', 'wb') as pickle_file:\n",
    "    pickle.dump(user_vector_df.to_csv(), pickle_file)\n"
   ]
  },
  {
   "cell_type": "code",
   "execution_count": 294,
   "metadata": {},
   "outputs": [
    {
     "data": {
      "text/plain": [
       "1"
      ]
     },
     "execution_count": 294,
     "metadata": {},
     "output_type": "execute_result"
    }
   ],
   "source": [
    "cluster = HDBSCAN(min_cluster_size=6)\n",
    "max(cluster.fit_predict(user_vector_df))"
   ]
  },
  {
   "cell_type": "code",
   "execution_count": 231,
   "metadata": {},
   "outputs": [
    {
     "data": {
      "image/png": "[encoded data removed]",
      "text/plain": [
       "<Figure size 640x480 with 1 Axes>"
      ]
     },
     "metadata": {},
     "output_type": "display_data"
    }
   ],
   "source": [
    "# range_of_n_clusters = range(5, 50)\n",
    "# silhouette_avg = []\n",
    "# for n_cluster in range_of_n_clusters:\n",
    "#     kmeans = KMeans(n_clusters=n_cluster)\n",
    "#     kmeans.fit(user_vector_df)\n",
    "#     cluster_labels = kmeans.labels_\n",
    "\n",
    "#     # silhouette score\n",
    "#     silhouette_avg.append(silhouette_score(user_vector_df, cluster_labels))\n",
    "# plt.plot(range_of_n_clusters, silhouette_avg, 'bx-')\n",
    "# plt.xlabel('range of ep')\n",
    "# plt.ylabel('Silhouette score')\n",
    "# plt.title('Silhouette analysis For Optimal k')\n",
    "# plt.show()"
   ]
  },
  {
   "cell_type": "code",
   "execution_count": 232,
   "metadata": {},
   "outputs": [
    {
     "data": {
      "text/plain": [
       "[0.3014720737622319,\n",
       " 0.28741741057207415,\n",
       " 0.27947379516792276,\n",
       " 0.26656349989442335,\n",
       " 0.26218151232536174,\n",
       " 0.2727763230384921,\n",
       " 0.2461667866968366,\n",
       " 0.23661644047266572,\n",
       " 0.2559328980206761,\n",
       " 0.25165641731854566,\n",
       " 0.2517387839868625,\n",
       " 0.23972868655480098,\n",
       " 0.23515380267294994,\n",
       " 0.24889337088383376,\n",
       " 0.22467512647701007,\n",
       " 0.23000430617369128,\n",
       " 0.24278852248713945,\n",
       " 0.2191586190434204,\n",
       " 0.2172533818977252,\n",
       " 0.24236585856238915,\n",
       " 0.23671341097028717,\n",
       " 0.22134445894837612,\n",
       " 0.23718500054131245,\n",
       " 0.23420440610806467,\n",
       " 0.24104714425069404,\n",
       " 0.22458692683323617,\n",
       " 0.24099741395964672,\n",
       " 0.24436035021420202,\n",
       " 0.2324132472530592,\n",
       " 0.23932616256537512,\n",
       " 0.24438236523603799,\n",
       " 0.23865387481595893,\n",
       " 0.23063611910104964,\n",
       " 0.22958285265948994,\n",
       " 0.23458084462197853,\n",
       " 0.23202294443594906,\n",
       " 0.2349496605189202,\n",
       " 0.21443795356099687,\n",
       " 0.2389267224736992,\n",
       " 0.23616018175694162,\n",
       " 0.23573585205713798,\n",
       " 0.24354306887752464,\n",
       " 0.23006196467539575,\n",
       " 0.22616468357937286,\n",
       " 0.24119695911296568]"
      ]
     },
     "execution_count": 232,
     "metadata": {},
     "output_type": "execute_result"
    }
   ],
   "source": [
    "silhouette_avg"
   ]
  },
  {
   "cell_type": "code",
   "execution_count": null,
   "metadata": {},
   "outputs": [],
   "source": []
  },
  {
   "cell_type": "code",
   "execution_count": null,
   "metadata": {},
   "outputs": [],
   "source": []
  },
  {
   "cell_type": "code",
   "execution_count": null,
   "metadata": {},
   "outputs": [],
   "source": []
  },
  {
   "cell_type": "code",
   "execution_count": null,
   "metadata": {},
   "outputs": [],
   "source": []
  },
  {
   "cell_type": "code",
   "execution_count": null,
   "metadata": {},
   "outputs": [],
   "source": []
  },
  {
   "cell_type": "code",
   "execution_count": null,
   "metadata": {},
   "outputs": [],
   "source": []
  },
  {
   "cell_type": "code",
   "execution_count": null,
   "metadata": {},
   "outputs": [],
   "source": []
  },
  {
   "cell_type": "code",
   "execution_count": null,
   "metadata": {},
   "outputs": [],
   "source": []
  },
  {
   "cell_type": "code",
   "execution_count": null,
   "metadata": {},
   "outputs": [],
   "source": []
  },
  {
   "cell_type": "code",
   "execution_count": null,
   "metadata": {},
   "outputs": [],
   "source": []
  },
  {
   "cell_type": "code",
   "execution_count": null,
   "metadata": {},
   "outputs": [],
   "source": []
  }
 ],
 "metadata": {
  "kernelspec": {
   "display_name": "Python 3",
   "language": "python",
   "name": "python3"
  },
  "language_info": {
   "codemirror_mode": {
    "name": "ipython",
    "version": 3
   },
   "file_extension": ".py",
   "mimetype": "text/x-python",
   "name": "python",
   "nbconvert_exporter": "python",
   "pygments_lexer": "ipython3",
   "version": "3.10.9"
  },
  "orig_nbformat": 4
 },
 "nbformat": 4,
 "nbformat_minor": 2
}
