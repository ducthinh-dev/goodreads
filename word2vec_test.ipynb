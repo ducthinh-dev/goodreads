{
 "cells": [
  {
   "attachments": {},
   "cell_type": "markdown",
   "metadata": {},
   "source": [
    "### LIBS & CONNECTOR"
   ]
  },
  {
   "cell_type": "code",
   "execution_count": 1,
   "metadata": {},
   "outputs": [],
   "source": [
    "import pandas as pd\n",
    "import numpy as np\n",
    "import sqlalchemy as sa\n",
    "import mysql.connector\n",
    "import getpass"
   ]
  },
  {
   "cell_type": "code",
   "execution_count": 2,
   "metadata": {},
   "outputs": [],
   "source": [
    "HOST = 'localhost'\n",
    "USER = 'root'\n",
    "DATABASE = 'goodreads'\n",
    "PASSWORD = getpass.getpass(f'Enter password for {USER}: ')"
   ]
  },
  {
   "cell_type": "code",
   "execution_count": 3,
   "metadata": {},
   "outputs": [
    {
     "name": "stdout",
     "output_type": "stream",
     "text": [
      "Current time:  2023-05-30 13:19:48\n"
     ]
    }
   ],
   "source": [
    "def getconn():\n",
    "    conn = mysql.connector.connect(\n",
    "        host=HOST,\n",
    "        user=USER,\n",
    "        password=PASSWORD,\n",
    "        database=DATABASE\n",
    "    )\n",
    "    return conn\n",
    "\n",
    "pool = sa.create_engine(\n",
    "    \"mysql+mysqlconnector://\",\n",
    "    creator=getconn,\n",
    ")\n",
    "\n",
    "with pool.connect() as db_conn:\n",
    "    results = db_conn.execute(sa.text(\"SELECT NOW()\")).fetchone()\n",
    "    print(\"Current time: \", results[0])"
   ]
  },
  {
   "attachments": {},
   "cell_type": "markdown",
   "metadata": {},
   "source": [
    "### SANDBOX"
   ]
  },
  {
   "cell_type": "code",
   "execution_count": 18,
   "metadata": {},
   "outputs": [],
   "source": [
    "from gensim.models import Word2Vec\n",
    "from gensim.test.utils import common_texts\n",
    "model = Word2Vec(sentences=common_texts, vector_size=100, window=5, min_count=1, workers=4)"
   ]
  },
  {
   "cell_type": "code",
   "execution_count": 6,
   "metadata": {},
   "outputs": [],
   "source": [
    "import nltk"
   ]
  },
  {
   "cell_type": "code",
   "execution_count": 4,
   "metadata": {},
   "outputs": [],
   "source": [
    "query = sa.text(\n",
    "    \"SELECT * FROM processed_description;\"\n",
    ")\n",
    "df = pd.read_sql_query(query, con=pool.connect())"
   ]
  },
  {
   "cell_type": "code",
   "execution_count": 5,
   "metadata": {},
   "outputs": [
    {
     "data": {
      "text/html": [
       "<div>\n",
       "<style scoped>\n",
       "    .dataframe tbody tr th:only-of-type {\n",
       "        vertical-align: middle;\n",
       "    }\n",
       "\n",
       "    .dataframe tbody tr th {\n",
       "        vertical-align: top;\n",
       "    }\n",
       "\n",
       "    .dataframe thead th {\n",
       "        text-align: right;\n",
       "    }\n",
       "</style>\n",
       "<table border=\"1\" class=\"dataframe\">\n",
       "  <thead>\n",
       "    <tr style=\"text-align: right;\">\n",
       "      <th></th>\n",
       "      <th>goodreads_book_id</th>\n",
       "      <th>processed_descr</th>\n",
       "    </tr>\n",
       "  </thead>\n",
       "  <tbody>\n",
       "    <tr>\n",
       "      <th>0</th>\n",
       "      <td>2767052</td>\n",
       "      <td>could survive wild every one make sure live se...</td>\n",
       "    </tr>\n",
       "    <tr>\n",
       "      <th>1</th>\n",
       "      <td>3</td>\n",
       "      <td>harry potter idea famous raised miserable aunt...</td>\n",
       "    </tr>\n",
       "    <tr>\n",
       "      <th>2</th>\n",
       "      <td>41865</td>\n",
       "      <td>three absolutely part know dominant part might...</td>\n",
       "    </tr>\n",
       "    <tr>\n",
       "      <th>3</th>\n",
       "      <td>2657</td>\n",
       "      <td>unforgettable novel childhood sleepy southern ...</td>\n",
       "    </tr>\n",
       "    <tr>\n",
       "      <th>4</th>\n",
       "      <td>4671</td>\n",
       "      <td>alternate cover edition great third book supre...</td>\n",
       "    </tr>\n",
       "  </tbody>\n",
       "</table>\n",
       "</div>"
      ],
      "text/plain": [
       "   goodreads_book_id                                    processed_descr\n",
       "0            2767052  could survive wild every one make sure live se...\n",
       "1                  3  harry potter idea famous raised miserable aunt...\n",
       "2              41865  three absolutely part know dominant part might...\n",
       "3               2657  unforgettable novel childhood sleepy southern ...\n",
       "4               4671  alternate cover edition great third book supre..."
      ]
     },
     "execution_count": 5,
     "metadata": {},
     "output_type": "execute_result"
    }
   ],
   "source": [
    "df.head()"
   ]
  },
  {
   "cell_type": "code",
   "execution_count": null,
   "metadata": {},
   "outputs": [],
   "source": [
    "sample = df.processed_descr.tolist()\n",
    "sample"
   ]
  },
  {
   "cell_type": "code",
   "execution_count": null,
   "metadata": {},
   "outputs": [],
   "source": [
    "sample_len = len(sample)\n",
    "sample_texts = [nltk.word_tokenize(sent) for sent in sample]"
   ]
  },
  {
   "cell_type": "code",
   "execution_count": 71,
   "metadata": {},
   "outputs": [],
   "source": [
    "model_3 = Word2Vec(sentences=sample_texts, vector_size=300, window=5, min_count=1, workers=4)\n",
    "model_1 = Word2Vec(sentences=sample_texts, vector_size=100, window=5, min_count=1, workers=4)"
   ]
  },
  {
   "cell_type": "code",
   "execution_count": 72,
   "metadata": {},
   "outputs": [],
   "source": [
    "sims_3 = model_3.wv.similar_by_key('survive')\n",
    "sims_1 = model_1.wv.similar_by_key('survive')"
   ]
  },
  {
   "cell_type": "code",
   "execution_count": 83,
   "metadata": {},
   "outputs": [],
   "source": [
    "import math"
   ]
  },
  {
   "cell_type": "code",
   "execution_count": 194,
   "metadata": {},
   "outputs": [],
   "source": [
    "def get_vec(texts, model, vector_size = 100):\n",
    "    result_vectors = []\n",
    "    for text in texts:\n",
    "        sent_vector = [0]*vector_size\n",
    "        for word in text:\n",
    "            sent_vector += model.wv[word]\n",
    "        sent_vector = [math.tanh(value) for value in sent_vector]\n",
    "        result_vectors.append(sent_vector)\n",
    "    return result_vectors"
   ]
  },
  {
   "cell_type": "code",
   "execution_count": 195,
   "metadata": {},
   "outputs": [
    {
     "data": {
      "text/plain": [
       "[0.9455337453916948,\n",
       " 0.9999999999837498,\n",
       " 0.9999999966883775,\n",
       " -0.9908416622182903,\n",
       " 0.9989247658938119,\n",
       " -1.0,\n",
       " 0.9999795361516546,\n",
       " 1.0,\n",
       " -0.9933037452231659,\n",
       " -0.9999999997910743,\n",
       " -0.9999999920822019,\n",
       " -1.0,\n",
       " -0.9999999859081888,\n",
       " 0.9986121535934992,\n",
       " 0.9999998110053635,\n",
       " -1.0,\n",
       " 0.9999997984688607,\n",
       " -1.0,\n",
       " 1.0,\n",
       " -1.0,\n",
       " 1.0,\n",
       " 1.0,\n",
       " 0.9999999992377914,\n",
       " -1.0,\n",
       " 0.9587955604383555,\n",
       " -0.18345134973222488,\n",
       " -1.0,\n",
       " -1.0,\n",
       " -0.99999999999998,\n",
       " 0.9999953489496433,\n",
       " 0.999999999999999,\n",
       " 0.9874501255332668,\n",
       " -0.9995616040895067,\n",
       " -1.0,\n",
       " -1.0,\n",
       " 1.0,\n",
       " -0.9999999960281665,\n",
       " -1.0,\n",
       " -1.0,\n",
       " -1.0,\n",
       " 0.9999754825077208,\n",
       " -0.9999999994731184,\n",
       " -0.9999979555135606,\n",
       " 0.999767558083481,\n",
       " 1.0,\n",
       " -0.9991884471839527,\n",
       " -1.0,\n",
       " -0.9999999294933573,\n",
       " 0.9999999999954059,\n",
       " 1.0,\n",
       " -0.9830736314357922,\n",
       " -1.0,\n",
       " -0.9999999999999997,\n",
       " -0.9996778474556004,\n",
       " -1.0,\n",
       " -0.9932003306598555,\n",
       " 0.999999999998408,\n",
       " -0.9999999999868541,\n",
       " -1.0,\n",
       " 0.977412552957418,\n",
       " 0.9987243954929788,\n",
       " 0.9999987727542657,\n",
       " -0.8048759750557808,\n",
       " -0.9999999992568881,\n",
       " -1.0,\n",
       " 1.0,\n",
       " 0.9999999972680493,\n",
       " 1.0,\n",
       " -1.0,\n",
       " 0.9999997877933577,\n",
       " -0.9993352492545251,\n",
       " 1.0,\n",
       " 1.0,\n",
       " -0.999999999999996,\n",
       " 1.0,\n",
       " 0.9998352861407918,\n",
       " 0.9999999982236459,\n",
       " -0.9999999999953132,\n",
       " -1.0,\n",
       " 0.9999999999999998,\n",
       " -0.9999999999999948,\n",
       " -0.9999998630796821,\n",
       " -0.9999999999999999,\n",
       " 1.0,\n",
       " -0.9998884543726008,\n",
       " 0.9782559733285444,\n",
       " -0.003545334609468447,\n",
       " 1.0,\n",
       " 0.9999999569441331,\n",
       " 0.9999999951299947,\n",
       " 1.0,\n",
       " 1.0,\n",
       " 0.9999987324952848,\n",
       " 0.9999993204095563,\n",
       " 1.0,\n",
       " 1.0,\n",
       " 0.9651136157465092,\n",
       " -0.999999999999907,\n",
       " 0.9999999991643754,\n",
       " 0.9999999999998728]"
      ]
     },
     "execution_count": 195,
     "metadata": {},
     "output_type": "execute_result"
    }
   ],
   "source": [
    "vectors = get_vec(sample_texts, model_1)\n",
    "vectors[0]"
   ]
  },
  {
   "cell_type": "code",
   "execution_count": 137,
   "metadata": {},
   "outputs": [],
   "source": [
    "from sklearn.cluster import KMeans\n",
    "import warnings\n",
    "warnings.filterwarnings(\"ignore\")"
   ]
  },
  {
   "cell_type": "code",
   "execution_count": 164,
   "metadata": {},
   "outputs": [
    {
     "data": {
      "text/html": [
       "<style>#sk-container-id-2 {color: black;background-color: white;}#sk-container-id-2 pre{padding: 0;}#sk-container-id-2 div.sk-toggleable {background-color: white;}#sk-container-id-2 label.sk-toggleable__label {cursor: pointer;display: block;width: 100%;margin-bottom: 0;padding: 0.3em;box-sizing: border-box;text-align: center;}#sk-container-id-2 label.sk-toggleable__label-arrow:before {content: \"▸\";float: left;margin-right: 0.25em;color: #696969;}#sk-container-id-2 label.sk-toggleable__label-arrow:hover:before {color: black;}#sk-container-id-2 div.sk-estimator:hover label.sk-toggleable__label-arrow:before {color: black;}#sk-container-id-2 div.sk-toggleable__content {max-height: 0;max-width: 0;overflow: hidden;text-align: left;background-color: #f0f8ff;}#sk-container-id-2 div.sk-toggleable__content pre {margin: 0.2em;color: black;border-radius: 0.25em;background-color: #f0f8ff;}#sk-container-id-2 input.sk-toggleable__control:checked~div.sk-toggleable__content {max-height: 200px;max-width: 100%;overflow: auto;}#sk-container-id-2 input.sk-toggleable__control:checked~label.sk-toggleable__label-arrow:before {content: \"▾\";}#sk-container-id-2 div.sk-estimator input.sk-toggleable__control:checked~label.sk-toggleable__label {background-color: #d4ebff;}#sk-container-id-2 div.sk-label input.sk-toggleable__control:checked~label.sk-toggleable__label {background-color: #d4ebff;}#sk-container-id-2 input.sk-hidden--visually {border: 0;clip: rect(1px 1px 1px 1px);clip: rect(1px, 1px, 1px, 1px);height: 1px;margin: -1px;overflow: hidden;padding: 0;position: absolute;width: 1px;}#sk-container-id-2 div.sk-estimator {font-family: monospace;background-color: #f0f8ff;border: 1px dotted black;border-radius: 0.25em;box-sizing: border-box;margin-bottom: 0.5em;}#sk-container-id-2 div.sk-estimator:hover {background-color: #d4ebff;}#sk-container-id-2 div.sk-parallel-item::after {content: \"\";width: 100%;border-bottom: 1px solid gray;flex-grow: 1;}#sk-container-id-2 div.sk-label:hover label.sk-toggleable__label {background-color: #d4ebff;}#sk-container-id-2 div.sk-serial::before {content: \"\";position: absolute;border-left: 1px solid gray;box-sizing: border-box;top: 0;bottom: 0;left: 50%;z-index: 0;}#sk-container-id-2 div.sk-serial {display: flex;flex-direction: column;align-items: center;background-color: white;padding-right: 0.2em;padding-left: 0.2em;position: relative;}#sk-container-id-2 div.sk-item {position: relative;z-index: 1;}#sk-container-id-2 div.sk-parallel {display: flex;align-items: stretch;justify-content: center;background-color: white;position: relative;}#sk-container-id-2 div.sk-item::before, #sk-container-id-2 div.sk-parallel-item::before {content: \"\";position: absolute;border-left: 1px solid gray;box-sizing: border-box;top: 0;bottom: 0;left: 50%;z-index: -1;}#sk-container-id-2 div.sk-parallel-item {display: flex;flex-direction: column;z-index: 1;position: relative;background-color: white;}#sk-container-id-2 div.sk-parallel-item:first-child::after {align-self: flex-end;width: 50%;}#sk-container-id-2 div.sk-parallel-item:last-child::after {align-self: flex-start;width: 50%;}#sk-container-id-2 div.sk-parallel-item:only-child::after {width: 0;}#sk-container-id-2 div.sk-dashed-wrapped {border: 1px dashed gray;margin: 0 0.4em 0.5em 0.4em;box-sizing: border-box;padding-bottom: 0.4em;background-color: white;}#sk-container-id-2 div.sk-label label {font-family: monospace;font-weight: bold;display: inline-block;line-height: 1.2em;}#sk-container-id-2 div.sk-label-container {text-align: center;}#sk-container-id-2 div.sk-container {/* jupyter's `normalize.less` sets `[hidden] { display: none; }` but bootstrap.min.css set `[hidden] { display: none !important; }` so we also need the `!important` here to be able to override the default hidden behavior on the sphinx rendered scikit-learn.org. See: https://github.com/scikit-learn/scikit-learn/issues/21755 */display: inline-block !important;position: relative;}#sk-container-id-2 div.sk-text-repr-fallback {display: none;}</style><div id=\"sk-container-id-2\" class=\"sk-top-container\"><div class=\"sk-text-repr-fallback\"><pre>KMeans(n_clusters=100, random_state=123)</pre><b>In a Jupyter environment, please rerun this cell to show the HTML representation or trust the notebook. <br />On GitHub, the HTML representation is unable to render, please try loading this page with nbviewer.org.</b></div><div class=\"sk-container\" hidden><div class=\"sk-item\"><div class=\"sk-estimator sk-toggleable\"><input class=\"sk-toggleable__control sk-hidden--visually\" id=\"sk-estimator-id-2\" type=\"checkbox\" checked><label for=\"sk-estimator-id-2\" class=\"sk-toggleable__label sk-toggleable__label-arrow\">KMeans</label><div class=\"sk-toggleable__content\"><pre>KMeans(n_clusters=100, random_state=123)</pre></div></div></div></div></div>"
      ],
      "text/plain": [
       "KMeans(n_clusters=100, random_state=123)"
      ]
     },
     "execution_count": 164,
     "metadata": {},
     "output_type": "execute_result"
    }
   ],
   "source": [
    "kmeans = KMeans(n_clusters=100, random_state=123)\n",
    "kmeans.fit(vectors)"
   ]
  },
  {
   "cell_type": "code",
   "execution_count": 165,
   "metadata": {},
   "outputs": [
    {
     "data": {
      "text/plain": [
       "array([14, 54, 51, ..., 65, 37, 79])"
      ]
     },
     "execution_count": 165,
     "metadata": {},
     "output_type": "execute_result"
    }
   ],
   "source": [
    "kmeans.labels_"
   ]
  },
  {
   "cell_type": "code",
   "execution_count": 144,
   "metadata": {},
   "outputs": [],
   "source": [
    "# import matplotlib.pyplot as plt\n",
    "# from sklearn.metrics import silhouette_score"
   ]
  },
  {
   "cell_type": "code",
   "execution_count": 163,
   "metadata": {},
   "outputs": [
    {
     "data": {
      "image/png": "[encoded data removed]",
      "text/plain": [
       "<Figure size 640x480 with 1 Axes>"
      ]
     },
     "metadata": {},
     "output_type": "display_data"
    }
   ],
   "source": [
    "# range_n_clusters = range(98, 103)\n",
    "# silhouette_avg = []\n",
    "# for num_clusters in range_n_clusters:\n",
    "#     kmeans = KMeans(n_clusters=num_clusters, random_state=123)\n",
    "#     kmeans.fit(vectors)\n",
    "#     cluster_labels = kmeans.labels_\n",
    "#     silhouette_avg.append(silhouette_score(vectors, cluster_labels))\n",
    "# plt.plot(range_n_clusters, silhouette_avg, 'bx-')\n",
    "# plt.xlabel('Values of K')\n",
    "# plt.ylabel('Silhouette score')\n",
    "# plt.title('Silhouette analysis For Optimal k')\n",
    "# plt.show()"
   ]
  },
  {
   "cell_type": "code",
   "execution_count": 166,
   "metadata": {},
   "outputs": [],
   "source": [
    "from sklearn.metrics.pairwise import cosine_similarity"
   ]
  },
  {
   "cell_type": "code",
   "execution_count": 196,
   "metadata": {},
   "outputs": [],
   "source": [
    "sim_matrix = cosine_similarity(vectors)"
   ]
  },
  {
   "cell_type": "code",
   "execution_count": 171,
   "metadata": {},
   "outputs": [],
   "source": [
    "ids = df.goodreads_book_id.tolist()\n",
    "indices = pd.Series(df.index, index=ids)"
   ]
  },
  {
   "cell_type": "code",
   "execution_count": 199,
   "metadata": {},
   "outputs": [],
   "source": [
    "idx = indices[25372801]\n",
    "sim_scores = list(enumerate(sim_matrix[idx]))\n",
    "sim_scores = sorted(sim_scores, key=lambda x: x[1], reverse=True)\n",
    "sim_scores = sim_scores[1:10]\n",
    "item_indices = [i[0] for i in sim_scores]"
   ]
  },
  {
   "cell_type": "code",
   "execution_count": 200,
   "metadata": {},
   "outputs": [
    {
     "data": {
      "text/html": [
       "<div>\n",
       "<style scoped>\n",
       "    .dataframe tbody tr th:only-of-type {\n",
       "        vertical-align: middle;\n",
       "    }\n",
       "\n",
       "    .dataframe tbody tr th {\n",
       "        vertical-align: top;\n",
       "    }\n",
       "\n",
       "    .dataframe thead th {\n",
       "        text-align: right;\n",
       "    }\n",
       "</style>\n",
       "<table border=\"1\" class=\"dataframe\">\n",
       "  <thead>\n",
       "    <tr style=\"text-align: right;\">\n",
       "      <th></th>\n",
       "      <th>goodreads_book_id</th>\n",
       "      <th>isbn</th>\n",
       "      <th>isbn13</th>\n",
       "      <th>original_publication_year</th>\n",
       "      <th>original_title</th>\n",
       "      <th>title</th>\n",
       "      <th>language_code</th>\n",
       "      <th>average_rating</th>\n",
       "      <th>ratings_count</th>\n",
       "      <th>description</th>\n",
       "    </tr>\n",
       "  </thead>\n",
       "  <tbody>\n",
       "    <tr>\n",
       "      <th>0</th>\n",
       "      <td>17449197</td>\n",
       "      <td>1613125348</td>\n",
       "      <td>9781613125340.0</td>\n",
       "      <td>2014.0</td>\n",
       "      <td>Unhinged</td>\n",
       "      <td>Unhinged (Splintered, #2)</td>\n",
       "      <td>eng</td>\n",
       "      <td>4.25</td>\n",
       "      <td>14445</td>\n",
       "      <td>Alyssa Gardner has been down the rabbit hole a...</td>\n",
       "    </tr>\n",
       "    <tr>\n",
       "      <th>0</th>\n",
       "      <td>15881</td>\n",
       "      <td>439064864</td>\n",
       "      <td>9780439064870.0</td>\n",
       "      <td>1998.0</td>\n",
       "      <td>Harry Potter and the Chamber of Secrets</td>\n",
       "      <td>Harry Potter and the Chamber of Secrets (Harry...</td>\n",
       "      <td>eng</td>\n",
       "      <td>4.37</td>\n",
       "      <td>1779331</td>\n",
       "      <td>Ever since Harry Potter had come home for the ...</td>\n",
       "    </tr>\n",
       "    <tr>\n",
       "      <th>0</th>\n",
       "      <td>153865</td>\n",
       "      <td>439995442</td>\n",
       "      <td>9780439995440.0</td>\n",
       "      <td>1999.0</td>\n",
       "      <td>Captain Underpants and the Attack of the Talki...</td>\n",
       "      <td>Captain Underpants and the Attack of the Talki...</td>\n",
       "      <td>eng</td>\n",
       "      <td>3.99</td>\n",
       "      <td>25873</td>\n",
       "      <td>George and Harold are up to their usual tricks...</td>\n",
       "    </tr>\n",
       "    <tr>\n",
       "      <th>0</th>\n",
       "      <td>3</td>\n",
       "      <td>439554934</td>\n",
       "      <td>9780439554930.0</td>\n",
       "      <td>1997.0</td>\n",
       "      <td>Harry Potter and the Philosopher's Stone</td>\n",
       "      <td>Harry Potter and the Sorcerer's Stone (Harry P...</td>\n",
       "      <td>eng</td>\n",
       "      <td>4.44</td>\n",
       "      <td>4602479</td>\n",
       "      <td>Harry Potter has no idea how famous he is. Tha...</td>\n",
       "    </tr>\n",
       "    <tr>\n",
       "      <th>0</th>\n",
       "      <td>277191</td>\n",
       "      <td>689859392</td>\n",
       "      <td>9780689859400.0</td>\n",
       "      <td>2004.0</td>\n",
       "      <td>The Ironwood Tree</td>\n",
       "      <td>The Ironwood Tree (The Spiderwick Chronicles, #4)</td>\n",
       "      <td>eng</td>\n",
       "      <td>3.92</td>\n",
       "      <td>27293</td>\n",
       "      <td>First a pack of vile, smelly goblins snatch Si...</td>\n",
       "    </tr>\n",
       "    <tr>\n",
       "      <th>0</th>\n",
       "      <td>92375</td>\n",
       "      <td>451210743</td>\n",
       "      <td>9780451210750.0</td>\n",
       "      <td>2002.0</td>\n",
       "      <td>Hornet Flight</td>\n",
       "      <td>Hornet Flight</td>\n",
       "      <td>eng</td>\n",
       "      <td>3.83</td>\n",
       "      <td>11362</td>\n",
       "      <td>Ken Follett follows his bestsellers Jackdaws a...</td>\n",
       "    </tr>\n",
       "    <tr>\n",
       "      <th>0</th>\n",
       "      <td>10644930</td>\n",
       "      <td>1451627289</td>\n",
       "      <td>9781451627280.0</td>\n",
       "      <td>2011.0</td>\n",
       "      <td>11/22/63</td>\n",
       "      <td>11/22/63</td>\n",
       "      <td>eng</td>\n",
       "      <td>4.29</td>\n",
       "      <td>258464</td>\n",
       "      <td>On November 22, 1963, three shots rang out in ...</td>\n",
       "    </tr>\n",
       "    <tr>\n",
       "      <th>0</th>\n",
       "      <td>807968</td>\n",
       "      <td>60514094</td>\n",
       "      <td>9780060514100.0</td>\n",
       "      <td>2002.0</td>\n",
       "      <td>Molly Moon's Incredible Book of Hypnotism</td>\n",
       "      <td>Molly Moon's Incredible Book of Hypnotism (Mol...</td>\n",
       "      <td>eng</td>\n",
       "      <td>3.87</td>\n",
       "      <td>16311</td>\n",
       "      <td>Welcome to the Wonderful World of HypnotismMol...</td>\n",
       "    </tr>\n",
       "    <tr>\n",
       "      <th>0</th>\n",
       "      <td>6506307</td>\n",
       "      <td>553803190</td>\n",
       "      <td>9780553803200.0</td>\n",
       "      <td>2010.0</td>\n",
       "      <td>Blackout</td>\n",
       "      <td>Blackout (All Clear, #1)</td>\n",
       "      <td>eng</td>\n",
       "      <td>3.83</td>\n",
       "      <td>14665</td>\n",
       "      <td>Oxford in 2060 is a chaotic place, with scores...</td>\n",
       "    </tr>\n",
       "  </tbody>\n",
       "</table>\n",
       "</div>"
      ],
      "text/plain": [
       "  goodreads_book_id        isbn           isbn13 original_publication_year  \\\n",
       "0          17449197  1613125348  9781613125340.0                    2014.0   \n",
       "0             15881   439064864  9780439064870.0                    1998.0   \n",
       "0            153865   439995442  9780439995440.0                    1999.0   \n",
       "0                 3   439554934  9780439554930.0                    1997.0   \n",
       "0            277191   689859392  9780689859400.0                    2004.0   \n",
       "0             92375   451210743  9780451210750.0                    2002.0   \n",
       "0          10644930  1451627289  9781451627280.0                    2011.0   \n",
       "0            807968    60514094  9780060514100.0                    2002.0   \n",
       "0           6506307   553803190  9780553803200.0                    2010.0   \n",
       "\n",
       "                                      original_title  \\\n",
       "0                                           Unhinged   \n",
       "0            Harry Potter and the Chamber of Secrets   \n",
       "0  Captain Underpants and the Attack of the Talki...   \n",
       "0           Harry Potter and the Philosopher's Stone   \n",
       "0                                  The Ironwood Tree   \n",
       "0                                      Hornet Flight   \n",
       "0                                           11/22/63   \n",
       "0          Molly Moon's Incredible Book of Hypnotism   \n",
       "0                                           Blackout   \n",
       "\n",
       "                                               title language_code  \\\n",
       "0                          Unhinged (Splintered, #2)           eng   \n",
       "0  Harry Potter and the Chamber of Secrets (Harry...           eng   \n",
       "0  Captain Underpants and the Attack of the Talki...           eng   \n",
       "0  Harry Potter and the Sorcerer's Stone (Harry P...           eng   \n",
       "0  The Ironwood Tree (The Spiderwick Chronicles, #4)           eng   \n",
       "0                                      Hornet Flight           eng   \n",
       "0                                           11/22/63           eng   \n",
       "0  Molly Moon's Incredible Book of Hypnotism (Mol...           eng   \n",
       "0                           Blackout (All Clear, #1)           eng   \n",
       "\n",
       "   average_rating  ratings_count  \\\n",
       "0            4.25          14445   \n",
       "0            4.37        1779331   \n",
       "0            3.99          25873   \n",
       "0            4.44        4602479   \n",
       "0            3.92          27293   \n",
       "0            3.83          11362   \n",
       "0            4.29         258464   \n",
       "0            3.87          16311   \n",
       "0            3.83          14665   \n",
       "\n",
       "                                         description  \n",
       "0  Alyssa Gardner has been down the rabbit hole a...  \n",
       "0  Ever since Harry Potter had come home for the ...  \n",
       "0  George and Harold are up to their usual tricks...  \n",
       "0  Harry Potter has no idea how famous he is. Tha...  \n",
       "0  First a pack of vile, smelly goblins snatch Si...  \n",
       "0  Ken Follett follows his bestsellers Jackdaws a...  \n",
       "0  On November 22, 1963, three shots rang out in ...  \n",
       "0  Welcome to the Wonderful World of HypnotismMol...  \n",
       "0  Oxford in 2060 is a chaotic place, with scores...  "
      ]
     },
     "metadata": {},
     "output_type": "display_data"
    }
   ],
   "source": [
    "flag = True\n",
    "items = df.iloc[item_indices].goodreads_book_id.tolist()\n",
    "for index in items:\n",
    "    query = sa.text(\n",
    "        f\"SELECT * FROM books WHERE goodreads_book_id = {index}\"\n",
    "    )\n",
    "    temp = pd.read_sql_query(query, con=pool.connect())\n",
    "    if flag:\n",
    "        recommends = temp\n",
    "        flag = False\n",
    "    else:\n",
    "        recommends = pd.concat([recommends, temp])\n",
    "display(recommends)"
   ]
  },
  {
   "cell_type": "code",
   "execution_count": 188,
   "metadata": {},
   "outputs": [
    {
     "data": {
      "text/plain": [
       "[15852756, 9475, 35921, 71811, 25372801, 13619, 34451, 16012, 38333]"
      ]
     },
     "execution_count": 188,
     "metadata": {},
     "output_type": "execute_result"
    }
   ],
   "source": [
    "df.iloc[item_indices].goodreads_book_id.tolist()"
   ]
  },
  {
   "cell_type": "code",
   "execution_count": null,
   "metadata": {},
   "outputs": [],
   "source": []
  },
  {
   "cell_type": "code",
   "execution_count": null,
   "metadata": {},
   "outputs": [],
   "source": []
  },
  {
   "cell_type": "code",
   "execution_count": null,
   "metadata": {},
   "outputs": [],
   "source": []
  },
  {
   "cell_type": "code",
   "execution_count": null,
   "metadata": {},
   "outputs": [],
   "source": []
  },
  {
   "cell_type": "code",
   "execution_count": null,
   "metadata": {},
   "outputs": [],
   "source": []
  },
  {
   "cell_type": "code",
   "execution_count": null,
   "metadata": {},
   "outputs": [],
   "source": []
  },
  {
   "cell_type": "code",
   "execution_count": null,
   "metadata": {},
   "outputs": [],
   "source": []
  },
  {
   "cell_type": "code",
   "execution_count": null,
   "metadata": {},
   "outputs": [],
   "source": []
  }
 ],
 "metadata": {
  "kernelspec": {
   "display_name": "Python 3",
   "language": "python",
   "name": "python3"
  },
  "language_info": {
   "codemirror_mode": {
    "name": "ipython",
    "version": 3
   },
   "file_extension": ".py",
   "mimetype": "text/x-python",
   "name": "python",
   "nbconvert_exporter": "python",
   "pygments_lexer": "ipython3",
   "version": "3.10.9"
  },
  "orig_nbformat": 4
 },
 "nbformat": 4,
 "nbformat_minor": 2
}
