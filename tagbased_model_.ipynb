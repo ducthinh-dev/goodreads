{
 "cells": [
  {
   "attachments": {},
   "cell_type": "markdown",
   "metadata": {},
   "source": [
    "### IMPORT LIBRARIES & DATA"
   ]
  },
  {
   "cell_type": "code",
   "execution_count": 1,
   "metadata": {},
   "outputs": [],
   "source": [
    "import pandas as pd\n",
    "import mysql.connector\n",
    "import sqlalchemy as sa\n",
    "import getpass\n",
    "from sklearn.metrics.pairwise import cosine_similarity"
   ]
  },
  {
   "cell_type": "code",
   "execution_count": 2,
   "metadata": {},
   "outputs": [
    {
     "name": "stdout",
     "output_type": "stream",
     "text": [
      "Current time:  2023-05-10 15:19:12\n"
     ]
    }
   ],
   "source": [
    "def getconn():\n",
    "    conn = mysql.connector.connect(\n",
    "        host=\"localhost\",\n",
    "        user=\"root\",\n",
    "        password=getpass.getpass(),\n",
    "        database=\"goodreads\"\n",
    "    )\n",
    "    return conn\n",
    "\n",
    "pool = sa.create_engine(\n",
    "    \"mysql+mysqlconnector://\",\n",
    "    creator=getconn,\n",
    ")\n",
    "\n",
    "with pool.connect() as db_conn:\n",
    "    results = db_conn.execute(sa.text(\"SELECT NOW()\")).fetchone()\n",
    "    print(\"Current time: \", results[0])"
   ]
  },
  {
   "cell_type": "code",
   "execution_count": 4,
   "metadata": {},
   "outputs": [],
   "source": [
    "books_query = sa.text(\n",
    "    \"SELECT * FROM books;\"\n",
    ")\n",
    "books_df = pd.read_sql_query(books_query,con=pool.connect())"
   ]
  },
  {
   "cell_type": "code",
   "execution_count": 5,
   "metadata": {},
   "outputs": [],
   "source": [
    "book_tags_query = sa.text(\n",
    "    \"SELECT * FROM new_book_tags;\"\n",
    ")\n",
    "book_tags = pd.read_sql_query(book_tags_query, con=pool.connect())"
   ]
  },
  {
   "attachments": {},
   "cell_type": "markdown",
   "metadata": {},
   "source": [
    "### MODEL"
   ]
  },
  {
   "cell_type": "code",
   "execution_count": 38,
   "metadata": {},
   "outputs": [],
   "source": [
    "class Tagbased_recommender:\n",
    "    def __init__(self):\n",
    "        self.pivot_table=None\n",
    "        self.matrix=None\n",
    "        self.indices=None\n",
    "        self.cosine_sim=None\n",
    "    \n",
    "    def fit(self, data):\n",
    "        self.pivot_table = pd.pivot_table(data, index='goodreads_book_id', columns='tag_name', aggfunc=len, fill_value=0)\n",
    "        self.matrix = self.pivot_table.values\n",
    "        indices_values = [num for num in list(range(len(self.pivot_table)))]\n",
    "        self.indices = pd.Series(indices_values, index=self.pivot_table.index.astype(int))\n",
    "        self.cosine_sim = cosine_similarity(self.matrix)\n",
    "\n",
    "    def get_recommendations(self, id, num_recommends = 5):\n",
    "        idx = self.indices[int(id)]\n",
    "        sim_scores = list(enumerate(self.cosine_sim[idx]))\n",
    "        sim_scores = sorted(sim_scores, key=lambda x: x[1], reverse=True)\n",
    "        sim_scores = sim_scores[1:num_recommends+1]\n",
    "        book_indices = [i[0] for i in sim_scores]\n",
    "        return book_indices"
   ]
  },
  {
   "cell_type": "code",
   "execution_count": 39,
   "metadata": {},
   "outputs": [],
   "source": [
    "recommender = Tagbased_recommender()\n",
    "recommender.fit(book_tags)"
   ]
  },
  {
   "cell_type": "code",
   "execution_count": 41,
   "metadata": {},
   "outputs": [
    {
     "data": {
      "text/html": [
       "<div>\n",
       "<style scoped>\n",
       "    .dataframe tbody tr th:only-of-type {\n",
       "        vertical-align: middle;\n",
       "    }\n",
       "\n",
       "    .dataframe tbody tr th {\n",
       "        vertical-align: top;\n",
       "    }\n",
       "\n",
       "    .dataframe thead th {\n",
       "        text-align: right;\n",
       "    }\n",
       "</style>\n",
       "<table border=\"1\" class=\"dataframe\">\n",
       "  <thead>\n",
       "    <tr style=\"text-align: right;\">\n",
       "      <th></th>\n",
       "      <th>goodreads_book_id</th>\n",
       "      <th>work_id</th>\n",
       "      <th>books_count</th>\n",
       "      <th>isbn</th>\n",
       "      <th>isbn13</th>\n",
       "      <th>original_publication_year</th>\n",
       "      <th>original_title</th>\n",
       "      <th>title</th>\n",
       "      <th>language_code</th>\n",
       "      <th>average_rating</th>\n",
       "      <th>ratings_count</th>\n",
       "      <th>description</th>\n",
       "    </tr>\n",
       "  </thead>\n",
       "  <tbody>\n",
       "    <tr>\n",
       "      <th>2162</th>\n",
       "      <td>13143</td>\n",
       "      <td>2471943</td>\n",
       "      <td>82</td>\n",
       "      <td>446608815</td>\n",
       "      <td>9780446608820.0</td>\n",
       "      <td>1999.0</td>\n",
       "      <td>Pop Goes the Weasel</td>\n",
       "      <td>Pop Goes the Weasel (Alex Cross, #5)</td>\n",
       "      <td>eng</td>\n",
       "      <td>3.98</td>\n",
       "      <td>46820</td>\n",
       "      <td>Detective Alex Cross is back-and he's in love....</td>\n",
       "    </tr>\n",
       "    <tr>\n",
       "      <th>6739</th>\n",
       "      <td>1563413</td>\n",
       "      <td>1555975</td>\n",
       "      <td>2</td>\n",
       "      <td>307020916</td>\n",
       "      <td>9780307020920.0</td>\n",
       "      <td>1973.0</td>\n",
       "      <td>The Three Little Pigs (A Little Golden Book)</td>\n",
       "      <td>The Three Little Pigs</td>\n",
       "      <td>eng</td>\n",
       "      <td>4.26</td>\n",
       "      <td>14779</td>\n",
       "      <td>Relates the adventures of three little pigs wh...</td>\n",
       "    </tr>\n",
       "    <tr>\n",
       "      <th>1608</th>\n",
       "      <td>14817</td>\n",
       "      <td>1527439</td>\n",
       "      <td>97</td>\n",
       "      <td>057507681X</td>\n",
       "      <td>9780575076820.0</td>\n",
       "      <td>1977.0</td>\n",
       "      <td>A Scanner Darkly</td>\n",
       "      <td>A Scanner Darkly</td>\n",
       "      <td>eng</td>\n",
       "      <td>4.04</td>\n",
       "      <td>54014</td>\n",
       "      <td>Substance D is not known as Death for nothing....</td>\n",
       "    </tr>\n",
       "    <tr>\n",
       "      <th>7280</th>\n",
       "      <td>790171</td>\n",
       "      <td>1127127</td>\n",
       "      <td>140</td>\n",
       "      <td>671726528</td>\n",
       "      <td>9780671726520.0</td>\n",
       "      <td>1948.0</td>\n",
       "      <td>Kon-Tiki Ekspedisjonen</td>\n",
       "      <td>Kon-Tiki: Across The Pacific In A Raft</td>\n",
       "      <td>eng</td>\n",
       "      <td>4.10</td>\n",
       "      <td>13541</td>\n",
       "      <td>Kon-Tiki is the record of an astonishing adven...</td>\n",
       "    </tr>\n",
       "    <tr>\n",
       "      <th>0</th>\n",
       "      <td>2767052</td>\n",
       "      <td>2792775</td>\n",
       "      <td>272</td>\n",
       "      <td>439023483</td>\n",
       "      <td>9780439023480.0</td>\n",
       "      <td>2008.0</td>\n",
       "      <td>The Hunger Games</td>\n",
       "      <td>The Hunger Games (The Hunger Games, #1)</td>\n",
       "      <td>eng</td>\n",
       "      <td>4.34</td>\n",
       "      <td>4780653</td>\n",
       "      <td>Could you survive on your own in the wild, wit...</td>\n",
       "    </tr>\n",
       "  </tbody>\n",
       "</table>\n",
       "</div>"
      ],
      "text/plain": [
       "     goodreads_book_id  work_id  books_count        isbn           isbn13  \\\n",
       "2162             13143  2471943           82   446608815  9780446608820.0   \n",
       "6739           1563413  1555975            2   307020916  9780307020920.0   \n",
       "1608             14817  1527439           97  057507681X  9780575076820.0   \n",
       "7280            790171  1127127          140   671726528  9780671726520.0   \n",
       "0              2767052  2792775          272   439023483  9780439023480.0   \n",
       "\n",
       "     original_publication_year                                original_title  \\\n",
       "2162                    1999.0                           Pop Goes the Weasel   \n",
       "6739                    1973.0  The Three Little Pigs (A Little Golden Book)   \n",
       "1608                    1977.0                             A Scanner Darkly    \n",
       "7280                    1948.0                        Kon-Tiki Ekspedisjonen   \n",
       "0                       2008.0                              The Hunger Games   \n",
       "\n",
       "                                        title language_code  average_rating  \\\n",
       "2162     Pop Goes the Weasel (Alex Cross, #5)           eng            3.98   \n",
       "6739                    The Three Little Pigs           eng            4.26   \n",
       "1608                         A Scanner Darkly           eng            4.04   \n",
       "7280   Kon-Tiki: Across The Pacific In A Raft           eng            4.10   \n",
       "0     The Hunger Games (The Hunger Games, #1)           eng            4.34   \n",
       "\n",
       "      ratings_count                                        description  \n",
       "2162          46820  Detective Alex Cross is back-and he's in love....  \n",
       "6739          14779  Relates the adventures of three little pigs wh...  \n",
       "1608          54014  Substance D is not known as Death for nothing....  \n",
       "7280          13541  Kon-Tiki is the record of an astonishing adven...  \n",
       "0           4780653  Could you survive on your own in the wild, wit...  "
      ]
     },
     "execution_count": 41,
     "metadata": {},
     "output_type": "execute_result"
    }
   ],
   "source": [
    "books_df.iloc[recommender.get_recommendations('3')]"
   ]
  },
  {
   "cell_type": "code",
   "execution_count": 42,
   "metadata": {},
   "outputs": [],
   "source": [
    "import pickle\n",
    "\n",
    "with open('tagbased_recommender.pkl', 'wb') as f:\n",
    "    pickle.dump(recommender, f)"
   ]
  },
  {
   "cell_type": "code",
   "execution_count": 43,
   "metadata": {},
   "outputs": [
    {
     "data": {
      "text/plain": [
       "[2162, 6739, 1608, 7280, 0, 4343, 4899, 3634, 247, 815]"
      ]
     },
     "execution_count": 43,
     "metadata": {},
     "output_type": "execute_result"
    }
   ],
   "source": [
    "with open('tagbased_recommender.pkl', 'rb') as f:\n",
    "    model = pickle.load(f)\n",
    "\n",
    "model.get_recommendations('3', 10)"
   ]
  },
  {
   "cell_type": "code",
   "execution_count": null,
   "metadata": {},
   "outputs": [],
   "source": []
  },
  {
   "cell_type": "code",
   "execution_count": null,
   "metadata": {},
   "outputs": [],
   "source": []
  },
  {
   "cell_type": "code",
   "execution_count": null,
   "metadata": {},
   "outputs": [],
   "source": []
  },
  {
   "cell_type": "code",
   "execution_count": null,
   "metadata": {},
   "outputs": [],
   "source": []
  },
  {
   "cell_type": "code",
   "execution_count": null,
   "metadata": {},
   "outputs": [],
   "source": []
  },
  {
   "cell_type": "code",
   "execution_count": null,
   "metadata": {},
   "outputs": [],
   "source": []
  },
  {
   "cell_type": "code",
   "execution_count": null,
   "metadata": {},
   "outputs": [],
   "source": []
  },
  {
   "cell_type": "code",
   "execution_count": null,
   "metadata": {},
   "outputs": [],
   "source": []
  },
  {
   "cell_type": "code",
   "execution_count": null,
   "metadata": {},
   "outputs": [],
   "source": []
  },
  {
   "cell_type": "code",
   "execution_count": null,
   "metadata": {},
   "outputs": [],
   "source": []
  },
  {
   "cell_type": "code",
   "execution_count": null,
   "metadata": {},
   "outputs": [],
   "source": []
  },
  {
   "cell_type": "code",
   "execution_count": null,
   "metadata": {},
   "outputs": [],
   "source": []
  },
  {
   "cell_type": "code",
   "execution_count": null,
   "metadata": {},
   "outputs": [],
   "source": []
  },
  {
   "cell_type": "code",
   "execution_count": null,
   "metadata": {},
   "outputs": [],
   "source": []
  },
  {
   "cell_type": "code",
   "execution_count": null,
   "metadata": {},
   "outputs": [],
   "source": []
  },
  {
   "cell_type": "code",
   "execution_count": null,
   "metadata": {},
   "outputs": [],
   "source": []
  },
  {
   "cell_type": "code",
   "execution_count": null,
   "metadata": {},
   "outputs": [],
   "source": []
  }
 ],
 "metadata": {
  "kernelspec": {
   "display_name": "Python 3",
   "language": "python",
   "name": "python3"
  },
  "language_info": {
   "codemirror_mode": {
    "name": "ipython",
    "version": 3
   },
   "file_extension": ".py",
   "mimetype": "text/x-python",
   "name": "python",
   "nbconvert_exporter": "python",
   "pygments_lexer": "ipython3",
   "version": "3.10.9"
  },
  "orig_nbformat": 4
 },
 "nbformat": 4,
 "nbformat_minor": 2
}
