{
 "cells": [
  {
   "attachments": {},
   "cell_type": "markdown",
   "metadata": {},
   "source": [
    "### LIBS & CONNECTOR"
   ]
  },
  {
   "cell_type": "code",
   "execution_count": 1,
   "metadata": {},
   "outputs": [],
   "source": [
    "from IPython.display import clear_output\n",
    "import math\n",
    "import numpy as np\n",
    "import pandas as pd\n",
    "import sqlalchemy as sa\n",
    "import mysql.connector\n",
    "import getpass\n",
    "import warnings\n",
    "warnings.filterwarnings(\"ignore\")"
   ]
  },
  {
   "cell_type": "code",
   "execution_count": 2,
   "metadata": {},
   "outputs": [],
   "source": [
    "from gensim.models import Word2Vec\n",
    "from gensim.test.utils import common_texts\n",
    "from gensim.models.doc2vec import Doc2Vec, TaggedDocument\n",
    "from sklearn.metrics.pairwise import cosine_similarity\n",
    "from sklearn.cluster import KMeans\n",
    "from sklearn.cluster import DBSCAN\n",
    "from sklearn.metrics import silhouette_score\n",
    "import matplotlib.pyplot as plt\n",
    "from hdbscan import HDBSCAN"
   ]
  },
  {
   "cell_type": "code",
   "execution_count": 3,
   "metadata": {},
   "outputs": [
    {
     "name": "stderr",
     "output_type": "stream",
     "text": [
      "[nltk_data] Downloading package punkt to\n",
      "[nltk_data]     C:\\Users\\ACER\\AppData\\Roaming\\nltk_data...\n",
      "[nltk_data]   Package punkt is already up-to-date!\n",
      "[nltk_data] Downloading package stopwords to\n",
      "[nltk_data]     C:\\Users\\ACER\\AppData\\Roaming\\nltk_data...\n",
      "[nltk_data]   Package stopwords is already up-to-date!\n",
      "[nltk_data] Downloading package wordnet to\n",
      "[nltk_data]     C:\\Users\\ACER\\AppData\\Roaming\\nltk_data...\n",
      "[nltk_data]   Package wordnet is already up-to-date!\n",
      "[nltk_data] Downloading package words to\n",
      "[nltk_data]     C:\\Users\\ACER\\AppData\\Roaming\\nltk_data...\n",
      "[nltk_data]   Package words is already up-to-date!\n"
     ]
    }
   ],
   "source": [
    "import nltk\n",
    "from nltk import word_tokenize\n",
    "from nltk.corpus import stopwords\n",
    "from nltk.corpus import words\n",
    "from nltk.stem import WordNetLemmatizer\n",
    "nltk.download('punkt')\n",
    "nltk.download('stopwords')\n",
    "nltk.download('wordnet')\n",
    "nltk.download('words')\n",
    "\n",
    "ENGLISH_WORDS = set(words.words())"
   ]
  },
  {
   "cell_type": "code",
   "execution_count": 37,
   "metadata": {},
   "outputs": [],
   "source": [
    "from sklearn.linear_model import Ridge"
   ]
  },
  {
   "cell_type": "code",
   "execution_count": 4,
   "metadata": {},
   "outputs": [],
   "source": [
    "HOST = 'localhost'\n",
    "USER = 'root'\n",
    "DATABASE = 'goodreads'\n",
    "PASSWORD = getpass.getpass(f'Enter password for {USER}: ')"
   ]
  },
  {
   "cell_type": "code",
   "execution_count": 5,
   "metadata": {},
   "outputs": [
    {
     "name": "stdout",
     "output_type": "stream",
     "text": [
      "Current time:  2023-06-13 19:55:12\n"
     ]
    }
   ],
   "source": [
    "def getconn():\n",
    "    conn = mysql.connector.connect(\n",
    "        host=HOST,\n",
    "        user=USER,\n",
    "        password=PASSWORD,\n",
    "        database=DATABASE\n",
    "    )\n",
    "    return conn\n",
    "\n",
    "pool = sa.create_engine(\n",
    "    \"mysql+mysqlconnector://\",\n",
    "    creator=getconn,\n",
    ")\n",
    "\n",
    "with pool.connect() as db_conn:\n",
    "    results = db_conn.execute(sa.text(\"SELECT NOW()\")).fetchone()\n",
    "    print(\"Current time: \", results[0])"
   ]
  },
  {
   "attachments": {},
   "cell_type": "markdown",
   "metadata": {},
   "source": [
    "### DATA"
   ]
  },
  {
   "cell_type": "code",
   "execution_count": 6,
   "metadata": {},
   "outputs": [],
   "source": [
    "books_query = sa.text(\n",
    "    \"SELECT * FROM books;\"\n",
    ")\n",
    "books_df = pd.read_sql_query(books_query, con=pool.connect())"
   ]
  },
  {
   "cell_type": "code",
   "execution_count": 12,
   "metadata": {},
   "outputs": [],
   "source": [
    "indices = pd.Series(books_df.index, index=books_df.goodreads_book_id)"
   ]
  },
  {
   "attachments": {},
   "cell_type": "markdown",
   "metadata": {},
   "source": [
    "### MODEL"
   ]
  },
  {
   "cell_type": "code",
   "execution_count": 67,
   "metadata": {},
   "outputs": [],
   "source": [
    "class Doc2VecModel:\n",
    "    def __init__(self, data, data_id, data_document):\n",
    "        self.data = data\n",
    "        self.data_id = data_id\n",
    "        self.data_document = data_document\n",
    "        self.documents = data[data_document]\n",
    "        self.ids = data[data_id]\n",
    "        self.indices = pd.Series(data.index, index=self.ids)\n",
    "        self.model = None\n",
    "        self.docvecs = []\n",
    "        self.sim_matrix = None\n",
    "\n",
    "    def preprocess_doc(self):\n",
    "        lemmatizer = WordNetLemmatizer()\n",
    "        stop_words = set(stopwords.words('english'))\n",
    "        docs_list = []\n",
    "        for doc in self.documents:\n",
    "            tokens = word_tokenize(doc)\n",
    "            tokens = [token.lower() for token in tokens if token.lower(\n",
    "            ) not in stop_words and token.isalpha() and token.lower() in ENGLISH_WORDS]\n",
    "            tokens = [lemmatizer.lemmatize(token) for token in tokens]\n",
    "            docs_list.append(' '.join(tokens))\n",
    "        return docs_list\n",
    "\n",
    "    def get_feature_vectors(self, ids=[]):\n",
    "        if ids:\n",
    "            result_vectors = []\n",
    "            for id in ids:\n",
    "                result_vectors.append(self.docvecs[self.indices[id]])\n",
    "            return (ids, result_vectors)\n",
    "        else:\n",
    "            return (self.indices.index, self.feature_vectors)\n",
    "\n",
    "    def update_user(self, items, ratings, alpha=1):\n",
    "        self.user_items = items\n",
    "        _, self.items_vectors = self.get_feature_vectors(self.user_items)\n",
    "        # ratings = np.array(ratings)\n",
    "        self.user_ratings = ratings\n",
    "        self.ridge = Ridge(alpha=alpha).fit(\n",
    "            self.items_vectors, self.user_ratings)\n",
    "\n",
    "    def get_personal_recommendations(self, top=5):\n",
    "        a = []\n",
    "        for id in self.ids.tolist():\n",
    "            if id not in self.user_items:\n",
    "                a.append(id)\n",
    "        ids, remained = self.get_feature_vectors(a)\n",
    "        predicts = self.ridge.predict(remained).flatten()\n",
    "        pre_dict = dict(zip(ids, predicts))\n",
    "        pre_dict = dict(\n",
    "            sorted(pre_dict.items(), key=lambda item: item[1], reverse=True)[:top])\n",
    "        return list(pre_dict.keys())\n",
    "\n",
    "    def get_recommendations(self, book_id, num_recommends=5):\n",
    "        idx = self.indices[book_id]\n",
    "        sim_scores = list(enumerate(self.sim_matrix[idx]))\n",
    "        sim_scores = sorted(sim_scores, key=lambda x: x[1], reverse=True)\n",
    "        sim_scores = sim_scores[1:num_recommends]\n",
    "        item_indices = [i[0] for i in sim_scores]\n",
    "        return self.data.iloc[item_indices]\n",
    "\n",
    "    def score(self, measurement, test_data, test_ratings):\n",
    "        _, test_vectors = self.get_feature_vectors(test_data)\n",
    "        predicts = self.ridge.predict(test_vectors).flatten()\n",
    "        score = measurement(predicts, test_ratings)\n",
    "        return score\n",
    "\n",
    "    def get_docvecs(self):\n",
    "        return self.indices, self.docvecs\n",
    "\n",
    "    def fit(self, vector_size=50):\n",
    "        processed_docs = self.preprocess_doc()\n",
    "        documents = [TaggedDocument(doc, [index])\n",
    "                     for index, doc in enumerate(processed_docs)]\n",
    "        self.model = Doc2Vec(documents, vector_size=vector_size,\n",
    "                             window=5, min_count=3, workers=4, epochs=5)\n",
    "        data_len = len(self.ids)\n",
    "        self.docvecs = []\n",
    "        for i in range(0, data_len):\n",
    "            self.docvecs.append(self.model.docvecs[i])\n",
    "        self.sim_matrix = cosine_similarity(self.docvecs)\n"
   ]
  },
  {
   "cell_type": "code",
   "execution_count": 68,
   "metadata": {},
   "outputs": [],
   "source": [
    "book_id = 'goodreads_book_id'\n",
    "description = 'description'\n",
    "model = Doc2VecModel(books_df, book_id, description)\n",
    "model.fit(vector_size=100)"
   ]
  },
  {
   "cell_type": "code",
   "execution_count": 69,
   "metadata": {},
   "outputs": [],
   "source": [
    "ratings = pd.read_csv('./data/main/ratings_train.dat', sep=':', header=None)\n",
    "ratings_test = pd.read_csv('./data/main/ratings_test.dat', sep=':', header=None)"
   ]
  },
  {
   "cell_type": "code",
   "execution_count": 92,
   "metadata": {},
   "outputs": [],
   "source": [
    "user_1 = ratings.loc[ratings[0] == 1]\n",
    "user_1_test = ratings_test.loc[ratings[0] == 1]"
   ]
  },
  {
   "cell_type": "code",
   "execution_count": 93,
   "metadata": {},
   "outputs": [],
   "source": [
    "uitems = user_1[1].astype(str).tolist()\n",
    "uratings = user_1[2].tolist()\n",
    "uitems_test = user_1_test[1].astype(str).tolist()\n",
    "uratings_test = user_1_test[2].tolist()"
   ]
  },
  {
   "cell_type": "code",
   "execution_count": 94,
   "metadata": {},
   "outputs": [],
   "source": [
    "model.update_user(uitems, uratings)"
   ]
  },
  {
   "cell_type": "code",
   "execution_count": 95,
   "metadata": {},
   "outputs": [],
   "source": [
    "from sklearn.metrics import mean_squared_error as MSE\n",
    "from sklearn.preprocessing import MinMaxScaler as MMS"
   ]
  },
  {
   "cell_type": "code",
   "execution_count": 96,
   "metadata": {},
   "outputs": [
    {
     "name": "stdout",
     "output_type": "stream",
     "text": [
      "fitting with size of 900.\n"
     ]
    }
   ],
   "source": [
    "mse = []\n",
    "for size in range(100, 1000, 100):\n",
    "    clear_output(wait=True)\n",
    "    print(f'fitting with size of {size}.')\n",
    "    model.fit(vector_size=500)\n",
    "    model.update_user(uitems, uratings)\n",
    "    mse.append(model.score(MSE, uitems_test, uratings_test))"
   ]
  },
  {
   "cell_type": "code",
   "execution_count": 97,
   "metadata": {},
   "outputs": [],
   "source": [
    "import matplotlib.pyplot as plt"
   ]
  },
  {
   "cell_type": "code",
   "execution_count": 98,
   "metadata": {},
   "outputs": [
    {
     "data": {
      "text/plain": [
       "[<matplotlib.lines.Line2D at 0x18feec99e10>]"
      ]
     },
     "execution_count": 98,
     "metadata": {},
     "output_type": "execute_result"
    },
    {
     "data": {
      "image/png": "[encoded data removed]",
      "text/plain": [
       "<Figure size 640x480 with 1 Axes>"
      ]
     },
     "metadata": {},
     "output_type": "display_data"
    }
   ],
   "source": [
    "plt.plot(range(100, 1000, 100), mse)"
   ]
  },
  {
   "cell_type": "code",
   "execution_count": 110,
   "metadata": {},
   "outputs": [],
   "source": [
    "scaler = MMS()"
   ]
  },
  {
   "cell_type": "code",
   "execution_count": 118,
   "metadata": {},
   "outputs": [],
   "source": [
    "allratings = np.array(uratings + uratings_test)\n",
    "uratings = np.array(uratings)\n",
    "uratings_test = np.array(uratings_test)"
   ]
  },
  {
   "cell_type": "code",
   "execution_count": 119,
   "metadata": {},
   "outputs": [],
   "source": [
    "uratings_scaled = scaler.fit(allratings.reshape(-1,1))\n",
    "uratings = scaler.transform(uratings.reshape(-1,1))\n",
    "uratings_test = scaler.transform(uratings_test.reshape(-1,1))"
   ]
  },
  {
   "cell_type": "code",
   "execution_count": 124,
   "metadata": {},
   "outputs": [
    {
     "data": {
      "text/plain": [
       "0.06380018800290718"
      ]
     },
     "execution_count": 124,
     "metadata": {},
     "output_type": "execute_result"
    }
   ],
   "source": [
    "model.update_user(uitems, uratings)\n",
    "model.score(MSE, uitems_test, uratings_test)"
   ]
  },
  {
   "cell_type": "code",
   "execution_count": 131,
   "metadata": {},
   "outputs": [
    {
     "name": "stdout",
     "output_type": "stream",
     "text": [
      "fitting with size of 1000.\n",
      "updating profile.\n"
     ]
    }
   ],
   "source": [
    "mse = []\n",
    "for size in range(50, 1001, 50):\n",
    "    clear_output(wait=True)\n",
    "    print(f'fitting with size of {size}.')\n",
    "    model.fit(vector_size=size)\n",
    "    print('updating profile.')\n",
    "    model.update_user(uitems, uratings)\n",
    "    mse.append(model.score(MSE, uitems_test, uratings_test))"
   ]
  },
  {
   "cell_type": "code",
   "execution_count": 132,
   "metadata": {},
   "outputs": [
    {
     "data": {
      "text/plain": [
       "[<matplotlib.lines.Line2D at 0x18fecaab0d0>]"
      ]
     },
     "execution_count": 132,
     "metadata": {},
     "output_type": "execute_result"
    },
    {
     "data": {
      "image/png": "[encoded data removed]",
      "text/plain": [
       "<Figure size 640x480 with 1 Axes>"
      ]
     },
     "metadata": {},
     "output_type": "display_data"
    }
   ],
   "source": [
    "plt.plot(range(50, 1001, 50), mse)"
   ]
  },
  {
   "cell_type": "code",
   "execution_count": null,
   "metadata": {},
   "outputs": [],
   "source": []
  },
  {
   "cell_type": "code",
   "execution_count": null,
   "metadata": {},
   "outputs": [],
   "source": []
  },
  {
   "cell_type": "code",
   "execution_count": null,
   "metadata": {},
   "outputs": [],
   "source": []
  },
  {
   "cell_type": "code",
   "execution_count": null,
   "metadata": {},
   "outputs": [],
   "source": []
  },
  {
   "cell_type": "code",
   "execution_count": null,
   "metadata": {},
   "outputs": [],
   "source": []
  },
  {
   "cell_type": "code",
   "execution_count": null,
   "metadata": {},
   "outputs": [],
   "source": []
  },
  {
   "cell_type": "code",
   "execution_count": null,
   "metadata": {},
   "outputs": [],
   "source": []
  },
  {
   "cell_type": "code",
   "execution_count": null,
   "metadata": {},
   "outputs": [],
   "source": []
  },
  {
   "cell_type": "code",
   "execution_count": null,
   "metadata": {},
   "outputs": [],
   "source": []
  }
 ],
 "metadata": {
  "kernelspec": {
   "display_name": "Python 3",
   "language": "python",
   "name": "python3"
  },
  "language_info": {
   "codemirror_mode": {
    "name": "ipython",
    "version": 3
   },
   "file_extension": ".py",
   "mimetype": "text/x-python",
   "name": "python",
   "nbconvert_exporter": "python",
   "pygments_lexer": "ipython3",
   "version": "3.10.9"
  },
  "orig_nbformat": 4
 },
 "nbformat": 4,
 "nbformat_minor": 2
}
