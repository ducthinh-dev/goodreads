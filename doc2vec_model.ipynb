{
 "cells": [
  {
   "attachments": {},
   "cell_type": "markdown",
   "metadata": {},
   "source": [
    "### LIBS & CONNECTOR"
   ]
  },
  {
   "cell_type": "code",
   "execution_count": 1,
   "metadata": {},
   "outputs": [],
   "source": [
    "from IPython.display import clear_output\n",
    "import math\n",
    "import numpy as np\n",
    "import pandas as pd\n",
    "import sqlalchemy as sa\n",
    "import mysql.connector\n",
    "import getpass\n",
    "import warnings\n",
    "warnings.filterwarnings(\"ignore\")"
   ]
  },
  {
   "cell_type": "code",
   "execution_count": 2,
   "metadata": {},
   "outputs": [],
   "source": [
    "from gensim.models import Word2Vec\n",
    "from gensim.test.utils import common_texts\n",
    "from gensim.models.doc2vec import Doc2Vec, TaggedDocument\n",
    "from sklearn.metrics.pairwise import cosine_similarity\n",
    "from sklearn.cluster import KMeans\n",
    "from sklearn.cluster import DBSCAN\n",
    "from sklearn.metrics import silhouette_score\n",
    "import matplotlib.pyplot as plt\n",
    "from hdbscan import HDBSCAN"
   ]
  },
  {
   "cell_type": "code",
   "execution_count": null,
   "metadata": {},
   "outputs": [],
   "source": [
    "import nltk\n",
    "from nltk import word_tokenize\n",
    "from nltk.corpus import stopwords\n",
    "from nltk.corpus import words\n",
    "from nltk.stem import WordNetLemmatizer\n",
    "nltk.download('punkt')\n",
    "nltk.download('stopwords')\n",
    "nltk.download('wordnet')\n",
    "nltk.download('words')\n",
    "\n",
    "ENGLISH_WORDS = set(words.words())"
   ]
  },
  {
   "cell_type": "code",
   "execution_count": 3,
   "metadata": {},
   "outputs": [],
   "source": [
    "HOST = 'localhost'\n",
    "USER = 'root'\n",
    "DATABASE = 'goodreads'\n",
    "PASSWORD = getpass.getpass(f'Enter password for {USER}: ')"
   ]
  },
  {
   "cell_type": "code",
   "execution_count": 4,
   "metadata": {},
   "outputs": [
    {
     "name": "stdout",
     "output_type": "stream",
     "text": [
      "Current time:  2023-06-07 10:28:19\n"
     ]
    }
   ],
   "source": [
    "def getconn():\n",
    "    conn = mysql.connector.connect(\n",
    "        host=HOST,\n",
    "        user=USER,\n",
    "        password=PASSWORD,\n",
    "        database=DATABASE\n",
    "    )\n",
    "    return conn\n",
    "\n",
    "pool = sa.create_engine(\n",
    "    \"mysql+mysqlconnector://\",\n",
    "    creator=getconn,\n",
    ")\n",
    "\n",
    "with pool.connect() as db_conn:\n",
    "    results = db_conn.execute(sa.text(\"SELECT NOW()\")).fetchone()\n",
    "    print(\"Current time: \", results[0])"
   ]
  },
  {
   "attachments": {},
   "cell_type": "markdown",
   "metadata": {},
   "source": [
    "### DATA"
   ]
  },
  {
   "cell_type": "code",
   "execution_count": 6,
   "metadata": {},
   "outputs": [],
   "source": [
    "books_query = sa.text(\n",
    "    \"SELECT * FROM books;\"\n",
    ")\n",
    "books_df = pd.read_sql_query(books_query, con=pool.connect())"
   ]
  },
  {
   "attachments": {},
   "cell_type": "markdown",
   "metadata": {},
   "source": [
    "### MODEL"
   ]
  },
  {
   "cell_type": "code",
   "execution_count": 83,
   "metadata": {},
   "outputs": [],
   "source": [
    "class Doc2VecModel:\n",
    "    def __init__(self, data, data_id, data_document):\n",
    "        self.data = data\n",
    "        self.data_id = data_id\n",
    "        self.data_document = data_document\n",
    "        self.documents = data[data_document]\n",
    "        self.ids = data[data_id]\n",
    "        self.indices = pd.Series(data.index, index=self.ids)\n",
    "        self.model = None\n",
    "        self.docvecs = []\n",
    "        self.sim_matrix = None\n",
    "\n",
    "    def preprocess_doc(self):\n",
    "        lemmatizer = WordNetLemmatizer()\n",
    "        stop_words = set(stopwords.words('english'))\n",
    "        docs_list = []\n",
    "        for doc in self.documents:\n",
    "            tokens = word_tokenize(doc)\n",
    "            tokens = [token.lower() for token in tokens if token.lower() not in stop_words and token.isalpha() and token.lower() in ENGLISH_WORDS]        \n",
    "            tokens = [lemmatizer.lemmatize(token) for token in tokens]\n",
    "            docs_list.append(' '.join(tokens))\n",
    "        return docs_list\n",
    "\n",
    "    def get_recommendations(self, book_id, num_recommends=5):\n",
    "        idx = self.indices[book_id]\n",
    "        sim_scores = list(enumerate(self.sim_matrix[idx]))\n",
    "        sim_scores = sorted(sim_scores, key=lambda x: x[1], reverse=True)\n",
    "        sim_scores = sim_scores[1:num_recommends]\n",
    "        item_indices = [i[0] for i in sim_scores]\n",
    "        return self.data.iloc[item_indices]\n",
    "\n",
    "    def get_docvecs(self):\n",
    "        return self.indices, self.docvecs\n",
    "\n",
    "    def fit(self):\n",
    "        processed_docs = self.preprocess_doc()\n",
    "        documents = [TaggedDocument(doc, [index]) for index, doc in enumerate(processed_docs)]\n",
    "        self.model = Doc2Vec(documents, vector_size=50, window=5, min_count=3, workers=4, epochs=5)\n",
    "        data_len = len(self.ids)\n",
    "        for i in range(0, data_len):\n",
    "            self.docvecs.append(self.model.docvecs[i])\n",
    "        self.sim_matrix = cosine_similarity(self.docvecs)"
   ]
  },
  {
   "cell_type": "code",
   "execution_count": 89,
   "metadata": {},
   "outputs": [
    {
     "data": {
      "text/html": [
       "<div>\n",
       "<style scoped>\n",
       "    .dataframe tbody tr th:only-of-type {\n",
       "        vertical-align: middle;\n",
       "    }\n",
       "\n",
       "    .dataframe tbody tr th {\n",
       "        vertical-align: top;\n",
       "    }\n",
       "\n",
       "    .dataframe thead th {\n",
       "        text-align: right;\n",
       "    }\n",
       "</style>\n",
       "<table border=\"1\" class=\"dataframe\">\n",
       "  <thead>\n",
       "    <tr style=\"text-align: right;\">\n",
       "      <th></th>\n",
       "      <th>goodreads_book_id</th>\n",
       "      <th>isbn</th>\n",
       "      <th>isbn13</th>\n",
       "      <th>original_publication_year</th>\n",
       "      <th>original_title</th>\n",
       "      <th>title</th>\n",
       "      <th>language_code</th>\n",
       "      <th>average_rating</th>\n",
       "      <th>ratings_count</th>\n",
       "      <th>description</th>\n",
       "    </tr>\n",
       "  </thead>\n",
       "  <tbody>\n",
       "    <tr>\n",
       "      <th>7657</th>\n",
       "      <td>285212</td>\n",
       "      <td>425216594</td>\n",
       "      <td>9780425216590.0</td>\n",
       "      <td>2007.0</td>\n",
       "      <td>On the Prowl</td>\n",
       "      <td>On the Prowl (Alpha &amp; Omega, #0.5)</td>\n",
       "      <td>eng</td>\n",
       "      <td>4.05</td>\n",
       "      <td>21757</td>\n",
       "      <td>Alpha and Omega 0.5 by Patricia BriggsThe were...</td>\n",
       "    </tr>\n",
       "    <tr>\n",
       "      <th>7948</th>\n",
       "      <td>33293</td>\n",
       "      <td>393324869</td>\n",
       "      <td>9780393324860.0</td>\n",
       "      <td>2002.0</td>\n",
       "      <td>Naked Economics: Undressing the Dismal Science</td>\n",
       "      <td>Naked Economics: Undressing the Dismal Science</td>\n",
       "      <td>eng</td>\n",
       "      <td>4.00</td>\n",
       "      <td>5646</td>\n",
       "      <td>Naked Economics makes up for all of those Econ...</td>\n",
       "    </tr>\n",
       "    <tr>\n",
       "      <th>7524</th>\n",
       "      <td>37100</td>\n",
       "      <td>743451791</td>\n",
       "      <td>9780743451800.0</td>\n",
       "      <td>1990.0</td>\n",
       "      <td>Devil in a Blue Dress</td>\n",
       "      <td>Devil in a Blue Dress (Easy Rawlins, #1)</td>\n",
       "      <td>eng</td>\n",
       "      <td>3.91</td>\n",
       "      <td>12969</td>\n",
       "      <td>In Los Angeles of the late 1940s, Easy Rawlins...</td>\n",
       "    </tr>\n",
       "    <tr>\n",
       "      <th>7556</th>\n",
       "      <td>439363</td>\n",
       "      <td>1421513439</td>\n",
       "      <td>9781421513430.0</td>\n",
       "      <td>2001.0</td>\n",
       "      <td>ラブ★コン 1</td>\n",
       "      <td>Love★Com, Vol. 1</td>\n",
       "      <td>eng</td>\n",
       "      <td>4.22</td>\n",
       "      <td>13801</td>\n",
       "      <td>Risa Koizumi is the tallest girl in class, and...</td>\n",
       "    </tr>\n",
       "  </tbody>\n",
       "</table>\n",
       "</div>"
      ],
      "text/plain": [
       "     goodreads_book_id        isbn           isbn13 original_publication_year  \\\n",
       "7657            285212   425216594  9780425216590.0                    2007.0   \n",
       "7948             33293   393324869  9780393324860.0                    2002.0   \n",
       "7524             37100   743451791  9780743451800.0                    1990.0   \n",
       "7556            439363  1421513439  9781421513430.0                    2001.0   \n",
       "\n",
       "                                      original_title  \\\n",
       "7657                                    On the Prowl   \n",
       "7948  Naked Economics: Undressing the Dismal Science   \n",
       "7524                           Devil in a Blue Dress   \n",
       "7556                                         ラブ★コン 1   \n",
       "\n",
       "                                               title language_code  \\\n",
       "7657              On the Prowl (Alpha & Omega, #0.5)           eng   \n",
       "7948  Naked Economics: Undressing the Dismal Science           eng   \n",
       "7524        Devil in a Blue Dress (Easy Rawlins, #1)           eng   \n",
       "7556                                Love★Com, Vol. 1           eng   \n",
       "\n",
       "      average_rating  ratings_count  \\\n",
       "7657            4.05          21757   \n",
       "7948            4.00           5646   \n",
       "7524            3.91          12969   \n",
       "7556            4.22          13801   \n",
       "\n",
       "                                            description  \n",
       "7657  Alpha and Omega 0.5 by Patricia BriggsThe were...  \n",
       "7948  Naked Economics makes up for all of those Econ...  \n",
       "7524  In Los Angeles of the late 1940s, Easy Rawlins...  \n",
       "7556  Risa Koizumi is the tallest girl in class, and...  "
      ]
     },
     "execution_count": 89,
     "metadata": {},
     "output_type": "execute_result"
    }
   ],
   "source": [
    "book_id = 'goodreads_book_id'\n",
    "description = 'description'\n",
    "model = Doc2VecModel(books_df, book_id, description)\n",
    "model.fit()\n",
    "model.get_recommendations('3')"
   ]
  },
  {
   "cell_type": "code",
   "execution_count": 94,
   "metadata": {},
   "outputs": [],
   "source": [
    "import pickle\n",
    "\n",
    "with open('./models/doc2vec.pkl', 'wb') as f:\n",
    "    pickle.dump(model, f)"
   ]
  },
  {
   "cell_type": "code",
   "execution_count": 95,
   "metadata": {},
   "outputs": [],
   "source": [
    "with open('./models/doc2vec.pkl', 'rb') as f:\n",
    "    test_model = pickle.load(f)\n"
   ]
  },
  {
   "cell_type": "code",
   "execution_count": 97,
   "metadata": {},
   "outputs": [
    {
     "data": {
      "text/html": [
       "<div>\n",
       "<style scoped>\n",
       "    .dataframe tbody tr th:only-of-type {\n",
       "        vertical-align: middle;\n",
       "    }\n",
       "\n",
       "    .dataframe tbody tr th {\n",
       "        vertical-align: top;\n",
       "    }\n",
       "\n",
       "    .dataframe thead th {\n",
       "        text-align: right;\n",
       "    }\n",
       "</style>\n",
       "<table border=\"1\" class=\"dataframe\">\n",
       "  <thead>\n",
       "    <tr style=\"text-align: right;\">\n",
       "      <th></th>\n",
       "      <th>goodreads_book_id</th>\n",
       "      <th>isbn</th>\n",
       "      <th>isbn13</th>\n",
       "      <th>original_publication_year</th>\n",
       "      <th>original_title</th>\n",
       "      <th>title</th>\n",
       "      <th>language_code</th>\n",
       "      <th>average_rating</th>\n",
       "      <th>ratings_count</th>\n",
       "      <th>description</th>\n",
       "    </tr>\n",
       "  </thead>\n",
       "  <tbody>\n",
       "    <tr>\n",
       "      <th>9509</th>\n",
       "      <td>17487</td>\n",
       "      <td>340796154</td>\n",
       "      <td>9780340796150.0</td>\n",
       "      <td>1943.0</td>\n",
       "      <td>Five Go Adventuring Again</td>\n",
       "      <td>Five Go Adventuring Again (Famous Five, #2)</td>\n",
       "      <td>eng</td>\n",
       "      <td>3.99</td>\n",
       "      <td>10362</td>\n",
       "      <td>There's a thief at Kirrin Cottage! The Famous ...</td>\n",
       "    </tr>\n",
       "    <tr>\n",
       "      <th>8899</th>\n",
       "      <td>348564</td>\n",
       "      <td>60097914</td>\n",
       "      <td>9780060097910.0</td>\n",
       "      <td>1964.0</td>\n",
       "      <td>Flat Stanley</td>\n",
       "      <td>Flat Stanley (Flat Stanley, #1)</td>\n",
       "      <td>eng</td>\n",
       "      <td>3.82</td>\n",
       "      <td>11078</td>\n",
       "      <td>When Stanley Lambchop wakes up one morning, hi...</td>\n",
       "    </tr>\n",
       "    <tr>\n",
       "      <th>8792</th>\n",
       "      <td>633270</td>\n",
       "      <td>140376410</td>\n",
       "      <td>9780140376420.0</td>\n",
       "      <td>1994.0</td>\n",
       "      <td>The Ear, the Eye, and the Arm</td>\n",
       "      <td>The Ear, the Eye, and the Arm</td>\n",
       "      <td>eng</td>\n",
       "      <td>3.85</td>\n",
       "      <td>12389</td>\n",
       "      <td>General Matsika's children steal out of the ho...</td>\n",
       "    </tr>\n",
       "    <tr>\n",
       "      <th>8495</th>\n",
       "      <td>232958</td>\n",
       "      <td>439673631</td>\n",
       "      <td>9780439673630.0</td>\n",
       "      <td>2005.0</td>\n",
       "      <td>I Love You Through And Through</td>\n",
       "      <td>I Love You Through and Through</td>\n",
       "      <td>eng</td>\n",
       "      <td>4.39</td>\n",
       "      <td>10808</td>\n",
       "      <td>A rhyming story of unconditional love with ado...</td>\n",
       "    </tr>\n",
       "  </tbody>\n",
       "</table>\n",
       "</div>"
      ],
      "text/plain": [
       "     goodreads_book_id       isbn           isbn13 original_publication_year  \\\n",
       "9509             17487  340796154  9780340796150.0                    1943.0   \n",
       "8899            348564   60097914  9780060097910.0                    1964.0   \n",
       "8792            633270  140376410  9780140376420.0                    1994.0   \n",
       "8495            232958  439673631  9780439673630.0                    2005.0   \n",
       "\n",
       "                      original_title  \\\n",
       "9509       Five Go Adventuring Again   \n",
       "8899                    Flat Stanley   \n",
       "8792   The Ear, the Eye, and the Arm   \n",
       "8495  I Love You Through And Through   \n",
       "\n",
       "                                            title language_code  \\\n",
       "9509  Five Go Adventuring Again (Famous Five, #2)           eng   \n",
       "8899              Flat Stanley (Flat Stanley, #1)           eng   \n",
       "8792                The Ear, the Eye, and the Arm           eng   \n",
       "8495               I Love You Through and Through           eng   \n",
       "\n",
       "      average_rating  ratings_count  \\\n",
       "9509            3.99          10362   \n",
       "8899            3.82          11078   \n",
       "8792            3.85          12389   \n",
       "8495            4.39          10808   \n",
       "\n",
       "                                            description  \n",
       "9509  There's a thief at Kirrin Cottage! The Famous ...  \n",
       "8899  When Stanley Lambchop wakes up one morning, hi...  \n",
       "8792  General Matsika's children steal out of the ho...  \n",
       "8495  A rhyming story of unconditional love with ado...  "
      ]
     },
     "execution_count": 97,
     "metadata": {},
     "output_type": "execute_result"
    }
   ],
   "source": [
    "test_model.get_recommendations('731804')"
   ]
  },
  {
   "cell_type": "code",
   "execution_count": 98,
   "metadata": {},
   "outputs": [
    {
     "data": {
      "text/plain": [
       "goodreads_book_id                                                       731804\n",
       "isbn                                                                  60776390\n",
       "isbn13                                                         9780060776400.0\n",
       "original_publication_year                                               2006.0\n",
       "original_title                                                    Pinkalicious\n",
       "title                                                             Pinkalicious\n",
       "language_code                                                              eng\n",
       "average_rating                                                            4.05\n",
       "ratings_count                                                            16585\n",
       "description                  This sparkling New York Times bestselling pict...\n",
       "Name: 6198, dtype: object"
      ]
     },
     "execution_count": 98,
     "metadata": {},
     "output_type": "execute_result"
    }
   ],
   "source": [
    "books_df.loc[indices['731804']]"
   ]
  },
  {
   "cell_type": "code",
   "execution_count": null,
   "metadata": {},
   "outputs": [],
   "source": []
  },
  {
   "cell_type": "code",
   "execution_count": null,
   "metadata": {},
   "outputs": [],
   "source": []
  },
  {
   "cell_type": "code",
   "execution_count": null,
   "metadata": {},
   "outputs": [],
   "source": []
  },
  {
   "cell_type": "code",
   "execution_count": null,
   "metadata": {},
   "outputs": [],
   "source": []
  },
  {
   "cell_type": "code",
   "execution_count": null,
   "metadata": {},
   "outputs": [],
   "source": []
  },
  {
   "cell_type": "code",
   "execution_count": null,
   "metadata": {},
   "outputs": [],
   "source": []
  },
  {
   "cell_type": "code",
   "execution_count": null,
   "metadata": {},
   "outputs": [],
   "source": []
  },
  {
   "cell_type": "code",
   "execution_count": null,
   "metadata": {},
   "outputs": [],
   "source": []
  },
  {
   "cell_type": "code",
   "execution_count": null,
   "metadata": {},
   "outputs": [],
   "source": []
  },
  {
   "cell_type": "code",
   "execution_count": null,
   "metadata": {},
   "outputs": [],
   "source": []
  },
  {
   "cell_type": "code",
   "execution_count": null,
   "metadata": {},
   "outputs": [],
   "source": []
  },
  {
   "cell_type": "code",
   "execution_count": null,
   "metadata": {},
   "outputs": [],
   "source": []
  },
  {
   "cell_type": "code",
   "execution_count": null,
   "metadata": {},
   "outputs": [],
   "source": []
  },
  {
   "cell_type": "code",
   "execution_count": null,
   "metadata": {},
   "outputs": [],
   "source": []
  },
  {
   "cell_type": "code",
   "execution_count": null,
   "metadata": {},
   "outputs": [],
   "source": []
  },
  {
   "cell_type": "code",
   "execution_count": null,
   "metadata": {},
   "outputs": [],
   "source": []
  },
  {
   "cell_type": "code",
   "execution_count": null,
   "metadata": {},
   "outputs": [],
   "source": []
  },
  {
   "cell_type": "code",
   "execution_count": null,
   "metadata": {},
   "outputs": [],
   "source": []
  },
  {
   "cell_type": "code",
   "execution_count": null,
   "metadata": {},
   "outputs": [],
   "source": []
  },
  {
   "cell_type": "code",
   "execution_count": null,
   "metadata": {},
   "outputs": [],
   "source": []
  },
  {
   "cell_type": "code",
   "execution_count": null,
   "metadata": {},
   "outputs": [],
   "source": []
  },
  {
   "cell_type": "code",
   "execution_count": null,
   "metadata": {},
   "outputs": [],
   "source": []
  },
  {
   "cell_type": "code",
   "execution_count": null,
   "metadata": {},
   "outputs": [],
   "source": []
  },
  {
   "cell_type": "code",
   "execution_count": null,
   "metadata": {},
   "outputs": [],
   "source": []
  }
 ],
 "metadata": {
  "kernelspec": {
   "display_name": "Python 3",
   "language": "python",
   "name": "python3"
  },
  "language_info": {
   "codemirror_mode": {
    "name": "ipython",
    "version": 3
   },
   "file_extension": ".py",
   "mimetype": "text/x-python",
   "name": "python",
   "nbconvert_exporter": "python",
   "pygments_lexer": "ipython3",
   "version": "3.10.9"
  },
  "orig_nbformat": 4
 },
 "nbformat": 4,
 "nbformat_minor": 2
}
