{
 "cells": [
  {
   "attachments": {},
   "cell_type": "markdown",
   "metadata": {},
   "source": [
    "### LIBS & CONNECTOR"
   ]
  },
  {
   "cell_type": "code",
   "execution_count": 101,
   "metadata": {},
   "outputs": [],
   "source": [
    "import pandas as pd\n",
    "import numpy as np\n",
    "import math\n",
    "import matplotlib.pyplot as plt\n",
    "import sqlalchemy as sa\n",
    "import mysql.connector\n",
    "import getpass\n",
    "import warnings\n",
    "warnings.filterwarnings(\"ignore\")"
   ]
  },
  {
   "cell_type": "code",
   "execution_count": 102,
   "metadata": {},
   "outputs": [],
   "source": [
    "# from gensim.models import Word2Vec\n",
    "# from gensim.test.utils import common_texts\n",
    "# from nltk import word_tokenize\n",
    "# from sklearn.metrics.pairwise import cosine_similarity\n",
    "# from sklearn.cluster import KMeans\n",
    "# from sklearn.cluster import DBSCAN\n",
    "# from sklearn.metrics import silhouette_score\n",
    "# from hdbscan import HDBSCAN"
   ]
  },
  {
   "cell_type": "code",
   "execution_count": 103,
   "metadata": {},
   "outputs": [],
   "source": [
    "from sklearn.model_selection import train_test_split\n",
    "from sklearn.linear_model import LinearRegression, LogisticRegression\n",
    "from sklearn.metrics import mean_squared_error, mean_absolute_error\n",
    "from sklearn.model_selection import cross_val_predict, cross_val_score"
   ]
  },
  {
   "cell_type": "code",
   "execution_count": 104,
   "metadata": {},
   "outputs": [],
   "source": [
    "from sklearn.svm import LinearSVC"
   ]
  },
  {
   "cell_type": "code",
   "execution_count": 105,
   "metadata": {},
   "outputs": [],
   "source": [
    "from sklearn.metrics import f1_score, confusion_matrix, ConfusionMatrixDisplay"
   ]
  },
  {
   "cell_type": "code",
   "execution_count": 106,
   "metadata": {},
   "outputs": [
    {
     "name": "stdout",
     "output_type": "stream",
     "text": [
      "Current time:  2023-06-07 15:35:58\n"
     ]
    }
   ],
   "source": [
    "from setup import setup\n",
    "pool = setup()"
   ]
  },
  {
   "cell_type": "code",
   "execution_count": 107,
   "metadata": {},
   "outputs": [],
   "source": [
    "from models.doc2vec import Doc2VecModel"
   ]
  },
  {
   "attachments": {},
   "cell_type": "markdown",
   "metadata": {},
   "source": [
    "### DATA"
   ]
  },
  {
   "cell_type": "code",
   "execution_count": 108,
   "metadata": {},
   "outputs": [],
   "source": [
    "query = sa.text(\n",
    "    \"SELECT * FROM books;\"\n",
    ")\n",
    "books_df = pd.read_sql_query(query, con=pool.connect())"
   ]
  },
  {
   "cell_type": "code",
   "execution_count": 109,
   "metadata": {},
   "outputs": [],
   "source": [
    "query = sa.text(\n",
    "    \"SELECT user_id, goodreads_book_id, (rating * 0.2) as rating from new_ratings_;\"\n",
    ")\n",
    "user_ratings = pd.read_sql_query(query, con=pool.connect())"
   ]
  },
  {
   "attachments": {},
   "cell_type": "markdown",
   "metadata": {},
   "source": [
    "### MODEL"
   ]
  },
  {
   "cell_type": "code",
   "execution_count": 110,
   "metadata": {},
   "outputs": [
    {
     "data": {
      "text/html": [
       "<div>\n",
       "<style scoped>\n",
       "    .dataframe tbody tr th:only-of-type {\n",
       "        vertical-align: middle;\n",
       "    }\n",
       "\n",
       "    .dataframe tbody tr th {\n",
       "        vertical-align: top;\n",
       "    }\n",
       "\n",
       "    .dataframe thead th {\n",
       "        text-align: right;\n",
       "    }\n",
       "</style>\n",
       "<table border=\"1\" class=\"dataframe\">\n",
       "  <thead>\n",
       "    <tr style=\"text-align: right;\">\n",
       "      <th></th>\n",
       "      <th>goodreads_book_id</th>\n",
       "      <th>isbn</th>\n",
       "      <th>isbn13</th>\n",
       "      <th>original_publication_year</th>\n",
       "      <th>original_title</th>\n",
       "      <th>title</th>\n",
       "      <th>language_code</th>\n",
       "      <th>average_rating</th>\n",
       "      <th>ratings_count</th>\n",
       "      <th>description</th>\n",
       "    </tr>\n",
       "  </thead>\n",
       "  <tbody>\n",
       "    <tr>\n",
       "      <th>5967</th>\n",
       "      <td>6266907</td>\n",
       "      <td>316070629</td>\n",
       "      <td>9780316070620.0</td>\n",
       "      <td>2009.0</td>\n",
       "      <td>Alex Cross's Trial</td>\n",
       "      <td>Alex Cross's Trial (Alex Cross, #15)</td>\n",
       "      <td>eng</td>\n",
       "      <td>3.92</td>\n",
       "      <td>17655</td>\n",
       "      <td>Separated by timeFrom his grandmother, Alex Cr...</td>\n",
       "    </tr>\n",
       "    <tr>\n",
       "      <th>7680</th>\n",
       "      <td>20883847</td>\n",
       "      <td>316219126</td>\n",
       "      <td>9780316219130.0</td>\n",
       "      <td>2015.0</td>\n",
       "      <td>The Autumn Republic</td>\n",
       "      <td>The Autumn Republic (Powder Mage, #3)</td>\n",
       "      <td>eng</td>\n",
       "      <td>4.35</td>\n",
       "      <td>10910</td>\n",
       "      <td>The capital has fallen...Field Marshal Tamas r...</td>\n",
       "    </tr>\n",
       "    <tr>\n",
       "      <th>8270</th>\n",
       "      <td>40271</td>\n",
       "      <td>312850530</td>\n",
       "      <td>9780312850530.0</td>\n",
       "      <td>1995.0</td>\n",
       "      <td>Alvin Journeyman (Tales of Alvin Maker #4)</td>\n",
       "      <td>Alvin Journeyman (Tales of Alvin Maker, #4)</td>\n",
       "      <td>eng</td>\n",
       "      <td>3.72</td>\n",
       "      <td>12663</td>\n",
       "      <td>Alvin Miller, a gifted seventh son of a sevent...</td>\n",
       "    </tr>\n",
       "    <tr>\n",
       "      <th>7478</th>\n",
       "      <td>179264</td>\n",
       "      <td>60825316</td>\n",
       "      <td>9780060825320.0</td>\n",
       "      <td>2006.0</td>\n",
       "      <td>The Madonnas of Leningrad</td>\n",
       "      <td>The Madonnas of Leningrad</td>\n",
       "      <td>eng</td>\n",
       "      <td>3.77</td>\n",
       "      <td>12620</td>\n",
       "      <td>Bit by bit, the ravages of age are eroding Mar...</td>\n",
       "    </tr>\n",
       "  </tbody>\n",
       "</table>\n",
       "</div>"
      ],
      "text/plain": [
       "     goodreads_book_id       isbn           isbn13 original_publication_year  \\\n",
       "5967           6266907  316070629  9780316070620.0                    2009.0   \n",
       "7680          20883847  316219126  9780316219130.0                    2015.0   \n",
       "8270             40271  312850530  9780312850530.0                    1995.0   \n",
       "7478            179264   60825316  9780060825320.0                    2006.0   \n",
       "\n",
       "                                  original_title  \\\n",
       "5967                          Alex Cross's Trial   \n",
       "7680                        The Autumn Republic    \n",
       "8270  Alvin Journeyman (Tales of Alvin Maker #4)   \n",
       "7478                   The Madonnas of Leningrad   \n",
       "\n",
       "                                            title language_code  \\\n",
       "5967         Alex Cross's Trial (Alex Cross, #15)           eng   \n",
       "7680        The Autumn Republic (Powder Mage, #3)           eng   \n",
       "8270  Alvin Journeyman (Tales of Alvin Maker, #4)           eng   \n",
       "7478                    The Madonnas of Leningrad           eng   \n",
       "\n",
       "      average_rating  ratings_count  \\\n",
       "5967            3.92          17655   \n",
       "7680            4.35          10910   \n",
       "8270            3.72          12663   \n",
       "7478            3.77          12620   \n",
       "\n",
       "                                            description  \n",
       "5967  Separated by timeFrom his grandmother, Alex Cr...  \n",
       "7680  The capital has fallen...Field Marshal Tamas r...  \n",
       "8270  Alvin Miller, a gifted seventh son of a sevent...  \n",
       "7478  Bit by bit, the ravages of age are eroding Mar...  "
      ]
     },
     "execution_count": 110,
     "metadata": {},
     "output_type": "execute_result"
    }
   ],
   "source": [
    "book_id = 'goodreads_book_id'\n",
    "description = 'description'\n",
    "model = Doc2VecModel(books_df, book_id, description)\n",
    "model.fit()\n",
    "model.get_recommendations('3')"
   ]
  },
  {
   "cell_type": "code",
   "execution_count": 111,
   "metadata": {},
   "outputs": [],
   "source": [
    "indices, docvecs = model.get_docvecs()"
   ]
  },
  {
   "cell_type": "code",
   "execution_count": 112,
   "metadata": {},
   "outputs": [],
   "source": [
    "user_1_books = user_ratings.goodreads_book_id.loc[user_ratings.user_id == '1'].tolist()\n",
    "user_1_vecs = [docvecs[indices[id]] for id in user_1_books]\n",
    "user_1_profile = pd.DataFrame(user_1_vecs, columns=range(0,50))\n",
    "user_1_profile['rating'] = user_ratings.rating.loc[user_ratings.user_id == '1']"
   ]
  },
  {
   "cell_type": "code",
   "execution_count": 113,
   "metadata": {},
   "outputs": [],
   "source": [
    "random_state = 123\n",
    "x = user_1_profile.drop(columns=['rating'])\n",
    "y = user_1_profile.rating.astype('str')"
   ]
  },
  {
   "cell_type": "code",
   "execution_count": 114,
   "metadata": {},
   "outputs": [],
   "source": [
    "clf = LinearSVC(penalty='l1', loss='squared_hinge', dual=False, class_weight='balanced')"
   ]
  },
  {
   "cell_type": "code",
   "execution_count": 115,
   "metadata": {},
   "outputs": [
    {
     "data": {
      "text/plain": [
       "0.17835497835497835"
      ]
     },
     "execution_count": 115,
     "metadata": {},
     "output_type": "execute_result"
    }
   ],
   "source": [
    "x_train, x_test, y_train, y_test = train_test_split(x, y, test_size=0.33, random_state=123)\n",
    "clf.fit(x_train, y_train)\n",
    "y_pred = clf.predict(x_test)\n",
    "f1_score(y_test, y_pred, average='macro')"
   ]
  },
  {
   "cell_type": "code",
   "execution_count": 116,
   "metadata": {},
   "outputs": [
    {
     "data": {
      "image/png": "[encoded data removed]",
      "text/plain": [
       "<Figure size 640x480 with 2 Axes>"
      ]
     },
     "metadata": {},
     "output_type": "display_data"
    }
   ],
   "source": [
    "matrix = confusion_matrix(y_test, y_pred)\n",
    "cm_display = ConfusionMatrixDisplay(confusion_matrix = matrix, display_labels = ['1','2','3','4','5'])\n",
    "cm_display.plot()\n",
    "plt.show()"
   ]
  },
  {
   "cell_type": "code",
   "execution_count": null,
   "metadata": {},
   "outputs": [],
   "source": []
  },
  {
   "cell_type": "code",
   "execution_count": null,
   "metadata": {},
   "outputs": [],
   "source": []
  },
  {
   "cell_type": "code",
   "execution_count": null,
   "metadata": {},
   "outputs": [],
   "source": []
  },
  {
   "cell_type": "code",
   "execution_count": null,
   "metadata": {},
   "outputs": [],
   "source": []
  },
  {
   "cell_type": "code",
   "execution_count": null,
   "metadata": {},
   "outputs": [],
   "source": []
  },
  {
   "cell_type": "code",
   "execution_count": null,
   "metadata": {},
   "outputs": [],
   "source": []
  },
  {
   "cell_type": "code",
   "execution_count": null,
   "metadata": {},
   "outputs": [],
   "source": []
  },
  {
   "cell_type": "code",
   "execution_count": null,
   "metadata": {},
   "outputs": [],
   "source": []
  },
  {
   "cell_type": "code",
   "execution_count": null,
   "metadata": {},
   "outputs": [],
   "source": []
  },
  {
   "cell_type": "code",
   "execution_count": null,
   "metadata": {},
   "outputs": [],
   "source": []
  },
  {
   "cell_type": "code",
   "execution_count": null,
   "metadata": {},
   "outputs": [],
   "source": []
  },
  {
   "cell_type": "code",
   "execution_count": null,
   "metadata": {},
   "outputs": [],
   "source": []
  },
  {
   "cell_type": "code",
   "execution_count": null,
   "metadata": {},
   "outputs": [],
   "source": []
  },
  {
   "cell_type": "code",
   "execution_count": null,
   "metadata": {},
   "outputs": [],
   "source": []
  },
  {
   "cell_type": "code",
   "execution_count": null,
   "metadata": {},
   "outputs": [],
   "source": []
  }
 ],
 "metadata": {
  "kernelspec": {
   "display_name": "Python 3",
   "language": "python",
   "name": "python3"
  },
  "language_info": {
   "codemirror_mode": {
    "name": "ipython",
    "version": 3
   },
   "file_extension": ".py",
   "mimetype": "text/x-python",
   "name": "python",
   "nbconvert_exporter": "python",
   "pygments_lexer": "ipython3",
   "version": "3.10.9"
  },
  "orig_nbformat": 4
 },
 "nbformat": 4,
 "nbformat_minor": 2
}
