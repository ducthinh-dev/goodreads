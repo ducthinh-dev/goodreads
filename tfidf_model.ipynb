{
 "cells": [
  {
   "attachments": {},
   "cell_type": "markdown",
   "metadata": {},
   "source": [
    "### IMPORT LIBRARIES & DATA"
   ]
  },
  {
   "cell_type": "code",
   "execution_count": null,
   "metadata": {},
   "outputs": [],
   "source": [
    "import pandas as pd\n",
    "import mysql.connector\n",
    "import sqlalchemy as sa\n",
    "import getpass\n",
    "\n",
    "from sklearn.feature_extraction.text import TfidfVectorizer\n",
    "from sklearn.metrics.pairwise import cosine_similarity\n",
    "\n",
    "import nltk\n",
    "from nltk import word_tokenize\n",
    "from nltk.corpus import stopwords\n",
    "from nltk.corpus import words\n",
    "from nltk.stem import WordNetLemmatizer\n",
    "nltk.download('punkt')\n",
    "nltk.download('stopwords')\n",
    "nltk.download('wordnet')\n",
    "nltk.download('words')\n",
    "\n",
    "ENGLISH_WORDS = set(words.words())"
   ]
  },
  {
   "cell_type": "code",
   "execution_count": 24,
   "metadata": {},
   "outputs": [],
   "source": [
    "import numpy as np"
   ]
  },
  {
   "cell_type": "code",
   "execution_count": 2,
   "metadata": {},
   "outputs": [],
   "source": [
    "import pickle"
   ]
  },
  {
   "cell_type": "code",
   "execution_count": 3,
   "metadata": {},
   "outputs": [
    {
     "name": "stdout",
     "output_type": "stream",
     "text": [
      "Current time:  2023-06-08 13:42:35\n"
     ]
    }
   ],
   "source": [
    "from setup import setup\n",
    "pool = setup()"
   ]
  },
  {
   "cell_type": "code",
   "execution_count": 4,
   "metadata": {},
   "outputs": [
    {
     "data": {
      "text/html": [
       "<div>\n",
       "<style scoped>\n",
       "    .dataframe tbody tr th:only-of-type {\n",
       "        vertical-align: middle;\n",
       "    }\n",
       "\n",
       "    .dataframe tbody tr th {\n",
       "        vertical-align: top;\n",
       "    }\n",
       "\n",
       "    .dataframe thead th {\n",
       "        text-align: right;\n",
       "    }\n",
       "</style>\n",
       "<table border=\"1\" class=\"dataframe\">\n",
       "  <thead>\n",
       "    <tr style=\"text-align: right;\">\n",
       "      <th></th>\n",
       "      <th>goodreads_book_id</th>\n",
       "      <th>isbn</th>\n",
       "      <th>isbn13</th>\n",
       "      <th>original_publication_year</th>\n",
       "      <th>original_title</th>\n",
       "      <th>title</th>\n",
       "      <th>language_code</th>\n",
       "      <th>average_rating</th>\n",
       "      <th>ratings_count</th>\n",
       "      <th>description</th>\n",
       "    </tr>\n",
       "  </thead>\n",
       "  <tbody>\n",
       "    <tr>\n",
       "      <th>0</th>\n",
       "      <td>2767052</td>\n",
       "      <td>439023483</td>\n",
       "      <td>9780439023480.0</td>\n",
       "      <td>2008.0</td>\n",
       "      <td>The Hunger Games</td>\n",
       "      <td>The Hunger Games (The Hunger Games, #1)</td>\n",
       "      <td>eng</td>\n",
       "      <td>4.34</td>\n",
       "      <td>4780653</td>\n",
       "      <td>Could you survive on your own in the wild, wit...</td>\n",
       "    </tr>\n",
       "  </tbody>\n",
       "</table>\n",
       "</div>"
      ],
      "text/plain": [
       "  goodreads_book_id       isbn           isbn13 original_publication_year  \\\n",
       "0           2767052  439023483  9780439023480.0                    2008.0   \n",
       "\n",
       "     original_title                                    title language_code  \\\n",
       "0  The Hunger Games  The Hunger Games (The Hunger Games, #1)           eng   \n",
       "\n",
       "   average_rating  ratings_count  \\\n",
       "0            4.34        4780653   \n",
       "\n",
       "                                         description  \n",
       "0  Could you survive on your own in the wild, wit...  "
      ]
     },
     "metadata": {},
     "output_type": "display_data"
    },
    {
     "data": {
      "text/plain": [
       "9814"
      ]
     },
     "metadata": {},
     "output_type": "display_data"
    }
   ],
   "source": [
    "books_query = sa.text(\n",
    "    \"SELECT * FROM books;\"\n",
    ")\n",
    "\n",
    "books_df = pd.read_sql_query(books_query, con=pool.connect())\n",
    "display(books_df.head(1))\n",
    "display(len(books_df))"
   ]
  },
  {
   "attachments": {},
   "cell_type": "markdown",
   "metadata": {},
   "source": [
    "### MODEL"
   ]
  },
  {
   "cell_type": "code",
   "execution_count": 5,
   "metadata": {},
   "outputs": [],
   "source": [
    "class tfidf_recommender:\n",
    "    def __init__(self, data, id, docs):\n",
    "        self.data = data\n",
    "        self.id = id\n",
    "        self.id_data = data[id]\n",
    "        self.docs_data = data[docs]\n",
    "        self.tfidf = None\n",
    "        self.tfidf_vectors = None\n",
    "        self.indices = pd.Series(data.index, index=data[id])\n",
    "        self.sim_matrix = None\n",
    "\n",
    "    def preprocess_text(self, docs):\n",
    "        lemmatizer = WordNetLemmatizer()\n",
    "        stop_words = set(stopwords.words('english'))\n",
    "        tokens_list = []\n",
    "        for doc in docs:\n",
    "            tokens = nltk.word_tokenize(doc)\n",
    "            tokens = [token.lower() for token in tokens if token.lower() not in stop_words and token.isalpha() and token.lower() in ENGLISH_WORDS]        \n",
    "            tokens = [lemmatizer.lemmatize(token) for token in tokens]\n",
    "            tokens_list.append(tokens)\n",
    "        return tokens_list\n",
    "\n",
    "    def _get_tfidf_scores(self, docs):\n",
    "        self.tfidf = TfidfVectorizer()\n",
    "        self.tfidf_vectors = self.tfidf.fit_transform(docs)  \n",
    "        self.sim_matrix = cosine_similarity(self.tfidf_vectors)  \n",
    "        \n",
    "    def get_tfidf_scores(self):\n",
    "        return self.indices, self.tfidf_vectors\n",
    "\n",
    "    def get_recommendations(self, id, num_recommends=5):\n",
    "        idx = self.indices[id]\n",
    "        sim_scores = list(enumerate(self.sim_matrix[idx]))\n",
    "        sim_scores = sorted(sim_scores, key=lambda x: x[1], reverse=True)\n",
    "        sim_scores = sim_scores[1:num_recommends]\n",
    "        item_indices = [i[0] for i in sim_scores]\n",
    "        return self.data.iloc[item_indices]\n",
    "\n",
    "    def fit(self):\n",
    "        tokens_list = [[' '.join(doc)][0] for doc in self.preprocess_text(self.docs_data)]\n",
    "        self._get_tfidf_scores(tokens_list)"
   ]
  },
  {
   "cell_type": "code",
   "execution_count": 6,
   "metadata": {},
   "outputs": [],
   "source": [
    "# recommender = tfidf_recommender(books_df, 'goodreads_book_id', 'description')\n",
    "# recommender.fit()"
   ]
  },
  {
   "cell_type": "code",
   "execution_count": 7,
   "metadata": {},
   "outputs": [
    {
     "data": {
      "text/html": [
       "<div>\n",
       "<style scoped>\n",
       "    .dataframe tbody tr th:only-of-type {\n",
       "        vertical-align: middle;\n",
       "    }\n",
       "\n",
       "    .dataframe tbody tr th {\n",
       "        vertical-align: top;\n",
       "    }\n",
       "\n",
       "    .dataframe thead th {\n",
       "        text-align: right;\n",
       "    }\n",
       "</style>\n",
       "<table border=\"1\" class=\"dataframe\">\n",
       "  <thead>\n",
       "    <tr style=\"text-align: right;\">\n",
       "      <th></th>\n",
       "      <th>goodreads_book_id</th>\n",
       "      <th>isbn</th>\n",
       "      <th>isbn13</th>\n",
       "      <th>original_publication_year</th>\n",
       "      <th>original_title</th>\n",
       "      <th>title</th>\n",
       "      <th>language_code</th>\n",
       "      <th>average_rating</th>\n",
       "      <th>ratings_count</th>\n",
       "      <th>description</th>\n",
       "    </tr>\n",
       "  </thead>\n",
       "  <tbody>\n",
       "    <tr>\n",
       "      <th>3239</th>\n",
       "      <td>8</td>\n",
       "      <td>439682584</td>\n",
       "      <td>9780439682590.0</td>\n",
       "      <td>2003.0</td>\n",
       "      <td>eng</td>\n",
       "      <td>Harry Potter Boxed Set, Books 1-5 (Harry Potte...</td>\n",
       "      <td>eng</td>\n",
       "      <td>4.77</td>\n",
       "      <td>33220</td>\n",
       "      <td>Box Set containing Harry Potter and the Sorcer...</td>\n",
       "    </tr>\n",
       "    <tr>\n",
       "      <th>22</th>\n",
       "      <td>15881</td>\n",
       "      <td>439064864</td>\n",
       "      <td>9780439064870.0</td>\n",
       "      <td>1998.0</td>\n",
       "      <td>Harry Potter and the Chamber of Secrets</td>\n",
       "      <td>Harry Potter and the Chamber of Secrets (Harry...</td>\n",
       "      <td>eng</td>\n",
       "      <td>4.37</td>\n",
       "      <td>1779331</td>\n",
       "      <td>Ever since Harry Potter had come home for the ...</td>\n",
       "    </tr>\n",
       "    <tr>\n",
       "      <th>8228</th>\n",
       "      <td>3130430</td>\n",
       "      <td>1416554955</td>\n",
       "      <td>9781416554950.0</td>\n",
       "      <td>2008.0</td>\n",
       "      <td>Harry, A History: The True Story of a Boy Wiza...</td>\n",
       "      <td>Harry, a History: The True Story of a Boy Wiza...</td>\n",
       "      <td>eng</td>\n",
       "      <td>4.09</td>\n",
       "      <td>12308</td>\n",
       "      <td>THE HARRY POTTER BOOKS WERE JUST THE BEGINNING...</td>\n",
       "    </tr>\n",
       "    <tr>\n",
       "      <th>2079</th>\n",
       "      <td>99298</td>\n",
       "      <td>439249546</td>\n",
       "      <td>9780439249550.0</td>\n",
       "      <td>1999.0</td>\n",
       "      <td>Harry Potter Boxed Set Books 1-4</td>\n",
       "      <td>The Harry Potter Collection 1-4 (Harry Potter,...</td>\n",
       "      <td>eng</td>\n",
       "      <td>4.66</td>\n",
       "      <td>43929</td>\n",
       "      <td>The exciting tales of Harry Potter, the young ...</td>\n",
       "    </tr>\n",
       "    <tr>\n",
       "      <th>17</th>\n",
       "      <td>5</td>\n",
       "      <td>043965548X</td>\n",
       "      <td>9780439655480.0</td>\n",
       "      <td>1999.0</td>\n",
       "      <td>Harry Potter and the Prisoner of Azkaban</td>\n",
       "      <td>Harry Potter and the Prisoner of Azkaban (Harr...</td>\n",
       "      <td>eng</td>\n",
       "      <td>4.53</td>\n",
       "      <td>1832823</td>\n",
       "      <td>Harry Potter, along with his best friends, Ron...</td>\n",
       "    </tr>\n",
       "    <tr>\n",
       "      <th>23</th>\n",
       "      <td>6</td>\n",
       "      <td>439139600</td>\n",
       "      <td>9780439139600.0</td>\n",
       "      <td>2000.0</td>\n",
       "      <td>Harry Potter and the Goblet of Fire</td>\n",
       "      <td>Harry Potter and the Goblet of Fire (Harry Pot...</td>\n",
       "      <td>eng</td>\n",
       "      <td>4.53</td>\n",
       "      <td>1753043</td>\n",
       "      <td>It is the summer holidays and soon Harry Potte...</td>\n",
       "    </tr>\n",
       "    <tr>\n",
       "      <th>6912</th>\n",
       "      <td>483445</td>\n",
       "      <td>042519891X</td>\n",
       "      <td>9780425198920.0</td>\n",
       "      <td>2001.0</td>\n",
       "      <td>The Magical Worlds of Harry Potter: A Treasury...</td>\n",
       "      <td>The Magical Worlds of Harry Potter: A Treasury...</td>\n",
       "      <td>eng</td>\n",
       "      <td>3.96</td>\n",
       "      <td>13820</td>\n",
       "      <td>An indispensable source guide to J. K. Rowling...</td>\n",
       "    </tr>\n",
       "    <tr>\n",
       "      <th>1836</th>\n",
       "      <td>10872085</td>\n",
       "      <td>031253955X</td>\n",
       "      <td>9780312539560.0</td>\n",
       "      <td>2011.0</td>\n",
       "      <td>Only Time Will Tell</td>\n",
       "      <td>Only Time Will Tell (The Clifton Chronicles, #1)</td>\n",
       "      <td>eng</td>\n",
       "      <td>4.04</td>\n",
       "      <td>41187</td>\n",
       "      <td>\\nFrom the internationally bestselling author ...</td>\n",
       "    </tr>\n",
       "    <tr>\n",
       "      <th>1383</th>\n",
       "      <td>91475</td>\n",
       "      <td>451461401</td>\n",
       "      <td>9780451461410.0</td>\n",
       "      <td>2007.0</td>\n",
       "      <td>White Night</td>\n",
       "      <td>White Night (The Dresden Files, #9)</td>\n",
       "      <td>eng</td>\n",
       "      <td>4.41</td>\n",
       "      <td>73534</td>\n",
       "      <td>Wizard Harry Dresden must investigate his own ...</td>\n",
       "    </tr>\n",
       "  </tbody>\n",
       "</table>\n",
       "</div>"
      ],
      "text/plain": [
       "     goodreads_book_id        isbn           isbn13 original_publication_year  \\\n",
       "3239                 8   439682584  9780439682590.0                    2003.0   \n",
       "22               15881   439064864  9780439064870.0                    1998.0   \n",
       "8228           3130430  1416554955  9781416554950.0                    2008.0   \n",
       "2079             99298   439249546  9780439249550.0                    1999.0   \n",
       "17                   5  043965548X  9780439655480.0                    1999.0   \n",
       "23                   6   439139600  9780439139600.0                    2000.0   \n",
       "6912            483445  042519891X  9780425198920.0                    2001.0   \n",
       "1836          10872085  031253955X  9780312539560.0                    2011.0   \n",
       "1383             91475   451461401  9780451461410.0                    2007.0   \n",
       "\n",
       "                                         original_title  \\\n",
       "3239                                                eng   \n",
       "22              Harry Potter and the Chamber of Secrets   \n",
       "8228  Harry, A History: The True Story of a Boy Wiza...   \n",
       "2079                   Harry Potter Boxed Set Books 1-4   \n",
       "17             Harry Potter and the Prisoner of Azkaban   \n",
       "23                  Harry Potter and the Goblet of Fire   \n",
       "6912  The Magical Worlds of Harry Potter: A Treasury...   \n",
       "1836                                Only Time Will Tell   \n",
       "1383                                        White Night   \n",
       "\n",
       "                                                  title language_code  \\\n",
       "3239  Harry Potter Boxed Set, Books 1-5 (Harry Potte...           eng   \n",
       "22    Harry Potter and the Chamber of Secrets (Harry...           eng   \n",
       "8228  Harry, a History: The True Story of a Boy Wiza...           eng   \n",
       "2079  The Harry Potter Collection 1-4 (Harry Potter,...           eng   \n",
       "17    Harry Potter and the Prisoner of Azkaban (Harr...           eng   \n",
       "23    Harry Potter and the Goblet of Fire (Harry Pot...           eng   \n",
       "6912  The Magical Worlds of Harry Potter: A Treasury...           eng   \n",
       "1836   Only Time Will Tell (The Clifton Chronicles, #1)           eng   \n",
       "1383                White Night (The Dresden Files, #9)           eng   \n",
       "\n",
       "      average_rating  ratings_count  \\\n",
       "3239            4.77          33220   \n",
       "22              4.37        1779331   \n",
       "8228            4.09          12308   \n",
       "2079            4.66          43929   \n",
       "17              4.53        1832823   \n",
       "23              4.53        1753043   \n",
       "6912            3.96          13820   \n",
       "1836            4.04          41187   \n",
       "1383            4.41          73534   \n",
       "\n",
       "                                            description  \n",
       "3239  Box Set containing Harry Potter and the Sorcer...  \n",
       "22    Ever since Harry Potter had come home for the ...  \n",
       "8228  THE HARRY POTTER BOOKS WERE JUST THE BEGINNING...  \n",
       "2079  The exciting tales of Harry Potter, the young ...  \n",
       "17    Harry Potter, along with his best friends, Ron...  \n",
       "23    It is the summer holidays and soon Harry Potte...  \n",
       "6912  An indispensable source guide to J. K. Rowling...  \n",
       "1836  \\nFrom the internationally bestselling author ...  \n",
       "1383  Wizard Harry Dresden must investigate his own ...  "
      ]
     },
     "execution_count": 7,
     "metadata": {},
     "output_type": "execute_result"
    }
   ],
   "source": [
    "# recommender.get_recommendations('3', 10)"
   ]
  },
  {
   "cell_type": "code",
   "execution_count": 8,
   "metadata": {},
   "outputs": [],
   "source": [
    "# indices, vectors = recommender.get_tfidf_scores()"
   ]
  },
  {
   "cell_type": "code",
   "execution_count": 21,
   "metadata": {},
   "outputs": [
    {
     "data": {
      "text/plain": [
       "array([[0., 0., 0., ..., 0., 0., 0.],\n",
       "       [0., 0., 0., ..., 0., 0., 0.],\n",
       "       [0., 0., 0., ..., 0., 0., 0.],\n",
       "       ...,\n",
       "       [0., 0., 0., ..., 0., 0., 0.],\n",
       "       [0., 0., 0., ..., 0., 0., 0.],\n",
       "       [0., 0., 0., ..., 0., 0., 0.]])"
      ]
     },
     "execution_count": 21,
     "metadata": {},
     "output_type": "execute_result"
    }
   ],
   "source": [
    "# arr = vectors.toarray()\n",
    "# arr"
   ]
  },
  {
   "cell_type": "code",
   "execution_count": 28,
   "metadata": {},
   "outputs": [
    {
     "name": "stdout",
     "output_type": "stream",
     "text": [
      "1.0\n"
     ]
    }
   ],
   "source": [
    "# precision = np.finfo(arr.dtype).precision\n",
    "# longest_float = np.max(np.round(arr, decimals=precision))\n",
    "# print(longest_float)"
   ]
  },
  {
   "cell_type": "code",
   "execution_count": 32,
   "metadata": {},
   "outputs": [
    {
     "data": {
      "text/plain": [
       "15"
      ]
     },
     "execution_count": 32,
     "metadata": {},
     "output_type": "execute_result"
    }
   ],
   "source": [
    "# np.finfo(arr.dtype).precision"
   ]
  },
  {
   "cell_type": "code",
   "execution_count": 25,
   "metadata": {},
   "outputs": [],
   "source": [
    "# np.savetxt('./data/processed/tfidf_matrix.dat', arr, dtype='f', delimiter=':')"
   ]
  },
  {
   "cell_type": "code",
   "execution_count": null,
   "metadata": {},
   "outputs": [],
   "source": [
    "# from sklearn.decomposition import TruncatedSVD\n",
    "# from sklearn.preprocessing import StandardScaler\n",
    "# from scipy.sparse import csr_matrix"
   ]
  },
  {
   "cell_type": "code",
   "execution_count": 43,
   "metadata": {},
   "outputs": [],
   "source": [
    "# scaler = StandardScaler(with_mean=False) \n",
    "# X_scaled = scaler.fit_transform(vectors)\n",
    "# n_components = 5000  \n",
    "# svd = TruncatedSVD(n_components=n_components)\n",
    "# X_svd = svd.fit_transform(X_scaled)"
   ]
  },
  {
   "cell_type": "code",
   "execution_count": 44,
   "metadata": {},
   "outputs": [],
   "source": [
    "# sim_matrix = cosine_similarity(X_svd)\n",
    "# idx = indices['3']\n",
    "# sim_scores = list(enumerate(sim_matrix[idx]))\n",
    "# sim_scores = sorted(sim_scores, key=lambda x: x[1], reverse=True)\n",
    "# sim_scores = sim_scores[1:5]\n",
    "# item_indices = [i[0] for i in sim_scores]\n",
    "# books_df.iloc[item_indices]"
   ]
  },
  {
   "attachments": {},
   "cell_type": "markdown",
   "metadata": {},
   "source": [
    "### SAVE MODEL"
   ]
  },
  {
   "cell_type": "code",
   "execution_count": 9,
   "metadata": {},
   "outputs": [],
   "source": [
    "# with open('tfidf_recommender.pkl', 'wb') as f:\n",
    "#     pickle.dump(recommender, f)"
   ]
  },
  {
   "cell_type": "code",
   "execution_count": 11,
   "metadata": {},
   "outputs": [],
   "source": [
    "# with open('./models/tfidf_recommender.pkl', 'rb') as f:\n",
    "#     model = pickle.load(f)\n",
    "\n",
    "# model.get_recommendations('18813642', 10)"
   ]
  },
  {
   "cell_type": "code",
   "execution_count": null,
   "metadata": {},
   "outputs": [],
   "source": []
  },
  {
   "cell_type": "code",
   "execution_count": null,
   "metadata": {},
   "outputs": [],
   "source": []
  }
 ],
 "metadata": {
  "kernelspec": {
   "display_name": "Python 3",
   "language": "python",
   "name": "python3"
  },
  "language_info": {
   "codemirror_mode": {
    "name": "ipython",
    "version": 3
   },
   "file_extension": ".py",
   "mimetype": "text/x-python",
   "name": "python",
   "nbconvert_exporter": "python",
   "pygments_lexer": "ipython3",
   "version": "3.10.9"
  },
  "orig_nbformat": 4
 },
 "nbformat": 4,
 "nbformat_minor": 2
}
