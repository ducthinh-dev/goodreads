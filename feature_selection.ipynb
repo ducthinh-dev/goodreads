{
 "cells": [
  {
   "cell_type": "code",
   "execution_count": 1,
   "metadata": {},
   "outputs": [
    {
     "name": "stdout",
     "output_type": "stream",
     "text": [
      "Current time:  2023-06-11 18:47:51\n"
     ]
    }
   ],
   "source": [
    "import pandas as pd\n",
    "import numpy as np\n",
    "import sqlalchemy as sa\n",
    "import mysql.connector\n",
    "from setup import setup\n",
    "connector = setup()"
   ]
  },
  {
   "cell_type": "code",
   "execution_count": 2,
   "metadata": {},
   "outputs": [],
   "source": [
    "import matplotlib.pyplot as plt\n",
    "from IPython.display import clear_output"
   ]
  },
  {
   "cell_type": "code",
   "execution_count": 3,
   "metadata": {},
   "outputs": [],
   "source": [
    "from sklearn.cluster import KMeans, DBSCAN\n",
    "from sklearn.feature_selection import SelectKBest, f_regression, chi2\n",
    "from sklearn.cluster import AgglomerativeClustering\n",
    "from scipy.cluster.hierarchy import dendrogram"
   ]
  },
  {
   "cell_type": "code",
   "execution_count": 4,
   "metadata": {},
   "outputs": [],
   "source": [
    "descr_query = sa.text(\n",
    "    \"select * from processed_description;\"\n",
    ")\n",
    "descr = pd.read_sql_query(descr_query, con=connector.connect())\n",
    "\n",
    "rating_query = sa.text(\n",
    "    \"select average_rating from books;\"\n",
    ")\n",
    "ratings = pd.read_sql_query(rating_query, con=connector.connect())\n",
    "\n",
    "book_query = sa.text(\n",
    "    \"select goodreads_book_id as book_id, title from books;\"\n",
    ")\n",
    "books = pd.read_sql_query(book_query, con=connector.connect())"
   ]
  },
  {
   "cell_type": "code",
   "execution_count": 5,
   "metadata": {},
   "outputs": [],
   "source": [
    "from models.tfidf import TfidfModel"
   ]
  },
  {
   "cell_type": "code",
   "execution_count": 6,
   "metadata": {},
   "outputs": [],
   "source": [
    "model = TfidfModel(descr, 'goodreads_book_id', 'processed_descr')\n",
    "model.fit()"
   ]
  },
  {
   "cell_type": "code",
   "execution_count": 7,
   "metadata": {},
   "outputs": [],
   "source": [
    "ratings = pd.read_csv('./data/main/ratings_train.dat', sep=':', header=None)\n",
    "user_1 = ratings.loc[ratings[0] == 1]\n",
    "\n",
    "ratings_test = pd.read_csv('./data/main/ratings_test.dat', sep=':', header=None)\n",
    "user_1_test = ratings_test.loc[ratings_test[0] == 1]"
   ]
  },
  {
   "cell_type": "code",
   "execution_count": 8,
   "metadata": {},
   "outputs": [],
   "source": [
    "uitems = user_1[1].astype(int).tolist()\n",
    "uratings = user_1[2].tolist()"
   ]
  },
  {
   "cell_type": "code",
   "execution_count": 9,
   "metadata": {},
   "outputs": [],
   "source": [
    "uitems_test = user_1_test[1].astype(int).tolist()\n",
    "uratings_test = user_1_test[2].tolist()"
   ]
  },
  {
   "cell_type": "code",
   "execution_count": 10,
   "metadata": {},
   "outputs": [
    {
     "data": {
      "text/plain": [
       "[12507214,\n",
       " 16007855,\n",
       " 165030,\n",
       " 15768191,\n",
       " 182496,\n",
       " 22725443,\n",
       " 22571699,\n",
       " 714569,\n",
       " 16074758,\n",
       " 5292853]"
      ]
     },
     "execution_count": 10,
     "metadata": {},
     "output_type": "execute_result"
    }
   ],
   "source": [
    "model.update_user(uitems, uratings)\n",
    "model.get_personal_recommendations(10)"
   ]
  },
  {
   "cell_type": "code",
   "execution_count": 11,
   "metadata": {},
   "outputs": [
    {
     "data": {
      "text/plain": [
       "1.018951827519307"
      ]
     },
     "execution_count": 11,
     "metadata": {},
     "output_type": "execute_result"
    }
   ],
   "source": [
    "model.mse(uitems_test, uratings_test)"
   ]
  },
  {
   "cell_type": "code",
   "execution_count": 14,
   "metadata": {},
   "outputs": [],
   "source": [
    "user_list = ratings[0].unique()"
   ]
  },
  {
   "cell_type": "code",
   "execution_count": 17,
   "metadata": {},
   "outputs": [
    {
     "data": {
      "text/plain": [
       "53422"
      ]
     },
     "execution_count": 17,
     "metadata": {},
     "output_type": "execute_result"
    }
   ],
   "source": [
    "len(user_list)"
   ]
  },
  {
   "cell_type": "code",
   "execution_count": 20,
   "metadata": {},
   "outputs": [],
   "source": [
    "mse = []\n",
    "for user in user_list[:1000]:\n",
    "    profile = ratings.loc[ratings[0] == user]\n",
    "    profile_test = ratings_test[ratings_test[0] == user]\n",
    "    uitems = profile[1].astype(int).tolist()\n",
    "    uratings = profile[2].tolist()\n",
    "    uitems_test = profile_test[1].astype(int).tolist()\n",
    "    uratings_test = profile_test[2].tolist()\n",
    "    model.update_user(uitems, uratings)\n",
    "    mse.append(model.mse(uitems_test, uratings_test))"
   ]
  },
  {
   "cell_type": "code",
   "execution_count": 23,
   "metadata": {},
   "outputs": [
    {
     "data": {
      "text/plain": [
       "1.0320841652944746"
      ]
     },
     "execution_count": 23,
     "metadata": {},
     "output_type": "execute_result"
    }
   ],
   "source": [
    "sum(mse)/1000"
   ]
  },
  {
   "cell_type": "code",
   "execution_count": 16,
   "metadata": {},
   "outputs": [],
   "source": [
    "# def dbscan_clustering(data, start, stop, metric):\n",
    "#     result = []\n",
    "#     eps = range(start,stop)\n",
    "#     for ep in eps:\n",
    "#         dbscan = DBSCAN(eps=ep*0.01, metric=metric, min_samples=2, n_jobs=4).fit(data)\n",
    "#         labels = np.array(dbscan.labels_)\n",
    "#         unique, counts = np.unique(labels, return_counts=True)\n",
    "#         result.append(dict(zip(unique, counts)))\n",
    "#         unlabeled = [value[-1] for value in result]\n",
    "#         clusters = [list(value.keys())[-1] for value in result]\n",
    "#     return eps, result, unlabeled, clusters "
   ]
  },
  {
   "cell_type": "code",
   "execution_count": 17,
   "metadata": {},
   "outputs": [],
   "source": [
    "# def plot_line(eps, clusters):\n",
    "#     fig, ax = plt.subplots()\n",
    "#     # Plot the data\n",
    "#     ax.plot(eps, clusters, 'b-', linewidth=2, label='no. clusters')\n",
    "#     # ax.plot(eps, unlabeled, 'r-', linewidth=2, label='no clusters')\n",
    "#     # Set labels and title\n",
    "#     ax.set_xlabel('eps')\n",
    "#     ax.set_ylabel(' ')\n",
    "#     ax.set_title('Plotting a Line')\n",
    "\n",
    "#     # Add a legend\n",
    "#     ax.legend()\n",
    "\n",
    "#     # Display the plot\n",
    "#     plt.show()\n"
   ]
  },
  {
   "cell_type": "code",
   "execution_count": 18,
   "metadata": {},
   "outputs": [],
   "source": [
    "# sample_eps, sample_result, sample_labels, sample_clusters = dbscan_clustering(tfidf_matrix, 40, 80, 'euclidean')\n",
    "# plot_line(sample_eps, sample_clusters)"
   ]
  },
  {
   "cell_type": "code",
   "execution_count": 19,
   "metadata": {},
   "outputs": [],
   "source": [
    "# sample_eps, sample_result, sample_unlabeled, sample_clusters = dbscan_clustering(outliers_0, 78, 90)\n",
    "# plot_line(sample_eps, sample_clusters)"
   ]
  },
  {
   "cell_type": "code",
   "execution_count": 44,
   "metadata": {},
   "outputs": [],
   "source": [
    "# def AggClustering(data, **kargs):\n",
    "#     model = AgglomerativeClustering(**kargs).fit(data)\n",
    "#     unique, counts = np.unique(model.labels_, return_counts=True)\n",
    "#     result = dict(zip(unique, counts))\n",
    "#     return model, result, model.labels_"
   ]
  },
  {
   "cell_type": "code",
   "execution_count": 21,
   "metadata": {},
   "outputs": [],
   "source": [
    "# def plot_dict(data):\n",
    "#     lists = sorted(data.items()) # sorted by key, return a list of tuples\n",
    "#     x, y = zip(*lists) # unpack a list of pairs into two tuples\n",
    "#     plt.plot(x, y)\n",
    "#     plt.show()"
   ]
  },
  {
   "cell_type": "code",
   "execution_count": 47,
   "metadata": {},
   "outputs": [],
   "source": [
    "# def plot_dendrogram(model, **kwargs):\n",
    "#     counts = np.zeros(model.children_.shape[0])\n",
    "#     n_samples = len(model.labels_)\n",
    "#     for i, merge in enumerate(model.children_):\n",
    "#         current_count = 0\n",
    "#         for child_idx in merge:\n",
    "#             if child_idx < n_samples:\n",
    "#                 current_count += 1  # leaf node\n",
    "#             else:\n",
    "#                 current_count += counts[child_idx - n_samples]\n",
    "#         counts[i] = current_count\n",
    "\n",
    "#     linkage_matrix = np.column_stack(\n",
    "#         [model.children_, model.distances_, counts]\n",
    "#     ).astype(float)\n",
    "\n",
    "#     # Plot the corresponding dendrogram\n",
    "#     dendrogram(linkage_matrix, **kwargs)"
   ]
  },
  {
   "cell_type": "code",
   "execution_count": null,
   "metadata": {},
   "outputs": [],
   "source": [
    "parameters = {\n",
    "    'n_clusters': None,\n",
    "    'metric': 'euclidean',\n",
    "    'linkage': 'ward',\n",
    "    'distance_threshold': 1.38,\n",
    "    'compute_distances': True\n",
    "}\n",
    "aggClusterModel, result, labels = AggClustering(tfidf_matrix.toarray(), **parameters)\n",
    "plot_dict(result)"
   ]
  },
  {
   "cell_type": "code",
   "execution_count": 74,
   "metadata": {},
   "outputs": [
    {
     "data": {
      "image/png": "[encoded data removed]",
      "text/plain": [
       "<Figure size 640x480 with 1 Axes>"
      ]
     },
     "metadata": {},
     "output_type": "display_data"
    }
   ],
   "source": [
    "plt.title(\"Hierarchical Clustering Dendrogram\")\n",
    "plot_dendrogram(aggClusterModel, truncate_mode='level', p=8)\n",
    "plt.xlabel(\"Number of points in node (or index of point if no parenthesis).\")\n",
    "plt.show()"
   ]
  },
  {
   "cell_type": "code",
   "execution_count": null,
   "metadata": {},
   "outputs": [],
   "source": [
    "# x_new = SelectKBest(chi2, k=4000).fit_transform(tfidf_matrix, labels)\n",
    "# model.change_tfidf_scores(x_new)\n",
    "# recommends = model.get_recommendations(3, 10)\n",
    "# books.iloc[indices[recommends]]"
   ]
  },
  {
   "cell_type": "code",
   "execution_count": 212,
   "metadata": {},
   "outputs": [],
   "source": [
    "ratings_test = pd.read_csv('./data/main/ratings_test.dat', sep=':', header=None)\n",
    "user_1_test = ratings_test.loc[ratings_test[0] == 1]"
   ]
  },
  {
   "cell_type": "code",
   "execution_count": 200,
   "metadata": {},
   "outputs": [],
   "source": [
    "user_1 = ratings.loc[ratings[0] == 1]"
   ]
  },
  {
   "cell_type": "code",
   "execution_count": 98,
   "metadata": {},
   "outputs": [],
   "source": [
    "from sklearn.preprocessing import MinMaxScaler"
   ]
  },
  {
   "cell_type": "code",
   "execution_count": 139,
   "metadata": {},
   "outputs": [],
   "source": [
    "from scipy import sparse"
   ]
  },
  {
   "cell_type": "code",
   "execution_count": 104,
   "metadata": {},
   "outputs": [],
   "source": [
    "scaler = MinMaxScaler()"
   ]
  },
  {
   "cell_type": "code",
   "execution_count": 260,
   "metadata": {},
   "outputs": [],
   "source": [
    "def get_feature_vectors(data, ids=[]):\n",
    "    if ids:\n",
    "        result_vectors = []\n",
    "        for id in ids:\n",
    "            result_vectors.append(data[indices[id]])\n",
    "        return ids, sparse.vstack(result_vectors)\n",
    "    else:\n",
    "        return indices.index, data"
   ]
  },
  {
   "cell_type": "code",
   "execution_count": 206,
   "metadata": {},
   "outputs": [],
   "source": [
    "user_items = user_1[1].astype(int).tolist()\n",
    "items_vectors = get_feature_vectors(tfidf_matrix, user_items)\n",
    "# user_ratings = np.array(user_1[2])\n",
    "# user_ratings = MinMaxScaler().fit_transform(user_ratings.reshape(-1,1)).flatten()"
   ]
  },
  {
   "cell_type": "code",
   "execution_count": 216,
   "metadata": {},
   "outputs": [],
   "source": [
    "user_items_test = user_1_test[1].astype(int).tolist()\n",
    "items_vectors_test = get_feature_vectors(tfidf_matrix, user_items_test)"
   ]
  },
  {
   "cell_type": "code",
   "execution_count": 160,
   "metadata": {},
   "outputs": [],
   "source": [
    "from sklearn.linear_model import Ridge"
   ]
  },
  {
   "cell_type": "code",
   "execution_count": 213,
   "metadata": {},
   "outputs": [
    {
     "data": {
      "text/html": [
       "<style>#sk-container-id-6 {color: black;background-color: white;}#sk-container-id-6 pre{padding: 0;}#sk-container-id-6 div.sk-toggleable {background-color: white;}#sk-container-id-6 label.sk-toggleable__label {cursor: pointer;display: block;width: 100%;margin-bottom: 0;padding: 0.3em;box-sizing: border-box;text-align: center;}#sk-container-id-6 label.sk-toggleable__label-arrow:before {content: \"▸\";float: left;margin-right: 0.25em;color: #696969;}#sk-container-id-6 label.sk-toggleable__label-arrow:hover:before {color: black;}#sk-container-id-6 div.sk-estimator:hover label.sk-toggleable__label-arrow:before {color: black;}#sk-container-id-6 div.sk-toggleable__content {max-height: 0;max-width: 0;overflow: hidden;text-align: left;background-color: #f0f8ff;}#sk-container-id-6 div.sk-toggleable__content pre {margin: 0.2em;color: black;border-radius: 0.25em;background-color: #f0f8ff;}#sk-container-id-6 input.sk-toggleable__control:checked~div.sk-toggleable__content {max-height: 200px;max-width: 100%;overflow: auto;}#sk-container-id-6 input.sk-toggleable__control:checked~label.sk-toggleable__label-arrow:before {content: \"▾\";}#sk-container-id-6 div.sk-estimator input.sk-toggleable__control:checked~label.sk-toggleable__label {background-color: #d4ebff;}#sk-container-id-6 div.sk-label input.sk-toggleable__control:checked~label.sk-toggleable__label {background-color: #d4ebff;}#sk-container-id-6 input.sk-hidden--visually {border: 0;clip: rect(1px 1px 1px 1px);clip: rect(1px, 1px, 1px, 1px);height: 1px;margin: -1px;overflow: hidden;padding: 0;position: absolute;width: 1px;}#sk-container-id-6 div.sk-estimator {font-family: monospace;background-color: #f0f8ff;border: 1px dotted black;border-radius: 0.25em;box-sizing: border-box;margin-bottom: 0.5em;}#sk-container-id-6 div.sk-estimator:hover {background-color: #d4ebff;}#sk-container-id-6 div.sk-parallel-item::after {content: \"\";width: 100%;border-bottom: 1px solid gray;flex-grow: 1;}#sk-container-id-6 div.sk-label:hover label.sk-toggleable__label {background-color: #d4ebff;}#sk-container-id-6 div.sk-serial::before {content: \"\";position: absolute;border-left: 1px solid gray;box-sizing: border-box;top: 0;bottom: 0;left: 50%;z-index: 0;}#sk-container-id-6 div.sk-serial {display: flex;flex-direction: column;align-items: center;background-color: white;padding-right: 0.2em;padding-left: 0.2em;position: relative;}#sk-container-id-6 div.sk-item {position: relative;z-index: 1;}#sk-container-id-6 div.sk-parallel {display: flex;align-items: stretch;justify-content: center;background-color: white;position: relative;}#sk-container-id-6 div.sk-item::before, #sk-container-id-6 div.sk-parallel-item::before {content: \"\";position: absolute;border-left: 1px solid gray;box-sizing: border-box;top: 0;bottom: 0;left: 50%;z-index: -1;}#sk-container-id-6 div.sk-parallel-item {display: flex;flex-direction: column;z-index: 1;position: relative;background-color: white;}#sk-container-id-6 div.sk-parallel-item:first-child::after {align-self: flex-end;width: 50%;}#sk-container-id-6 div.sk-parallel-item:last-child::after {align-self: flex-start;width: 50%;}#sk-container-id-6 div.sk-parallel-item:only-child::after {width: 0;}#sk-container-id-6 div.sk-dashed-wrapped {border: 1px dashed gray;margin: 0 0.4em 0.5em 0.4em;box-sizing: border-box;padding-bottom: 0.4em;background-color: white;}#sk-container-id-6 div.sk-label label {font-family: monospace;font-weight: bold;display: inline-block;line-height: 1.2em;}#sk-container-id-6 div.sk-label-container {text-align: center;}#sk-container-id-6 div.sk-container {/* jupyter's `normalize.less` sets `[hidden] { display: none; }` but bootstrap.min.css set `[hidden] { display: none !important; }` so we also need the `!important` here to be able to override the default hidden behavior on the sphinx rendered scikit-learn.org. See: https://github.com/scikit-learn/scikit-learn/issues/21755 */display: inline-block !important;position: relative;}#sk-container-id-6 div.sk-text-repr-fallback {display: none;}</style><div id=\"sk-container-id-6\" class=\"sk-top-container\"><div class=\"sk-text-repr-fallback\"><pre>Ridge(alpha=1)</pre><b>In a Jupyter environment, please rerun this cell to show the HTML representation or trust the notebook. <br />On GitHub, the HTML representation is unable to render, please try loading this page with nbviewer.org.</b></div><div class=\"sk-container\" hidden><div class=\"sk-item\"><div class=\"sk-estimator sk-toggleable\"><input class=\"sk-toggleable__control sk-hidden--visually\" id=\"sk-estimator-id-6\" type=\"checkbox\" checked><label for=\"sk-estimator-id-6\" class=\"sk-toggleable__label sk-toggleable__label-arrow\">Ridge</label><div class=\"sk-toggleable__content\"><pre>Ridge(alpha=1)</pre></div></div></div></div></div>"
      ],
      "text/plain": [
       "Ridge(alpha=1)"
      ]
     },
     "execution_count": 213,
     "metadata": {},
     "output_type": "execute_result"
    }
   ],
   "source": [
    "clf = Ridge(alpha=1, fit_intercept=True)\n",
    "clf.fit(items_vectors, user_1[2])"
   ]
  },
  {
   "cell_type": "code",
   "execution_count": 214,
   "metadata": {},
   "outputs": [],
   "source": [
    "coef = clf.coef_"
   ]
  },
  {
   "cell_type": "code",
   "execution_count": 215,
   "metadata": {},
   "outputs": [
    {
     "data": {
      "text/plain": [
       "3.6082213563841217"
      ]
     },
     "execution_count": 215,
     "metadata": {},
     "output_type": "execute_result"
    }
   ],
   "source": [
    "clf.intercept_"
   ]
  },
  {
   "cell_type": "code",
   "execution_count": 223,
   "metadata": {},
   "outputs": [],
   "source": [
    "pred = clf.predict(tfidf_matrix)"
   ]
  },
  {
   "cell_type": "code",
   "execution_count": 224,
   "metadata": {},
   "outputs": [
    {
     "data": {
      "text/plain": [
       "array([3.51422017, 3.52767666, 3.58886104, ..., 3.61542664, 3.59080375,\n",
       "       3.52868611])"
      ]
     },
     "execution_count": 224,
     "metadata": {},
     "output_type": "execute_result"
    }
   ],
   "source": [
    "pred"
   ]
  },
  {
   "cell_type": "code",
   "execution_count": 220,
   "metadata": {},
   "outputs": [],
   "source": [
    "from sklearn.metrics import mean_squared_error as MSE"
   ]
  },
  {
   "cell_type": "code",
   "execution_count": 222,
   "metadata": {},
   "outputs": [
    {
     "data": {
      "text/plain": [
       "1.0575771594352301"
      ]
     },
     "execution_count": 222,
     "metadata": {},
     "output_type": "execute_result"
    }
   ],
   "source": [
    "MSE(pred, user_1_test[2])"
   ]
  },
  {
   "cell_type": "code",
   "execution_count": 252,
   "metadata": {},
   "outputs": [],
   "source": [
    "user_items = user_1[1].tolist()"
   ]
  },
  {
   "cell_type": "code",
   "execution_count": 258,
   "metadata": {},
   "outputs": [],
   "source": [
    "a = []\n",
    "for id in books.book_id.astype(int).tolist():\n",
    "    if id not in user_items:\n",
    "        a.append(id)"
   ]
  },
  {
   "cell_type": "code",
   "execution_count": 261,
   "metadata": {},
   "outputs": [],
   "source": [
    "ids, remained = get_feature_vectors(tfidf_matrix, a)"
   ]
  },
  {
   "cell_type": "code",
   "execution_count": 267,
   "metadata": {},
   "outputs": [],
   "source": [
    "predicts = clf.predict(remained)\n",
    "pre_dict = dict(zip(ids, predicts))"
   ]
  },
  {
   "cell_type": "code",
   "execution_count": 280,
   "metadata": {},
   "outputs": [
    {
     "data": {
      "text/plain": [
       "[165030, 5231173, 14096, 22725443, 682804]"
      ]
     },
     "execution_count": 280,
     "metadata": {},
     "output_type": "execute_result"
    }
   ],
   "source": [
    "list(dict(sorted(pre_dict.items(), key=lambda item: item[1],reverse=True)[:5]).keys())"
   ]
  },
  {
   "cell_type": "code",
   "execution_count": 277,
   "metadata": {},
   "outputs": [
    {
     "data": {
      "text/plain": [
       "book_id                                   165030\n",
       "title      Anybody Out There? (Walsh Family, #4)\n",
       "Name: 2143, dtype: object"
      ]
     },
     "execution_count": 277,
     "metadata": {},
     "output_type": "execute_result"
    }
   ],
   "source": [
    "books.iloc[indices[165030]]"
   ]
  },
  {
   "cell_type": "code",
   "execution_count": null,
   "metadata": {},
   "outputs": [],
   "source": []
  },
  {
   "cell_type": "code",
   "execution_count": null,
   "metadata": {},
   "outputs": [],
   "source": []
  }
 ],
 "metadata": {
  "kernelspec": {
   "display_name": "Python 3",
   "language": "python",
   "name": "python3"
  },
  "language_info": {
   "codemirror_mode": {
    "name": "ipython",
    "version": 3
   },
   "file_extension": ".py",
   "mimetype": "text/x-python",
   "name": "python",
   "nbconvert_exporter": "python",
   "pygments_lexer": "ipython3",
   "version": "3.10.9"
  },
  "orig_nbformat": 4
 },
 "nbformat": 4,
 "nbformat_minor": 2
}
