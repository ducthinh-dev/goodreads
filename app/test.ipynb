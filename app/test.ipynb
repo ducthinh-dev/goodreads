{
 "cells": [
  {
   "cell_type": "code",
   "execution_count": 1,
   "metadata": {},
   "outputs": [],
   "source": [
    "import sys\n",
    "from os import path\n",
    "\n",
    "# dir = path.abspath()\n",
    "# sys.path.append(dir.parent)\n",
    "\n",
    "# from goodreads.models.doc2vec import Doc2VecModel"
   ]
  },
  {
   "cell_type": "code",
   "execution_count": 2,
   "metadata": {},
   "outputs": [],
   "source": [
    "import pandas as pd\n",
    "import numpy as np"
   ]
  },
  {
   "cell_type": "code",
   "execution_count": 3,
   "metadata": {},
   "outputs": [],
   "source": [
    "import sqlalchemy as sa\n",
    "import mysql.connector"
   ]
  },
  {
   "cell_type": "code",
   "execution_count": 4,
   "metadata": {},
   "outputs": [],
   "source": [
    "dir = path.abspath('__file__')\n",
    "sys.path.append(path.dirname(path.dirname(dir)))"
   ]
  },
  {
   "cell_type": "code",
   "execution_count": 5,
   "metadata": {},
   "outputs": [
    {
     "name": "stdout",
     "output_type": "stream",
     "text": [
      "Current time:  2023-06-09 12:20:07\n"
     ]
    }
   ],
   "source": [
    "from setup import setup\n",
    "connector = setup()"
   ]
  },
  {
   "cell_type": "code",
   "execution_count": 6,
   "metadata": {},
   "outputs": [],
   "source": [
    "descr_query = sa.text(\n",
    "    \"select * from processed_description;\"\n",
    ")\n",
    "descr = pd.read_sql_query(descr_query, con=connector.connect())"
   ]
  },
  {
   "cell_type": "code",
   "execution_count": 7,
   "metadata": {},
   "outputs": [
    {
     "name": "stderr",
     "output_type": "stream",
     "text": [
      "[nltk_data] Downloading package punkt to\n",
      "[nltk_data]     C:\\Users\\ACER\\AppData\\Roaming\\nltk_data...\n",
      "[nltk_data]   Package punkt is already up-to-date!\n",
      "[nltk_data] Downloading package stopwords to\n",
      "[nltk_data]     C:\\Users\\ACER\\AppData\\Roaming\\nltk_data...\n",
      "[nltk_data]   Package stopwords is already up-to-date!\n",
      "[nltk_data] Downloading package wordnet to\n",
      "[nltk_data]     C:\\Users\\ACER\\AppData\\Roaming\\nltk_data...\n",
      "[nltk_data]   Package wordnet is already up-to-date!\n",
      "[nltk_data] Downloading package words to\n",
      "[nltk_data]     C:\\Users\\ACER\\AppData\\Roaming\\nltk_data...\n",
      "[nltk_data]   Package words is already up-to-date!\n"
     ]
    }
   ],
   "source": [
    "from models.doc2vec import Doc2VecModel\n",
    "model = Doc2VecModel(descr, 'goodreads_book_id', 'processed_descr')\n",
    "model.fit()"
   ]
  },
  {
   "cell_type": "code",
   "execution_count": 8,
   "metadata": {},
   "outputs": [],
   "source": [
    "recommends = model.get_recommendations(3)"
   ]
  },
  {
   "cell_type": "code",
   "execution_count": 9,
   "metadata": {},
   "outputs": [
    {
     "data": {
      "text/plain": [
       "[12296, 114982, 121792, 17567]"
      ]
     },
     "execution_count": 9,
     "metadata": {},
     "output_type": "execute_result"
    }
   ],
   "source": [
    "recommends"
   ]
  },
  {
   "cell_type": "code",
   "execution_count": 10,
   "metadata": {},
   "outputs": [],
   "source": [
    "books_query = sa.text(\n",
    "    \"select * from books;\"\n",
    ")\n",
    "books = pd.read_sql_query(books_query, con=connector.connect())"
   ]
  },
  {
   "cell_type": "code",
   "execution_count": 11,
   "metadata": {},
   "outputs": [],
   "source": [
    "indices, _ = model.get_docvecs()"
   ]
  },
  {
   "cell_type": "code",
   "execution_count": 20,
   "metadata": {},
   "outputs": [
    {
     "data": {
      "text/plain": [
       "goodreads_book_id\n",
       "12296      135\n",
       "114982    7532\n",
       "121792    8819\n",
       "17567     7700\n",
       "dtype: int64"
      ]
     },
     "execution_count": 20,
     "metadata": {},
     "output_type": "execute_result"
    }
   ],
   "source": [
    "indices[recommends]"
   ]
  },
  {
   "cell_type": "code",
   "execution_count": 21,
   "metadata": {},
   "outputs": [
    {
     "data": {
      "text/html": [
       "<div>\n",
       "<style scoped>\n",
       "    .dataframe tbody tr th:only-of-type {\n",
       "        vertical-align: middle;\n",
       "    }\n",
       "\n",
       "    .dataframe tbody tr th {\n",
       "        vertical-align: top;\n",
       "    }\n",
       "\n",
       "    .dataframe thead th {\n",
       "        text-align: right;\n",
       "    }\n",
       "</style>\n",
       "<table border=\"1\" class=\"dataframe\">\n",
       "  <thead>\n",
       "    <tr style=\"text-align: right;\">\n",
       "      <th></th>\n",
       "      <th>goodreads_book_id</th>\n",
       "      <th>isbn</th>\n",
       "      <th>isbn13</th>\n",
       "      <th>original_publication_year</th>\n",
       "      <th>original_title</th>\n",
       "      <th>title</th>\n",
       "      <th>language_code</th>\n",
       "      <th>average_rating</th>\n",
       "      <th>ratings_count</th>\n",
       "      <th>description</th>\n",
       "    </tr>\n",
       "  </thead>\n",
       "  <tbody>\n",
       "    <tr>\n",
       "      <th>135</th>\n",
       "      <td>12296</td>\n",
       "      <td>142437263</td>\n",
       "      <td>9780142437260.0</td>\n",
       "      <td>1850.0</td>\n",
       "      <td>The Scarlet Letter</td>\n",
       "      <td>The Scarlet Letter</td>\n",
       "      <td>eng</td>\n",
       "      <td>3.37</td>\n",
       "      <td>509883</td>\n",
       "      <td>Set in 17th-century Puritan Boston, Massachuse...</td>\n",
       "    </tr>\n",
       "    <tr>\n",
       "      <th>7532</th>\n",
       "      <td>114982</td>\n",
       "      <td>394895894</td>\n",
       "      <td>9780394895900.0</td>\n",
       "      <td>1985.0</td>\n",
       "      <td>The Ruby in the Smoke</td>\n",
       "      <td>The Ruby in the Smoke (Sally Lockhart, #1)</td>\n",
       "      <td>eng</td>\n",
       "      <td>3.75</td>\n",
       "      <td>16214</td>\n",
       "      <td>Sally is sixteen and uncommonly pretty. Her kn...</td>\n",
       "    </tr>\n",
       "    <tr>\n",
       "      <th>8819</th>\n",
       "      <td>121792</td>\n",
       "      <td>1417642122</td>\n",
       "      <td>9781417642120.0</td>\n",
       "      <td>1991.0</td>\n",
       "      <td>The Revenge of the Baby-Sat: A Calvin and Hobb...</td>\n",
       "      <td>The Revenge of the Baby-Sat</td>\n",
       "      <td>eng</td>\n",
       "      <td>4.71</td>\n",
       "      <td>11503</td>\n",
       "      <td>The praise and popularity of Calvin and Hobbes...</td>\n",
       "    </tr>\n",
       "    <tr>\n",
       "      <th>7700</th>\n",
       "      <td>17567</td>\n",
       "      <td>1576469115</td>\n",
       "      <td>9781576469120.0</td>\n",
       "      <td>1909.0</td>\n",
       "      <td>A Girl of the Limberlost</td>\n",
       "      <td>A Girl of the Limberlost (Limberlost, #2)</td>\n",
       "      <td>eng</td>\n",
       "      <td>4.14</td>\n",
       "      <td>13071</td>\n",
       "      <td>Set amid Indiana's vast Limberlost Swamp, this...</td>\n",
       "    </tr>\n",
       "  </tbody>\n",
       "</table>\n",
       "</div>"
      ],
      "text/plain": [
       "     goodreads_book_id        isbn           isbn13 original_publication_year  \\\n",
       "135              12296   142437263  9780142437260.0                    1850.0   \n",
       "7532            114982   394895894  9780394895900.0                    1985.0   \n",
       "8819            121792  1417642122  9781417642120.0                    1991.0   \n",
       "7700             17567  1576469115  9781576469120.0                    1909.0   \n",
       "\n",
       "                                         original_title  \\\n",
       "135                                  The Scarlet Letter   \n",
       "7532                              The Ruby in the Smoke   \n",
       "8819  The Revenge of the Baby-Sat: A Calvin and Hobb...   \n",
       "7700                           A Girl of the Limberlost   \n",
       "\n",
       "                                           title language_code  \\\n",
       "135                           The Scarlet Letter           eng   \n",
       "7532  The Ruby in the Smoke (Sally Lockhart, #1)           eng   \n",
       "8819                 The Revenge of the Baby-Sat           eng   \n",
       "7700   A Girl of the Limberlost (Limberlost, #2)           eng   \n",
       "\n",
       "      average_rating  ratings_count  \\\n",
       "135             3.37         509883   \n",
       "7532            3.75          16214   \n",
       "8819            4.71          11503   \n",
       "7700            4.14          13071   \n",
       "\n",
       "                                            description  \n",
       "135   Set in 17th-century Puritan Boston, Massachuse...  \n",
       "7532  Sally is sixteen and uncommonly pretty. Her kn...  \n",
       "8819  The praise and popularity of Calvin and Hobbes...  \n",
       "7700  Set amid Indiana's vast Limberlost Swamp, this...  "
      ]
     },
     "execution_count": 21,
     "metadata": {},
     "output_type": "execute_result"
    }
   ],
   "source": [
    "books.iloc[indices[recommends]]"
   ]
  },
  {
   "cell_type": "code",
   "execution_count": 24,
   "metadata": {},
   "outputs": [],
   "source": [
    "chosen = books.loc[books.goodreads_book_id == '3']"
   ]
  },
  {
   "cell_type": "code",
   "execution_count": 28,
   "metadata": {},
   "outputs": [
    {
     "data": {
      "text/plain": [
       "\"Harry Potter and the Sorcerer's Stone (Harry Potter, #1)\""
      ]
     },
     "execution_count": 28,
     "metadata": {},
     "output_type": "execute_result"
    }
   ],
   "source": [
    "chosen.title.values[0]"
   ]
  },
  {
   "cell_type": "code",
   "execution_count": 30,
   "metadata": {},
   "outputs": [],
   "source": [
    "recommended_book = books[['title', 'average_rating', 'description']].iloc[indices[recommends]]"
   ]
  },
  {
   "cell_type": "code",
   "execution_count": 45,
   "metadata": {},
   "outputs": [],
   "source": [
    "recommended_book = recommended_book.reset_index()"
   ]
  },
  {
   "cell_type": "code",
   "execution_count": 48,
   "metadata": {},
   "outputs": [
    {
     "data": {
      "text/html": [
       "<div>\n",
       "<style scoped>\n",
       "    .dataframe tbody tr th:only-of-type {\n",
       "        vertical-align: middle;\n",
       "    }\n",
       "\n",
       "    .dataframe tbody tr th {\n",
       "        vertical-align: top;\n",
       "    }\n",
       "\n",
       "    .dataframe thead th {\n",
       "        text-align: right;\n",
       "    }\n",
       "</style>\n",
       "<table border=\"1\" class=\"dataframe\">\n",
       "  <thead>\n",
       "    <tr style=\"text-align: right;\">\n",
       "      <th></th>\n",
       "      <th>title</th>\n",
       "      <th>average_rating</th>\n",
       "      <th>description</th>\n",
       "    </tr>\n",
       "  </thead>\n",
       "  <tbody>\n",
       "    <tr>\n",
       "      <th>0</th>\n",
       "      <td>The Scarlet Letter</td>\n",
       "      <td>3.37</td>\n",
       "      <td>Set in 17th-century Puritan Boston, Massachuse...</td>\n",
       "    </tr>\n",
       "    <tr>\n",
       "      <th>1</th>\n",
       "      <td>The Ruby in the Smoke (Sally Lockhart, #1)</td>\n",
       "      <td>3.75</td>\n",
       "      <td>Sally is sixteen and uncommonly pretty. Her kn...</td>\n",
       "    </tr>\n",
       "    <tr>\n",
       "      <th>2</th>\n",
       "      <td>The Revenge of the Baby-Sat</td>\n",
       "      <td>4.71</td>\n",
       "      <td>The praise and popularity of Calvin and Hobbes...</td>\n",
       "    </tr>\n",
       "    <tr>\n",
       "      <th>3</th>\n",
       "      <td>A Girl of the Limberlost (Limberlost, #2)</td>\n",
       "      <td>4.14</td>\n",
       "      <td>Set amid Indiana's vast Limberlost Swamp, this...</td>\n",
       "    </tr>\n",
       "  </tbody>\n",
       "</table>\n",
       "</div>"
      ],
      "text/plain": [
       "                                        title  average_rating  \\\n",
       "0                          The Scarlet Letter            3.37   \n",
       "1  The Ruby in the Smoke (Sally Lockhart, #1)            3.75   \n",
       "2                 The Revenge of the Baby-Sat            4.71   \n",
       "3   A Girl of the Limberlost (Limberlost, #2)            4.14   \n",
       "\n",
       "                                         description  \n",
       "0  Set in 17th-century Puritan Boston, Massachuse...  \n",
       "1  Sally is sixteen and uncommonly pretty. Her kn...  \n",
       "2  The praise and popularity of Calvin and Hobbes...  \n",
       "3  Set amid Indiana's vast Limberlost Swamp, this...  "
      ]
     },
     "execution_count": 48,
     "metadata": {},
     "output_type": "execute_result"
    }
   ],
   "source": [
    "recommended_book.drop(columns=['index'], inplace=True)\n",
    "recommended_book"
   ]
  },
  {
   "cell_type": "code",
   "execution_count": null,
   "metadata": {},
   "outputs": [],
   "source": []
  }
 ],
 "metadata": {
  "kernelspec": {
   "display_name": "Python 3",
   "language": "python",
   "name": "python3"
  },
  "language_info": {
   "codemirror_mode": {
    "name": "ipython",
    "version": 3
   },
   "file_extension": ".py",
   "mimetype": "text/x-python",
   "name": "python",
   "nbconvert_exporter": "python",
   "pygments_lexer": "ipython3",
   "version": "3.10.9"
  },
  "orig_nbformat": 4
 },
 "nbformat": 4,
 "nbformat_minor": 2
}
